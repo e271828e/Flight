{
 "cells": [
  {
   "cell_type": "markdown",
   "metadata": {},
   "source": [
    "RPM = [1800 1900 2000 2100 2200 2300 2400 2500 2600 2700]\n",
    "P_O360 = [142.7 149.1 155.5 164.1 169.5 174.8 179.1 183.4 186.4]\n",
    "P_IO360 = [129.1 138.9 149.7 157.3 168.6 177.9 186.4 196.0 203.5]"
   ]
  },
  {
   "cell_type": "code",
   "execution_count": null,
   "metadata": {},
   "outputs": [],
   "source": []
  }
 ],
 "metadata": {
  "language_info": {
   "name": "plaintext"
  },
  "orig_nbformat": 4
 },
 "nbformat": 4,
 "nbformat_minor": 2
}
