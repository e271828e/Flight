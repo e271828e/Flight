{
 "cells": [
  {
   "cell_type": "code",
   "execution_count": 2,
   "source": [
    "using DelimitedFiles\r\n",
    "\r\n",
    "A = readdlm(\"sketches/ww15mgh.grd\", skipstart = 1)\r\n",
    "A1 = permutedims(A); #transpose into column major order\r\n",
    "a1 = vec(A1); #concatenate into a vector to remove unwanted string elements\r\n",
    "a1_clean = filter(x -> !(x isa AbstractString), a1);\r\n",
    "a_f32 = convert(Array{Float32, 1}, a1_clean) #cast to Float32\r\n",
    "#we know that each sequence of 1441 elements corresponds to a constant-latitude\r\n",
    "#set of values. after reshaping, each column is a constant-latitude set of\r\n",
    "#values running over lon [-pi, pi]\r\n",
    "A_F32 = reshape(a_f32, 1441, :); \r\n",
    "A_F32 = permutedims(A_F32); #transpose so that each row corresponds to a latitude value\r\n",
    "#in the original text file latitude decreases from π/2 to -π/2, we need to flip\r\n",
    "#it!\r\n",
    "A_final = reverse(A_F32, dims = 1);\r\n",
    "\r\n",
    "#write as big endian\r\n",
    "open(\"ww15mgh_be.bin\", \"w\") do f #opens the specified file, returns it as f, and applies to it the function in the block \r\n",
    "    write(f, hton.(A_final))\r\n",
    "end\r\n",
    "\r\n",
    "#write as little endian\r\n",
    "open(\"ww15mgh_le.bin\", \"w\") do f #opens the specified file, returns it as f, and applies to it the function in the block \r\n",
    "    write(f, htol.(A_final))\r\n",
    "end\r\n",
    "\r\n",
    "#read from big endian\r\n",
    "A_tmp = Matrix{Float32}(undef, 721, 1441)\r\n",
    "open(\"ww15mgh_be.bin\", \"r\") do f\r\n",
    "    read!(f, A_tmp)\r\n",
    "end\r\n",
    "A_retrieved = ntoh.(A_tmp)\r\n",
    "@assert all(A_retrieved[end,:] .== Float32(13.606))\r\n",
    "@assert all(A_retrieved[1,:] .== Float32(-29.534))\r\n",
    "\r\n",
    "A_tmp = Matrix{Float32}(undef, 721, 1441)\r\n",
    "open(\"ww15mgh_le.bin\", \"r\") do f\r\n",
    "    read!(f, A_tmp)\r\n",
    "end\r\n",
    "A_retrieved = ltoh.(A_tmp)\r\n",
    "@assert all(A_retrieved[end,:] .== Float32(13.606))\r\n",
    "@assert all(A_retrieved[1,:] .== Float32(-29.534))"
   ],
   "outputs": [
    {
     "output_type": "error",
     "ename": "ArgumentError",
     "evalue": "ArgumentError: Cannot open 'sketches/ww15mgh.grd': not a file",
     "traceback": [
      "\n",
      "Stacktrace:\n",
      "  [1] readdlm_auto(input::String, dlm::Char, T::Type, eol::Char, auto::Bool; opts::Base.Iterators.Pairs{Symbol, Int64, Tuple{Symbol}, NamedTuple{(:skipstart,), Tuple{Int64}}})\n",
      "    @ DelimitedFiles C:\\buildbot\\worker\\package_win64\\build\\usr\\share\\julia\\stdlib\\v1.6\\DelimitedFiles\\src\\DelimitedFiles.jl:233\n",
      "  [2] #readdlm#5\n",
      "    @ C:\\buildbot\\worker\\package_win64\\build\\usr\\share\\julia\\stdlib\\v1.6\\DelimitedFiles\\src\\DelimitedFiles.jl:170 [inlined]\n",
      "  [3] #readdlm#3\n",
      "    @ C:\\buildbot\\worker\\package_win64\\build\\usr\\share\\julia\\stdlib\\v1.6\\DelimitedFiles\\src\\DelimitedFiles.jl:118 [inlined]\n",
      "  [4] top-level scope\n",
      "    @ ~\\Repos\\Julia\\Flight\\sketches\\geoid96.ipynb:3\n",
      "  [5] eval\n",
      "    @ .\\boot.jl:360 [inlined]\n",
      "  [6] include_string(mapexpr::typeof(REPL.softscope), mod::Module, code::String, filename::String)\n",
      "    @ Base .\\loading.jl:1094\n",
      "  [7] #invokelatest#2\n",
      "    @ .\\essentials.jl:708 [inlined]\n",
      "  [8] invokelatest\n",
      "    @ .\\essentials.jl:706 [inlined]\n",
      "  [9] (::VSCodeServer.var\"#98#99\"{VSCodeServer.NotebookRunCellArguments, String})()\n",
      "    @ VSCodeServer ~\\.vscode\\extensions\\julialang.language-julia-1.3.33\\scripts\\packages\\VSCodeServer\\src\\serve_notebook.jl:18\n",
      " [10] withpath(f::VSCodeServer.var\"#98#99\"{VSCodeServer.NotebookRunCellArguments, String}, path::String)\n",
      "    @ VSCodeServer ~\\.vscode\\extensions\\julialang.language-julia-1.3.33\\scripts\\packages\\VSCodeServer\\src\\repl.jl:185\n",
      " [11] notebook_runcell_request(conn::VSCodeServer.JSONRPC.JSONRPCEndpoint{Base.PipeEndpoint, Base.PipeEndpoint}, params::VSCodeServer.NotebookRunCellArguments)\n",
      "    @ VSCodeServer ~\\.vscode\\extensions\\julialang.language-julia-1.3.33\\scripts\\packages\\VSCodeServer\\src\\serve_notebook.jl:14\n",
      " [12] dispatch_msg(x::VSCodeServer.JSONRPC.JSONRPCEndpoint{Base.PipeEndpoint, Base.PipeEndpoint}, dispatcher::VSCodeServer.JSONRPC.MsgDispatcher, msg::Dict{String, Any})\n",
      "    @ VSCodeServer.JSONRPC ~\\.vscode\\extensions\\julialang.language-julia-1.3.33\\scripts\\packages\\JSONRPC\\src\\typed.jl:67\n",
      " [13] serve_notebook(pipename::String; crashreporting_pipename::String)\n",
      "    @ VSCodeServer ~\\.vscode\\extensions\\julialang.language-julia-1.3.33\\scripts\\packages\\VSCodeServer\\src\\serve_notebook.jl:94\n",
      " [14] top-level scope\n",
      "    @ ~\\.vscode\\extensions\\julialang.language-julia-1.3.33\\scripts\\notebook\\notebook.jl:10\n",
      " [15] include(mod::Module, _path::String)\n",
      "    @ Base .\\Base.jl:386\n",
      " [16] exec_options(opts::Base.JLOptions)\n",
      "    @ Base .\\client.jl:285\n",
      " [17] _start()\n",
      "    @ Base .\\client.jl:485"
     ]
    }
   ],
   "metadata": {}
  },
  {
   "cell_type": "code",
   "execution_count": 12,
   "source": [
    "B = []"
   ],
   "outputs": [],
   "metadata": {}
  }
 ],
 "metadata": {
  "orig_nbformat": 4,
  "language_info": {
   "name": "plaintext"
  }
 },
 "nbformat": 4,
 "nbformat_minor": 2
}