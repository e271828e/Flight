{
 "cells": [
  {
   "cell_type": "code",
   "execution_count": 2,
   "source": [
    "using DelimitedFiles\r\n",
    "\r\n",
    "A = readdlm(\"sketches/ww15mgh.grd\", skipstart = 1)\r\n",
    "A1 = permutedims(A); #transpose into column major order\r\n",
    "a1 = vec(A1); #concatenate into a vector to remove unwanted string elements\r\n",
    "a1_clean = filter(x -> !(x isa AbstractString), a1);\r\n",
    "a_f32 = convert(Array{Float32, 1}, a1_clean) #cast to Float64\r\n",
    "#we know that each sequence of 1441 elements corresponds to a constant-latitude\r\n",
    "#set of values. after reshaping, each column is a constant-latitude set of\r\n",
    "#values running over lon [-pi, pi]\r\n",
    "A_F32 = reshape(a_f32, 1441, :) \r\n",
    "A_final = permutedims(A_F32) #transpose so that each row corresponds to a latitude value\r\n",
    "open(\"ww15mgh.bin\", \"w\") do f #opens the specified file, returns it as f, and applies to it the function in the block \r\n",
    "    write(f, htol(A_final))\r\n",
    "end\r\n",
    "A_retrieved = Matrix{Float32}(undef, 721, 1441)\r\n",
    "open(\"ww15mgh.bin\", \"r\") do f\r\n",
    "    ltoh(read!(f, A_retrieved))\r\n",
    "end\r\n",
    "\r\n",
    "#ADD HASH TO FILE TO ensure integrity, then load as\r\n",
    "const EGM96_geoid_offset = Matrix{Float32}(undef, 721, 1441)\r\n",
    "open(\"ww15mgh.bin\", \"r\") do f\r\n",
    "    ltoh(read!(f, EGM96_geoid_offset))\r\n",
    "end\r\n",
    "\r\n",
    "@assert all(A_retrieved[1,:] .== 13.606)\r\n",
    "@assert all(A_retrieved[end,:] .== -29.534)"
   ],
   "outputs": [
    {
     "data": {
      "text/plain": [
       "1038961-element Vector{Float64}:\n",
       "  13.606\n",
       "  13.606\n",
       "  13.606\n",
       "  13.606\n",
       "  13.606\n",
       "  13.606\n",
       "  13.606\n",
       "  13.606\n",
       "  13.606\n",
       "  13.606\n",
       "   ⋮\n",
       " -29.534\n",
       " -29.534\n",
       " -29.534\n",
       " -29.534\n",
       " -29.534\n",
       " -29.534\n",
       " -29.534\n",
       " -29.534\n",
       " -29.534"
      ]
     },
     "metadata": {},
     "output_type": "display_data"
    }
   ],
   "metadata": {}
  },
  {
   "cell_type": "code",
   "execution_count": 12,
   "source": [
    "B = []"
   ],
   "outputs": [],
   "metadata": {}
  }
 ],
 "metadata": {
  "orig_nbformat": 4,
  "language_info": {
   "name": "plaintext"
  }
 },
 "nbformat": 4,
 "nbformat_minor": 2
}