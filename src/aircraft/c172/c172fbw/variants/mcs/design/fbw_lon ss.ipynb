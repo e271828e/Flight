{
 "cells": [
  {
   "cell_type": "code",
   "execution_count": 1,
   "metadata": {},
   "outputs": [],
   "source": [
    "using Flight.FlightCore.Systems\n",
    "using Flight.FlightCore.Plotting\n",
    "\n",
    "using Flight.FlightPhysics.Geodesy\n",
    "using Flight.FlightPhysics.Kinematics\n",
    "using Flight.FlightComponents.Aircraft\n",
    "using Flight.FlightComponents.Control\n",
    "using Flight.FlightAircraft.C172FBW\n",
    "using Flight.FlightAircraft.C172\n",
    "\n",
    "using UnPack\n",
    "using ControlSystems\n",
    "using RobustAndOptimalControl\n",
    "using ComponentArrays\n",
    "using LinearAlgebra"
   ]
  },
  {
   "cell_type": "code",
   "execution_count": 2,
   "metadata": {},
   "outputs": [],
   "source": [
    "ac = Cessna172FBWBase(NED()) |> System #linearization requires NED kinematics\n",
    "\n",
    "#same mass in all cases\n",
    "fwd_cg_pld = C172.PayloadU(m_pilot = 100, m_copilot = 100, m_baggage = 0)\n",
    "aft_cg_pld = C172.PayloadU(m_pilot = 50, m_copilot = 50, m_baggage = 100)\n",
    "mid_cg_pld = C172.PayloadU(m_pilot = 75, m_copilot = 75, m_baggage = 50)\n",
    "\n",
    "design_condition = C172.TrimParameters(\n",
    "    Ob = Geographic(LatLon(), HOrth(1000)),\n",
    "    EAS = 40.0,\n",
    "    γ_wOb_n = 0.0,\n",
    "    x_fuel = 0.5,\n",
    "    flaps = 0.0,\n",
    "    payload = mid_cg_pld)\n",
    "\n",
    "lss_lon = Control.LinearStateSpace(ac, design_condition; model = :lon);\n",
    "nss_lon = named_ss(lss_lon);\n",
    "\n",
    "x_labels = [:q, :θ, :v_x, :v_z, :α_filt, :ω_eng, :ele_v, :ele_p, :thr_v, :thr_p]\n",
    "u_labels = [:elevator_cmd, :throttle_cmd]\n",
    "y_labels = [:q, :θ, :α, :EAS, :TAS, :f_x, :f_z, :γ, :c, :ω_eng, :v_D]\n",
    "# x_labels_pitch = [:q, :θ, :v_x, :v_z, :α_filt, :ele_v, :ele_p]\n",
    "# u_labels_pitch = [:elevator_cmd]\n",
    "# y_labels_pitch = [:q, :θ, :α, :EAS]\n",
    "\n",
    "lss = submodel(lss_lon; x = x_labels, u = u_labels, y = y_labels)\n",
    "nss = named_ss(lss);"
   ]
  },
  {
   "cell_type": "markdown",
   "metadata": {},
   "source": [
    "## 1. Longitudinal Dynamics Regulator"
   ]
  },
  {
   "cell_type": "code",
   "execution_count": 3,
   "metadata": {},
   "outputs": [
    {
     "name": "stdout",
     "output_type": "stream",
     "text": [
      "|        Pole        |   Damping     |   Frequency   |   Frequency   | Time Constant |\n",
      "|                    |    Ratio      |   (rad/sec)   |     (Hz)      |     (sec)     |\n",
      "+--------------------+---------------+---------------+---------------+---------------+\n"
     ]
    },
    {
     "name": "stdout",
     "output_type": "stream",
     "text": [
      "| -0.000369          |  1            |  0.000369     |  5.87e-05     |  2.71e+03     |\n"
     ]
    },
    {
     "name": "stdout",
     "output_type": "stream",
     "text": [
      "| -0.0176 ±  0.293im |  0.0601       |  0.293        |  0.0467       |  56.8         |\n",
      "| -4.42   ±   5.14im |  0.652        |  6.78         |  1.08         |  0.226        |\n",
      "| -9.72              |  1            |  9.72         |  1.55         |  0.103        |\n",
      "| -18.8   ±   25.1im |  0.6          |  31.4         |  5            |  0.0531       |\n",
      "| -18.8   ±   25.1im |  0.6          |  31.4         |  5            |  0.0531       |\n",
      "| -48.1              |  1            |  48.1         |  7.65         |  0.0208       |\n",
      "|        Pole        |   Damping     |   Frequency   |   Frequency   | Time Constant |\n",
      "|                    |    Ratio      |   (rad/sec)   |     (Hz)      |     (sec)     |\n",
      "+--------------------+---------------+---------------+---------------+---------------+\n",
      "| -0.0178 ±  0.291im |  0.061        |  0.292        |  0.0465       |  56.2         |\n",
      "| -4.42   ±   5.14im |  0.652        |  6.78         |  1.08         |  0.226        |\n",
      "| -9.72              |  1            |  9.72         |  1.55         |  0.103        |\n",
      "| -18.8   ±   25.1im |  0.6          |  31.4         |  5            |  0.0531       |\n",
      "| -18.8   ±   25.1im |  0.6          |  31.4         |  5            |  0.0531       |\n",
      "| -48.1              |  1            |  48.1         |  7.65         |  0.0208       |\n"
     ]
    }
   ],
   "source": [
    "dampreport(nss_lon)\n",
    "dampreport(nss)"
   ]
  },
  {
   "cell_type": "markdown",
   "metadata": {},
   "source": [
    "We see that removing $h$ as a state eliminates an extremely slow pole, probably related to the effect of altitude on engine output. The remaining poles are virtually unaffected. Also, it significantly improves the condition of the dynamics matrix:"
   ]
  },
  {
   "cell_type": "code",
   "execution_count": 4,
   "metadata": {},
   "outputs": [
    {
     "data": {
      "text/plain": [
       "7.656238481914206e7"
      ]
     },
     "metadata": {},
     "output_type": "display_data"
    },
    {
     "data": {
      "text/plain": [
       "440485.8084271008"
      ]
     },
     "metadata": {},
     "output_type": "display_data"
    }
   ],
   "source": [
    "cond(nss_lon.A) |> display\n",
    "cond(nss.A) |> display"
   ]
  },
  {
   "cell_type": "markdown",
   "metadata": {},
   "source": [
    "Thus, we will take the MIMO system without $h$ as our plant baseline. Let's start by designing a full-state feedback regulator for the MIMO system."
   ]
  },
  {
   "cell_type": "code",
   "execution_count": 5,
   "metadata": {},
   "outputs": [
    {
     "data": {
      "text/plain": [
       "10×10 Matrix{Float64}:\n",
       "   5.24175       1.73723e-6     16.7863   …      -1.50383       0.0315657\n",
       "   1.73723e-6    2.18367       -11.5022          -0.0315657    -0.000317977\n",
       "  16.7863      -11.5022       2237.85            -8.17028       0.13902\n",
       "  10.7133        6.44921        12.2094          -1.2785       -0.00806454\n",
       "   0.131826      0.175557       -3.5167          -0.00366141   -0.000503233\n",
       "  61.871       -19.3129       5345.69     …  -10227.3         490.683\n",
       " -93.4314       -4.34506        77.9313           0.0           0.0\n",
       "   4.34507       0.0713036      -3.16453          0.0           0.0\n",
       "  -1.50383      -0.0315657      -8.17028      12919.3           0.0\n",
       "   0.0315657    -0.000317977     0.13902          0.0          13.09"
      ]
     },
     "metadata": {},
     "output_type": "display_data"
    }
   ],
   "source": [
    "gram(nss, :c)"
   ]
  },
  {
   "cell_type": "markdown",
   "metadata": {},
   "source": [
    "The open-loop system is:\n",
    "$$\\Delta \\dot{x} = A \\Delta x + B \\Delta u$$\n",
    "$$\\Delta y = C \\Delta x$$\n",
    "\n",
    "The regulator control law is simply $\\Delta u = -K \\Delta x$, which results in a homogeneous closed-loop system:\n",
    "$$\\Delta \\dot{x} = (A -BK) \\Delta x$$\n",
    "$$\\Delta y = C \\Delta x$$\n",
    "\n",
    "To retain control over the system, we instead use the control law $\\Delta u = -K \\Delta x + \\Delta u_{ext}$, which gives:\n",
    "$$\\Delta \\dot{x} = (A - BK) \\Delta x + B \\Delta u_{ext}$$\n",
    "$$\\Delta y = C \\Delta x$$\n",
    "\n",
    "This system has the same stability properties as the homogeneous one."
   ]
  },
  {
   "cell_type": "markdown",
   "metadata": {},
   "source": [
    "## FROM HERE. Scale v_x and v_z costs with v norm"
   ]
  },
  {
   "cell_type": "code",
   "execution_count": 6,
   "metadata": {},
   "outputs": [
    {
     "ename": "UndefVarError",
     "evalue": "UndefVarError: `x_labels_pitch` not defined",
     "output_type": "error",
     "traceback": [
      "UndefVarError: `x_labels_pitch` not defined\n",
      "\n",
      "Stacktrace:\n",
      " [1] top-level scope\n",
      "   @ c:\\Users\\Miguel\\.julia\\dev\\Flight\\src\\aircraft\\c172\\c172fbw\\variants\\mcs\\design\\fbw_lon ss.ipynb:4"
     ]
    }
   ],
   "source": [
    "#we do not particularly care about driving the elevator velocity and position\n",
    "#back to zero as fast as possible. we do care about q, θ and α\n",
    "v_ref = sqrt(lss.x0.v_x^2 + lss.x0.v_z^2)\n",
    "diagQ_pitch = ComponentVector(q = 1, θ = 1, v_x = 1, v_z = 1, α_filt = 0, ele_v = 0, ele_p = 0)\n",
    "Q_pitch = ComponentMatrix(diagm(diagQ_pitch), Axis(x_labels_pitch), Axis(x_labels_pitch))\n",
    "R_pitch = 5\n",
    "\n",
    "#gain matrix for the reduced pitch dynamics\n",
    "K_pitch = lqr(nss_pitch, Q_pitch, R_pitch)\n",
    "display(K_pitch)\n",
    "\n",
    "#add pitch regulation to the reduced pitch dynamics\n",
    "A_pitch_sas = lss_pitch.A - lss_pitch.B * K_pitch\n",
    "nss_pitch_sas = named_ss(ss(A_pitch_sas, lss_pitch.B, lss_pitch.C, 0), u = [:sas_pitch_cmd], x = nss_pitch.x, y = nss_pitch.y);\n",
    "\n",
    "dampreport(nss_pitch)\n",
    "dampreport(nss_pitch_sas)\n",
    "e2q = nss_pitch[:q, :elevator_cmd]\n",
    "e2q_sas = nss_pitch_sas[:q, :sas_pitch_cmd]\n",
    "e2θ = nss_pitch[:θ, :elevator_cmd]\n",
    "e2θ_sas = nss_pitch_sas[:θ, :sas_pitch_cmd]\n",
    "step(e2q, 10) |> plot\n",
    "step(e2q_sas, 10) |> plot!\n",
    "\n",
    "A_pitch_sas[:θ, :]"
   ]
  },
  {
   "cell_type": "code",
   "execution_count": 7,
   "metadata": {},
   "outputs": [
    {
     "ename": "UndefVarError",
     "evalue": "UndefVarError: `K_pitch` not defined",
     "output_type": "error",
     "traceback": [
      "UndefVarError: `K_pitch` not defined\n",
      "\n",
      "Stacktrace:\n",
      " [1] top-level scope\n",
      "   @ c:\\Users\\Miguel\\.julia\\dev\\Flight\\src\\aircraft\\c172\\c172fbw\\variants\\mcs\\design\\fbw_lon ss.ipynb:5"
     ]
    }
   ],
   "source": [
    "#build a gain matrix for the complete longitudinal dynamics and assign the\n",
    "#components corresponding to the gain matrix computed from the reduced pitch\n",
    "#dynamics\n",
    "K_pitch_full = fill!(lss_lon.u0 * lss_lon.x0', 0)\n",
    "K_pitch_full[:elevator_cmd, x_labels_pitch] = K_pitch\n",
    "A_pitch_full_sas = lss_lon.A - lss_lon.B * K_pitch_full;\n",
    "\n",
    "#add pitch regulation to the full longitudinal dynamics\n",
    "nss_lon_sas = named_ss(ss(A_pitch_full_sas, lss_lon.B, lss_lon.C, 0), u = [:sas_pitch_cmd, :throttle_cmd], x = nss_lon.x, y = nss_lon.y);\n",
    "\n",
    "dampreport(nss_pitch)\n",
    "dampreport(nss_lon_sas)\n",
    "e2q = nss_lon[:q, :elevator_cmd]\n",
    "e2q_sas = nss_lon_sas[:q, :sas_pitch_cmd]\n",
    "e2θ = nss_lon[:θ, :elevator_cmd]\n",
    "e2θ_sas = nss_lon_sas[:θ, :sas_pitch_cmd]\n",
    "step(e2q, 10) |> plot\n",
    "step(e2q_sas, 10) |> plot!"
   ]
  },
  {
   "cell_type": "code",
   "execution_count": 8,
   "metadata": {},
   "outputs": [
    {
     "ename": "UndefVarError",
     "evalue": "UndefVarError: `e2q` not defined",
     "output_type": "error",
     "traceback": [
      "UndefVarError: `e2q` not defined\n",
      "\n",
      "Stacktrace:\n",
      " [1] top-level scope\n",
      "   @ c:\\Users\\Miguel\\.julia\\dev\\Flight\\src\\aircraft\\c172\\c172fbw\\variants\\mcs\\design\\fbw_lon ss.ipynb:1"
     ]
    }
   ],
   "source": [
    "bodeplot(e2q)"
   ]
  },
  {
   "cell_type": "code",
   "execution_count": 9,
   "metadata": {},
   "outputs": [
    {
     "ename": "UndefVarError",
     "evalue": "UndefVarError: `e2q_sas` not defined",
     "output_type": "error",
     "traceback": [
      "UndefVarError: `e2q_sas` not defined\n",
      "\n",
      "Stacktrace:\n",
      " [1] top-level scope\n",
      "   @ c:\\Users\\Miguel\\.julia\\dev\\Flight\\src\\aircraft\\c172\\c172fbw\\variants\\mcs\\design\\fbw_lon ss.ipynb:1"
     ]
    }
   ],
   "source": [
    "bodeplot(e2q_sas)"
   ]
  },
  {
   "cell_type": "code",
   "execution_count": 10,
   "metadata": {},
   "outputs": [
    {
     "ename": "UndefVarError",
     "evalue": "UndefVarError: `e2q_sas` not defined",
     "output_type": "error",
     "traceback": [
      "UndefVarError: `e2q_sas` not defined\n",
      "\n",
      "Stacktrace:\n",
      " [1] top-level scope\n",
      "   @ c:\\Users\\Miguel\\.julia\\dev\\Flight\\src\\aircraft\\c172\\c172fbw\\variants\\mcs\\design\\fbw_lon ss.ipynb:2"
     ]
    }
   ],
   "source": [
    "\n",
    "P_e2q = e2q_sas\n",
    "C_q2e = named_ss(ss(20 * tf(1, [1, 0, 0])), :C_q2e; u = :q_err, y = :sas_pitch_cmd);\n",
    "L_q2e = series(C_q2e, P_e2q)\n",
    "T_q2e = output_comp_sensitivity(P_e2q, C_q2e)\n",
    "# CS_q2e = G_CS(P_e2q, C_q2e)\n",
    "\n",
    "marginplot(L_q2e)\n",
    "# marginplot(CS_q2e)\n",
    "step(T_q2e, 10) |> plot"
   ]
  }
 ],
 "metadata": {
  "kernelspec": {
   "display_name": "Julia 1.9.2",
   "language": "julia",
   "name": "julia-1.9"
  },
  "language_info": {
   "file_extension": ".jl",
   "mimetype": "application/julia",
   "name": "julia",
   "version": "1.9.2"
  },
  "orig_nbformat": 4
 },
 "nbformat": 4,
 "nbformat_minor": 2
}
