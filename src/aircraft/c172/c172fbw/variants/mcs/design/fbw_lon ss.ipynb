{
 "cells": [
  {
   "cell_type": "code",
   "execution_count": 1,
   "metadata": {},
   "outputs": [],
   "source": [
    "using Flight.FlightCore.Systems\n",
    "using Flight.FlightCore.Plotting\n",
    "\n",
    "using Flight.FlightPhysics.Geodesy\n",
    "using Flight.FlightPhysics.Kinematics\n",
    "using Flight.FlightComponents.Aircraft\n",
    "using Flight.FlightComponents.Control\n",
    "using Flight.FlightAircraft.C172FBW\n",
    "using Flight.FlightAircraft.C172\n",
    "\n",
    "using UnPack\n",
    "using ControlSystems\n",
    "using RobustAndOptimalControl\n",
    "using ComponentArrays\n",
    "using LinearAlgebra"
   ]
  },
  {
   "cell_type": "code",
   "execution_count": 26,
   "metadata": {},
   "outputs": [],
   "source": [
    "ac = Cessna172FBWBase(NED()) |> System #linearization requires NED kinematics\n",
    "\n",
    "design_condition = C172.TrimParameters(\n",
    "    Ob = Geographic(LatLon(), HOrth(1000)),\n",
    "    EAS = 40.0,\n",
    "    γ_wOb_n = 0.0,\n",
    "    x_fuel = 0.5,\n",
    "    flaps = 0.0,\n",
    "    payload = C172.PayloadU(m_pilot = 75, m_copilot = 75, m_baggage = 50))\n",
    "\n",
    "P_lss_full = Control.LinearStateSpace(ac, design_condition; model = :lon);\n",
    "P_nss_full = named_ss(P_lss_full);\n",
    "\n",
    "x_labels = [:q, :θ, :v_x, :v_z, :α_filt, :ω_eng, :ele_v, :ele_p, :thr_v, :thr_p]\n",
    "u_labels = [:elevator_cmd, :throttle_cmd]\n",
    "y_labels = [:q, :θ, :α, :EAS, :TAS, :f_x, :f_z, :γ, :c, :ω_eng, :v_D]\n",
    "# x_labels_pitch = [:q, :θ, :v_x, :v_z, :α_filt, :ele_v, :ele_p]\n",
    "# u_labels_pitch = [:elevator_cmd]\n",
    "# y_labels_pitch = [:q, :θ, :α, :EAS]\n",
    "\n",
    "P_lss = submodel(P_lss_full; x = x_labels, u = u_labels, y = y_labels)\n",
    "P_nss = named_ss(P_lss);"
   ]
  },
  {
   "cell_type": "markdown",
   "metadata": {},
   "source": [
    "## 1. Longitudinal Dynamics Regulator"
   ]
  },
  {
   "cell_type": "code",
   "execution_count": 3,
   "metadata": {},
   "outputs": [
    {
     "name": "stdout",
     "output_type": "stream",
     "text": [
      "|        Pole        |   Damping     |   Frequency   |   Frequency   | Time Constant |\n",
      "|                    |    Ratio      |   (rad/sec)   |     (Hz)      |     (sec)     |\n",
      "+--------------------+---------------+---------------+---------------+---------------+"
     ]
    },
    {
     "name": "stdout",
     "output_type": "stream",
     "text": [
      "\n",
      "| -0.000369          |  1            |  0.000369     |  5.87e-05     |  2.71e+03     |\n"
     ]
    },
    {
     "name": "stdout",
     "output_type": "stream",
     "text": [
      "| -0.0176 ±  0.293im |  0.0601       |  0.293        |  0.0467       |  56.8         |\n",
      "| -4.42   ±   5.14im |  0.652        |  6.78         |  1.08         |  0.226        |\n",
      "| -9.72              |  1            |  9.72         |  1.55         |  0.103        |\n",
      "| -18.8   ±   25.1im |  0.6          |  31.4         |  5            |  0.0531       |\n",
      "| -18.8   ±   25.1im |  0.6          |  31.4         |  5            |  0.0531       |\n",
      "| -48.1              |  1            |  48.1         |  7.65         |  0.0208       |\n",
      "|        Pole        |   Damping     |   Frequency   |   Frequency   | Time Constant |\n",
      "|                    |    Ratio      |   (rad/sec)   |     (Hz)      |     (sec)     |\n",
      "+--------------------+---------------+---------------+---------------+---------------+\n",
      "| -0.0178 ±  0.291im |  0.061        |  0.292        |  0.0465       |  56.2         |\n",
      "| -4.42   ±   5.14im |  0.652        |  6.78         |  1.08         |  0.226        |\n",
      "| -9.72              |  1            |  9.72         |  1.55         |  0.103        |\n",
      "| -18.8   ±   25.1im |  0.6          |  31.4         |  5            |  0.0531       |\n",
      "| -18.8   ±   25.1im |  0.6          |  31.4         |  5            |  0.0531       |\n",
      "| -48.1              |  1            |  48.1         |  7.65         |  0.0208       |\n"
     ]
    }
   ],
   "source": [
    "dampreport(P_nss_full)\n",
    "dampreport(P_nss)"
   ]
  },
  {
   "cell_type": "markdown",
   "metadata": {},
   "source": [
    "We see that removing $h$ as a state eliminates an extremely slow pole, probably related to the effect of altitude on engine output. The remaining poles are virtually unaffected. Also, it significantly improves the condition of the dynamics matrix:"
   ]
  },
  {
   "cell_type": "code",
   "execution_count": 4,
   "metadata": {},
   "outputs": [
    {
     "data": {
      "text/plain": [
       "7.656238481914343e7"
      ]
     },
     "metadata": {},
     "output_type": "display_data"
    },
    {
     "data": {
      "text/plain": [
       "440485.80842732603"
      ]
     },
     "metadata": {},
     "output_type": "display_data"
    }
   ],
   "source": [
    "cond(P_nss_full.A) |> display\n",
    "cond(P_nss.A) |> display"
   ]
  },
  {
   "cell_type": "markdown",
   "metadata": {},
   "source": [
    "Thus, we will take the MIMO system without $h$ as our plant baseline. Let's start by designing a full-state feedback regulator for the MIMO system."
   ]
  },
  {
   "cell_type": "code",
   "execution_count": 27,
   "metadata": {},
   "outputs": [
    {
     "data": {
      "text/plain": [
       "(iscontrollable = true, ranks = [10, 10, 10, 10, 10, 10, 10, 10, 10, 10], sigma_min = [0.0026382090058166643, 1.2392048041221948, 1.2392048041221948, 1.2392048041221948, 1.2392048041221948, 0.4879588010303914, 0.4425611178586627, 0.4425611178586627, 0.040256617772433265, 0.040256617772433265])"
      ]
     },
     "metadata": {},
     "output_type": "display_data"
    }
   ],
   "source": [
    "controllability(P_nss)"
   ]
  },
  {
   "cell_type": "markdown",
   "metadata": {},
   "source": [
    "The open-loop system is:\n",
    "$$\\Delta \\dot{x} = A \\Delta x + B \\Delta u$$\n",
    "$$\\Delta y = C \\Delta x$$\n",
    "\n",
    "The regulator control law is simply $\\Delta u = -K \\Delta x$, which results in a homogeneous closed-loop system:\n",
    "$$\\Delta \\dot{x} = (A -BK) \\Delta x$$\n",
    "$$\\Delta y = C \\Delta x$$\n",
    "\n",
    "To retain control over the system, we instead use the control law $\\Delta u = -K \\Delta x + \\Delta u_{ext}$, which gives:\n",
    "$$\\Delta \\dot{x} = (A - BK) \\Delta x + B \\Delta u_{ext}$$\n",
    "$$\\Delta y = C \\Delta x$$\n",
    "\n",
    "This system has the same stability properties as the homogeneous one."
   ]
  },
  {
   "cell_type": "markdown",
   "metadata": {},
   "source": [
    "## FROM HERE. Scale v_x and v_z costs with v norm"
   ]
  },
  {
   "cell_type": "code",
   "execution_count": 31,
   "metadata": {},
   "outputs": [
    {
     "data": {
      "text/plain": [
       "2×10 Matrix{Float64}:\n",
       " 0.644496    2.49538   -0.0981694  -0.0523089  …  -7.31752e-5   -0.00147389\n",
       " 0.0320388  -0.532192   0.0771073   0.012023       0.000169545   0.00640854"
      ]
     },
     "metadata": {},
     "output_type": "display_data"
    },
    {
     "name": "stderr",
     "output_type": "stream",
     "text": [
      "┌ Warning: The following inputs were unconnected [:elevator_cmd, :throttle_cmd], ignore this warning if you rely on prefix matching\n",
      "└ @ RobustAndOptimalControl C:\\Users\\Miguel\\.julia\\packages\\RobustAndOptimalControl\\CHKAo\\src\\named_systems2.jl:392\n",
      "┌ Warning: The following outputs were unconnected Any[:elevator_cmd, :throttle_cmd, :α, :EAS, :TAS, :f_x, :f_z, :γ, :c, :v_D], ignore this warning if you rely on prefix matching\n",
      "└ @ RobustAndOptimalControl C:\\Users\\Miguel\\.julia\\packages\\RobustAndOptimalControl\\CHKAo\\src\\named_systems2.jl:394\n"
     ]
    },
    {
     "ename": "ErrorException",
     "evalue": "The indexed NamedSystem has no signal named Colon(), available names are [:elevator_cmd, :throttle_cmd, :q, :θ, :α, :EAS, :TAS, :f_x, :f_z, :γ, :c, :ω_eng, :v_D, :elevator_fbk, :throttle_fbk]",
     "output_type": "error",
     "traceback": [
      "The indexed NamedSystem has no signal named Colon(), available names are [:elevator_cmd, :throttle_cmd, :q, :θ, :α, :EAS, :TAS, :f_x, :f_z, :γ, :c, :ω_eng, :v_D, :elevator_fbk, :throttle_fbk]\n",
      "\n",
      "Stacktrace:\n",
      " [1] error(s::String)\n",
      "   @ Base .\\error.jl:35\n",
      " [2] names2indices(names::Vector{Colon}, allnames::Vector{Symbol})\n",
      "   @ RobustAndOptimalControl C:\\Users\\Miguel\\.julia\\packages\\RobustAndOptimalControl\\CHKAo\\src\\named_systems2.jl:591\n",
      " [3] feedback(s1::NamedStateSpace{Continuous, StateSpace{Continuous, Float64}}, s2::NamedStateSpace{Continuous, StateSpace{Continuous, Bool}}; u1::Vector{Symbol}, w1::Vector{Symbol}, z1::Vector{Colon}, y1::Vector{Symbol}, u2::Function, y2::Function, w2::Vector{Any}, z2::Vector{Any}, kwargs::Base.Pairs{Symbol, Bool, Tuple{Symbol}, NamedTuple{(:pos_feedback,), Tuple{Bool}}})\n",
      "   @ RobustAndOptimalControl C:\\Users\\Miguel\\.julia\\packages\\RobustAndOptimalControl\\CHKAo\\src\\named_systems2.jl:354\n",
      " [4] connect(systems::Vector{NamedStateSpace{Continuous, StateSpace{Continuous, Float64}}}; u1::Vector{Symbol}, y1::Vector{Symbol}, w1::Vector{Symbol}, z1::Vector{Colon}, verbose::Bool, kwargs::Base.Pairs{Symbol, Union{}, Tuple{}, NamedTuple{(), Tuple{}}})\n",
      "   @ RobustAndOptimalControl C:\\Users\\Miguel\\.julia\\packages\\RobustAndOptimalControl\\CHKAo\\src\\named_systems2.jl:406\n",
      " [5] connect\n",
      "   @ C:\\Users\\Miguel\\.julia\\packages\\RobustAndOptimalControl\\CHKAo\\src\\named_systems2.jl:383 [inlined]\n",
      " [6] connect(systems::Vector{NamedStateSpace{Continuous, StateSpace{Continuous, Float64}}}, pairs::Vector{Pair{Symbol, Symbol}}; kwargs::Base.Pairs{Symbol, Vector, Tuple{Symbol, Symbol}, NamedTuple{(:w1, :z1), Tuple{Vector{Symbol}, Vector{Colon}}}})\n",
      "   @ RobustAndOptimalControl C:\\Users\\Miguel\\.julia\\packages\\RobustAndOptimalControl\\CHKAo\\src\\named_systems2.jl:468\n",
      " [7] top-level scope\n",
      "   @ c:\\Users\\Miguel\\.julia\\dev\\Flight.jl\\src\\aircraft\\c172\\c172fbw\\variants\\mcs\\design\\fbw_lon ss.ipynb:22"
     ]
    }
   ],
   "source": [
    "@unpack x0, u0 = P_lss\n",
    "@unpack v_x, v_z = x0\n",
    "v_norm = norm([v_x, v_z])\n",
    "\n",
    "#the states we care about are q, θ, v_x, v_z (equivalent to V and α)\n",
    "diagQ = ComponentVector(q = 1, θ = 1, v_x = 1/v_norm, v_z = 1/v_norm, α_filt = 0, ω_eng = 0, ele_v = 0, ele_p = 0, thr_v = 0, thr_p = 0)\n",
    "diagR = ComponentVector(elevator_cmd = 1, thr_cmd = 1)\n",
    "Q = ComponentMatrix(diagm(diagQ), Axis(x_labels), Axis(x_labels))\n",
    "R = ComponentMatrix(diagm(diagR), Axis(x_labels), Axis(x_labels))\n",
    "\n",
    "#feedback gain matrix\n",
    "C_fbk = lqr(P_nss, Q, R)\n",
    "display(C_fbk)\n",
    "\n",
    "C_fbk_ss = named_ss(ss(C_fbk); u = x_labels, y = [:elevator_fbk, :throttle_fbk])\n",
    "\n",
    "\n",
    "elevator_sum = sumblock(\"elevator_cmd = elevator_fwd - elevator_fbk\")\n",
    "throttle_sum = sumblock(\"throttle_cmd = throttle_fwd- throttle_fbk\")\n",
    "connections = vcat(Pair.(x_labels, x_labels), Pair.(C_ss.y, C_ss.y))\n",
    "\n",
    "P_nss_fbk = connect([elevator_sum, throttle_sum, P_nss, C_fbk_ss], connections; w1 = [:elevator_fwd, :throttle_fwd])\n",
    "\n",
    "# lon_sum = sumblock(\"q_err = q_dmd - q\")\n",
    "# thr_q_MIMO = connect([q2e_sum, C_q2e, thr_ele_MIMO], [:q_err=>:q_err, :q=>:q, :elevator_cmd=>:elevator_cmd], w1 = [:throttle_cmd, :q_dmd], z1 = thr_ele_MIMO.y)\n",
    "# #add pitch regulation to the reduced pitch dynamics\n",
    "# A_pitch_sas = lss_pitch.A - lss_pitch.B * K_pitch\n",
    "# nss_pitch_sas = named_ss(ss(A_pitch_sas, lss_pitch.B, lss_pitch.C, 0), u = [:sas_pitch_cmd], x = nss_pitch.x, y = nss_pitch.y);\n",
    "\n",
    "# dampreport(nss_pitch)\n",
    "# dampreport(nss_pitch_sas)\n",
    "# e2q = nss_pitch[:q, :elevator_cmd]\n",
    "# e2q_sas = nss_pitch_sas[:q, :sas_pitch_cmd]\n",
    "# e2θ = nss_pitch[:θ, :elevator_cmd]\n",
    "# e2θ_sas = nss_pitch_sas[:θ, :sas_pitch_cmd]\n",
    "# step(e2q, 10) |> plot\n",
    "# step(e2q_sas, 10) |> plot!\n",
    "\n",
    "# A_pitch_sas[:θ, :]"
   ]
  },
  {
   "cell_type": "code",
   "execution_count": 7,
   "metadata": {},
   "outputs": [
    {
     "ename": "UndefVarError",
     "evalue": "UndefVarError: `K_pitch` not defined",
     "output_type": "error",
     "traceback": [
      "UndefVarError: `K_pitch` not defined\n",
      "\n",
      "Stacktrace:\n",
      " [1] top-level scope\n",
      "   @ c:\\Users\\Miguel\\.julia\\dev\\Flight.jl\\src\\aircraft\\c172\\c172fbw\\variants\\mcs\\design\\fbw_lon ss.ipynb:5"
     ]
    }
   ],
   "source": [
    "#build a gain matrix for the complete longitudinal dynamics and assign the\n",
    "#components corresponding to the gain matrix computed from the reduced pitch\n",
    "#dynamics\n",
    "K_pitch_full = fill!(lss_lon.u0 * lss_lon.x0', 0)\n",
    "K_pitch_full[:elevator_cmd, x_labels_pitch] = K_pitch\n",
    "A_pitch_full_sas = lss_lon.A - lss_lon.B * K_pitch_full;\n",
    "\n",
    "#add pitch regulation to the full longitudinal dynamics\n",
    "nss_lon_sas = named_ss(ss(A_pitch_full_sas, lss_lon.B, lss_lon.C, 0), u = [:sas_pitch_cmd, :throttle_cmd], x = nss_lon.x, y = nss_lon.y);\n",
    "\n",
    "dampreport(nss_pitch)\n",
    "dampreport(nss_lon_sas)\n",
    "e2q = nss_lon[:q, :elevator_cmd]\n",
    "e2q_sas = nss_lon_sas[:q, :sas_pitch_cmd]\n",
    "e2θ = nss_lon[:θ, :elevator_cmd]\n",
    "e2θ_sas = nss_lon_sas[:θ, :sas_pitch_cmd]\n",
    "step(e2q, 10) |> plot\n",
    "step(e2q_sas, 10) |> plot!"
   ]
  },
  {
   "cell_type": "code",
   "execution_count": 8,
   "metadata": {},
   "outputs": [
    {
     "ename": "UndefVarError",
     "evalue": "UndefVarError: `e2q` not defined",
     "output_type": "error",
     "traceback": [
      "UndefVarError: `e2q` not defined\n",
      "\n",
      "Stacktrace:\n",
      " [1] top-level scope\n",
      "   @ c:\\Users\\Miguel\\.julia\\dev\\Flight.jl\\src\\aircraft\\c172\\c172fbw\\variants\\mcs\\design\\fbw_lon ss.ipynb:1"
     ]
    }
   ],
   "source": [
    "bodeplot(e2q)"
   ]
  },
  {
   "cell_type": "code",
   "execution_count": 9,
   "metadata": {},
   "outputs": [
    {
     "ename": "UndefVarError",
     "evalue": "UndefVarError: `e2q_sas` not defined",
     "output_type": "error",
     "traceback": [
      "UndefVarError: `e2q_sas` not defined\n",
      "\n",
      "Stacktrace:\n",
      " [1] top-level scope\n",
      "   @ c:\\Users\\Miguel\\.julia\\dev\\Flight.jl\\src\\aircraft\\c172\\c172fbw\\variants\\mcs\\design\\fbw_lon ss.ipynb:1"
     ]
    }
   ],
   "source": [
    "bodeplot(e2q_sas)"
   ]
  },
  {
   "cell_type": "code",
   "execution_count": 10,
   "metadata": {},
   "outputs": [
    {
     "ename": "UndefVarError",
     "evalue": "UndefVarError: `e2q_sas` not defined",
     "output_type": "error",
     "traceback": [
      "UndefVarError: `e2q_sas` not defined\n",
      "\n",
      "Stacktrace:\n",
      " [1] top-level scope\n",
      "   @ c:\\Users\\Miguel\\.julia\\dev\\Flight.jl\\src\\aircraft\\c172\\c172fbw\\variants\\mcs\\design\\fbw_lon ss.ipynb:2"
     ]
    }
   ],
   "source": [
    "\n",
    "P_e2q = e2q_sas\n",
    "C_q2e = named_ss(ss(20 * tf(1, [1, 0, 0])), :C_q2e; u = :q_err, y = :sas_pitch_cmd);\n",
    "L_q2e = series(C_q2e, P_e2q)\n",
    "T_q2e = output_comp_sensitivity(P_e2q, C_q2e)\n",
    "# CS_q2e = G_CS(P_e2q, C_q2e)\n",
    "\n",
    "marginplot(L_q2e)\n",
    "# marginplot(CS_q2e)\n",
    "step(T_q2e, 10) |> plot"
   ]
  }
 ],
 "metadata": {
  "kernelspec": {
   "display_name": "Julia 1.9.2",
   "language": "julia",
   "name": "julia-1.9"
  },
  "language_info": {
   "file_extension": ".jl",
   "mimetype": "application/julia",
   "name": "julia",
   "version": "1.9.2"
  },
  "orig_nbformat": 4
 },
 "nbformat": 4,
 "nbformat_minor": 2
}
