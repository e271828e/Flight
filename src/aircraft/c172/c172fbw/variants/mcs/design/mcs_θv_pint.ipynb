{
 "cells": [
  {
   "cell_type": "code",
   "execution_count": 1,
   "metadata": {},
   "outputs": [],
   "source": [
    "using Flight.FlightCore.Systems\n",
    "using Flight.FlightCore.Plotting\n",
    "\n",
    "using Flight.FlightPhysics\n",
    "using Flight.FlightComponents\n",
    "using Flight.FlightAircraft.C172FBW\n",
    "using Flight.FlightAircraft.C172\n",
    "\n",
    "using UnPack\n",
    "using ControlSystems\n",
    "using RobustAndOptimalControl\n",
    "using ComponentArrays\n",
    "using LinearAlgebra"
   ]
  },
  {
   "cell_type": "code",
   "execution_count": null,
   "metadata": {},
   "outputs": [],
   "source": [
    "ac = Cessna172FBWBase(NED()) |> System #linearization requires NED kinematics\n",
    "\n",
    "#use default trim condition\n",
    "design_point = C172.TrimParameters()\n",
    "\n",
    "P_lss_lon = Control.LinearStateSpace(ac, design_point; model = :lon);\n",
    "P_nss_lon = named_ss(P_lss_lon);\n",
    "\n",
    "x_labels_lon = keys(P_lss_lon.x0) |> collect\n",
    "y_labels_lon = keys(P_lss_lon.y0) |> collect\n",
    "u_labels_lon = keys(P_lss_lon.u0) |> collect\n",
    "x_labels = deleteat!(x_labels_lon, findfirst(isequal(:h), x_labels_lon))\n",
    "y_labels = deleteat!(y_labels_lon, findfirst(isequal(:h), y_labels_lon))\n",
    "u_labels = u_labels_lon\n",
    "# x_labels = x_labels_lon\n",
    "# y_labels = y_labels_lon\n",
    "# u_labels = u_labels_lon\n",
    "\n",
    "P_lss = submodel(P_lss_lon; x = x_labels, u = u_labels, y = y_labels)\n",
    "P_nss = named_ss(P_lss);"
   ]
  },
  {
   "cell_type": "code",
   "execution_count": null,
   "metadata": {},
   "outputs": [],
   "source": [
    "dampreport(P_nss_lon)\n",
    "dampreport(P_nss)"
   ]
  },
  {
   "cell_type": "markdown",
   "metadata": {},
   "source": [
    "We see that removing $h$ as a state eliminates an extremely slow pole, probably related to the effect of altitude on engine output. The remaining poles are virtually unaffected. Also, it significantly improves the condition of the dynamics matrix:"
   ]
  },
  {
   "cell_type": "code",
   "execution_count": null,
   "metadata": {},
   "outputs": [],
   "source": [
    "cond(P_nss_lon.A) |> display\n",
    "cond(P_nss.A) |> display"
   ]
  },
  {
   "cell_type": "markdown",
   "metadata": {},
   "source": [
    "But a much more important reason for removing $h$ is that, even if the dynamics matrix is still invertible, the block $H_x F^{-1} G$ in the feedforward gain matrix required for $\\theta$ and $EAS$ tracking is not. This is perfectly understandable: we cannot have an arbitrary combination of $\\theta$ and $EAS$ and still maintain constant altitude. In other words, keeping $h$ in the state vector produces quasi-static rather than static equilibrium, and therefore we would need partitioning the state to handle it. Note that this issue is only related to the selection of the command variables $\\theta$ and $EAS$, not to the system's dynamics. If we picked instead $h$ and $EAS$, we could have true static equilibrium. Thus, for this design we will use the MIMO system without $h$ as our plant baseline. Let's start by designing a full-state feedback regulator for the MIMO system."
   ]
  },
  {
   "cell_type": "markdown",
   "metadata": {},
   "source": [
    "## 1. LQR Design"
   ]
  },
  {
   "cell_type": "code",
   "execution_count": null,
   "metadata": {},
   "outputs": [],
   "source": [
    "F = P_lss.A\n",
    "G = P_lss.B\n",
    "Hx = P_lss.C[(:θ, :EAS), :]\n",
    "Hu = P_lss.D[(:θ, :EAS), :]\n",
    "# display(Hx)\n",
    "# display(Hu)\n",
    "\n",
    "n_y, n_x = size(Hx) #number of command variables and states"
   ]
  },
  {
   "cell_type": "markdown",
   "metadata": {},
   "source": [
    "Assemble the augmented system for LQR design by appending integrator blocks."
   ]
  },
  {
   "cell_type": "code",
   "execution_count": null,
   "metadata": {},
   "outputs": [],
   "source": [
    "F_aug = [F zeros(n_x, n_y); Hx zeros(n_y, n_y)]\n",
    "G_aug = [G; Hu]\n",
    "Hx_aug = [Hx zeros(n_y, n_y)]\n",
    "Hu_aug = Hu\n",
    "\n",
    "P_aug = ss(F_aug, G_aug, Hx_aug, Hu_aug)\n",
    "controllability(F_aug, G_aug)\n"
   ]
  },
  {
   "cell_type": "markdown",
   "metadata": {},
   "source": [
    "Design LQR and check results."
   ]
  },
  {
   "cell_type": "code",
   "execution_count": 912,
   "metadata": {},
   "outputs": [],
   "source": [
    "@unpack x0, u0 = P_lss\n",
    "@unpack v_x, v_z = x0\n",
    "v_norm = norm([v_x, v_z])\n",
    "\n",
    "diagQ = ComponentVector(q = 2, θ = 40, v_x = 2/v_norm, v_z = 1/v_norm,\n",
    "                        α_filt = 0, ω_eng = 0, ele_v = 0, ele_p = 0, thr_v = 0, thr_p = 0,\n",
    "                        θ_int = 10, EAS_int = 0.01)\n",
    "\n",
    "diagR = ComponentVector(ele_cmd = 0.2, thr_cmd = 0.005)\n",
    "\n",
    "Q = ComponentMatrix(diagm(diagQ), Axis(x_labels), Axis(x_labels))\n",
    "R = ComponentMatrix(diagm(diagR), Axis(x_labels), Axis(x_labels))\n",
    "\n",
    "#compute gain matrix\n",
    "C_aug = lqr(P_aug, Q, R)\n",
    "\n",
    "#extract system state and integrator blocks\n",
    "C_x = C_aug[:, 1:n_x]\n",
    "C_ξ = C_aug[:, n_x+1:end]\n",
    "display(C_ξ)\n",
    "\n",
    "# quickly construct the closed-loop augmented system to check the resulting\n",
    "# eigenvalues, we'll do the connections properly later\n",
    "F_aug_cl = F_aug - G_aug * C_aug\n",
    "P_aug_cl = ss(F_aug_cl, G_aug, Hx_aug, Hu_aug)\n",
    "\n",
    "dampreport(P_aug)\n",
    "dampreport(P_aug_cl)"
   ]
  },
  {
   "cell_type": "markdown",
   "metadata": {},
   "source": [
    "Define all gain block and integrator systems:"
   ]
  },
  {
   "cell_type": "code",
   "execution_count": null,
   "metadata": {},
   "outputs": [],
   "source": [
    "A = [F G; Hx Hu]\n",
    "B = inv(A)\n",
    "B_12 = B[1:n_x, n_x+1:end]\n",
    "B_22 = B[n_x+1:end, n_x+1:end]\n",
    "\n",
    "C_fbk = C_x\n",
    "C_fbk_ss = named_ss(ss(C_fbk), u = x_labels, y = [:e_fbk, :t_fbk])\n",
    "\n",
    "C_fwd = B_22 + C_x * B_12\n",
    "C_fwd_ss = named_ss(ss(C_fwd), u = [:θ_fwd_in, :EAS_fwd_in], y = [:e_fwd, :t_fwd])\n",
    "\n",
    "C_int = C_ξ\n",
    "C_int_ss = named_ss(ss(C_int), u = [:θ_int_out, :EAS_int_out], y = [:e_int, :t_int])\n",
    "\n",
    "int_ss = named_ss(ss(tf(1, [1,0])) .* I(2),\n",
    "                    x = [:ξ_θ, :ξ_EAS],\n",
    "                    u = [:θ_int_in, :EAS_int_in],\n",
    "                    y = [:θ_int_out, :EAS_int_out]);\n",
    "\n",
    "nothing\n",
    "\n",
    "# display(C_fbk_ss)\n",
    "# display(C_fwd_ss)\n",
    "# display(C_int_ss)\n",
    "# display(int_ss)"
   ]
  },
  {
   "cell_type": "markdown",
   "metadata": {},
   "source": [
    "Define the properly labelled junctions and connections:"
   ]
  },
  {
   "cell_type": "code",
   "execution_count": null,
   "metadata": {},
   "outputs": [],
   "source": [
    "θ_sum = sumblock(\"θ_int_in = θ_1 - θ_dmd1\")\n",
    "EAS_sum = sumblock(\"EAS_int_in = EAS_1 - EAS_dmd1\")\n",
    "elevator_sum = sumblock(\"e_cmd = e_fwd - e_fbk - e_int\")\n",
    "throttle_sum = sumblock(\"t_cmd = t_fwd - t_fbk - t_int\")\n",
    "\n",
    "θ_dmd_splitter = splitter(:θ_dmd, 2)\n",
    "EAS_dmd_splitter = splitter(:EAS_dmd, 2)\n",
    "\n",
    "test_connections = vcat(\n",
    "    Pair.(C_fbk_ss.u, C_fbk_ss.u),\n",
    "    :e_fwd => :e_fwd,\n",
    "    :t_fwd => :t_fwd,\n",
    "    :e_fbk => :e_fbk,\n",
    "    :t_fbk => :t_fbk,\n",
    "    :e_int => :e_int,\n",
    "    :t_int => :t_int,\n",
    "    :θ_int_in => :θ_int_in,\n",
    "    :EAS_int_in => :EAS_int_in,\n",
    "    :θ_int_out => :θ_int_out,\n",
    "    :EAS_int_out => :EAS_int_out,\n",
    "    :θ => :θ_1,\n",
    "    :EAS => :EAS_1,\n",
    "    :θ_dmd1 => :θ_dmd1,\n",
    "    :EAS_dmd1 => :EAS_dmd1,\n",
    "    :θ_dmd2 => :θ_fwd_in,\n",
    "    :EAS_dmd2 => :EAS_fwd_in,\n",
    "    :e_cmd => :elevator_cmd,\n",
    "    :t_cmd => :throttle_cmd,\n",
    "    )\n",
    "\n",
    "\n",
    "connections = vcat(test_connections)\n",
    "\n",
    "P_nss_cl = connect([P_nss, int_ss, C_fwd_ss, C_fbk_ss, C_int_ss,\n",
    "                    θ_sum, EAS_sum, elevator_sum, throttle_sum,\n",
    "                    θ_dmd_splitter, EAS_dmd_splitter], connections;\n",
    "                    w1 = [:θ_dmd, :EAS_dmd], z1 = vcat(y_labels, [:θ_int_out, :EAS_int_out]))\n",
    "\n",
    "dampreport(P_aug_cl)\n",
    "dampreport(P_nss_cl)\n"
   ]
  },
  {
   "cell_type": "code",
   "execution_count": null,
   "metadata": {},
   "outputs": [],
   "source": [
    "θdmd2θ = P_nss_cl[:θ, :θ_dmd]\n",
    "θdmd2e = P_nss_cl[:elevator_cmd, :θ_dmd]\n",
    "step(θdmd2θ, 10) |> stepinfo |> display\n",
    "step(θdmd2θ, 10) |> plot\n",
    "# step(θdmd2e, 10) |> plot!"
   ]
  },
  {
   "cell_type": "code",
   "execution_count": null,
   "metadata": {},
   "outputs": [],
   "source": [
    "vdmd2v = P_nss_cl[:EAS, :EAS_dmd]\n",
    "vdmd2t = P_nss_cl[:throttle_cmd, :EAS_dmd]\n",
    "step(vdmd2v, 10) |> stepinfo |> display\n",
    "step(vdmd2v, 10) |> plot\n",
    "step(vdmd2t, 10) |> plot!"
   ]
  },
  {
   "cell_type": "code",
   "execution_count": null,
   "metadata": {},
   "outputs": [],
   "source": [
    "marginplot(θdmd2θ)"
   ]
  },
  {
   "cell_type": "markdown",
   "metadata": {},
   "source": [
    "## 3. Pitch Rate Tracker"
   ]
  },
  {
   "cell_type": "markdown",
   "metadata": {},
   "source": [
    "Now, on top of the $\\theta$ + $EAS$ tracker we can provide a pitch rate tracker by adding an integrator upstream of the $\\theta_{dmd}$ input:"
   ]
  },
  {
   "cell_type": "markdown",
   "metadata": {},
   "source": [
    "In the actual implementation, $\\dot{\\theta}$ should not be computed directly as $\\dot{\\theta} = q_{dmd}$ but through the kinematic relation:\n",
    "$$ q(\\dot{\\theta}, r, \\phi) = \\dfrac{1}{\\cos \\phi}(\\dot{\\theta} + r \\tan \\phi) $$\n",
    "$$ \\dot{\\theta}_{dmd} = q_{dmd} \\cos \\phi - r \\tan \\phi$$"
   ]
  }
 ],
 "metadata": {
  "kernelspec": {
   "display_name": "Julia 1.9.2",
   "language": "julia",
   "name": "julia-1.9"
  },
  "language_info": {
   "file_extension": ".jl",
   "mimetype": "application/julia",
   "name": "julia",
   "version": "1.9.2"
  },
  "orig_nbformat": 4
 },
 "nbformat": 4,
 "nbformat_minor": 2
}
