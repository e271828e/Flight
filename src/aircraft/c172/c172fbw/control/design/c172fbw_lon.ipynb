{
 "cells": [
  {
   "cell_type": "code",
   "execution_count": 1,
   "metadata": {},
   "outputs": [],
   "source": [
    "using Flight.FlightCore.Systems\n",
    "using Flight.FlightCore.Plotting\n",
    "\n",
    "using Flight.FlightPhysics\n",
    "using Flight.FlightComponents\n",
    "using Flight.FlightAircraft.C172\n",
    "using Flight.FlightAircraft.C172FBW\n",
    "using Flight.FlightAircraft.C172FBW.FlightControl\n",
    "using Flight.FlightComponents.Control.Discrete: PIDParams\n",
    "using Flight.FlightComponents.Control.PIDOpt: Settings, Metrics, optimize_PID, build_PID, check_results\n",
    "\n",
    "using UnPack\n",
    "using ControlSystems\n",
    "using RobustAndOptimalControl\n",
    "using ComponentArrays\n",
    "using LinearAlgebra"
   ]
  },
  {
   "cell_type": "code",
   "execution_count": 2,
   "metadata": {},
   "outputs": [
    {
     "data": {
      "text/plain": [
       "\u001b[0mComponentVector{Float64}(q = 0.0, θ = 52.57176296412945, v_x = 0.023550335280175867, v_z = -0.9997222499425569, h = 0.0, α_filt = 0.0, ω_eng = 0.0, thr_v = 0.0, thr_p = 0.0, ele_v = 0.0, ele_p = 0.0)"
      ]
     },
     "metadata": {},
     "output_type": "display_data"
    },
    {
     "data": {
      "text/plain": [
       "\u001b[0mComponentVector{Float64}(q = 6.60954228263296e-7, θ = -1.3093480728279614e-12, v_x = -1.9430531300316932e-5, v_z = 0.0009572946220013177, h = 0.0, α_filt = 0.0, ω_eng = 0.010967021085778062, thr_v = 0.0, thr_p = 0.0, ele_v = 0.0, ele_p = 0.0)"
      ]
     },
     "metadata": {},
     "output_type": "display_data"
    },
    {
     "data": {
      "text/plain": [
       "\u001b[0mComponentVector{Float64}(q = 0.0, θ = 0.0, v_x = 0.0, v_z = 0.0, h = 1.0, α_filt = 0.0, ω_eng = 0.0, thr_v = 0.0, thr_p = 0.0, ele_v = 0.0, ele_p = 0.0, f_x = -1.909930081594558e-5, f_z = 0.0009603649093991234, α = 0.0, EAS = -0.0024565174466087704, TAS = 0.0, γ = 0.0, climb_rate = 0.0, throttle_cmd = 0.0, elevator_cmd = 0.0)"
      ]
     },
     "metadata": {},
     "output_type": "display_data"
    }
   ],
   "source": [
    "global_search = false\n",
    "\n",
    "ac = Cessna172FBW(NED()) |> System #linearization requires NED kinematics\n",
    "\n",
    "design_point = C172.TrimParameters()\n",
    "# design_point = C172.TrimParameters(EAS = 28)\n",
    "# design_point = C172.TrimParameters(EAS = 40)\n",
    "\n",
    "#complete longitudinal model\n",
    "lss_lon = Control.Continuous.LinearizedSS(ac, design_point; model = :lon);\n",
    "P_lon = named_ss(lss_lon);\n",
    "\n",
    "x_labels_lon = keys(lss_lon.x0) |> collect\n",
    "y_labels_lon = keys(lss_lon.y0) |> collect\n",
    "u_labels_lon = keys(lss_lon.u0) |> collect\n",
    "\n",
    "lss_lon.A[:h, :] |> display\n",
    "lss_lon.A[:, :h] |> display\n",
    "lss_lon.C[:, :h] |> display\n"
   ]
  },
  {
   "cell_type": "markdown",
   "metadata": {},
   "source": [
    "As one would expect, $\\dot{h}$ is nonzero for nonzero $\\theta$. This will be a problem when designing a LQR tracker for which the choice of command variables involves non-zero steady state $\\theta$. Since we cannot maintain constant altitude with an arbitrary $\\theta$, true static equilibrium will not exist and the block $H_x F^{-1} G$ in the feedforward gain matrix required for tracking such command variables will be singular. This would not be an issue if we picked for instance $h$ and $EAS$ as command variables, because true equilibrium exists for an arbitrary combination of the two. However, this is not an appealing choice, because we would like to be able to control the pitch axis explicitly, rather than implicitly through $h$.\n",
    "\n",
    "To handle this issue, we could partition the state and work with quasi-static equilibrium. However, since this is annoying, and the coupling of $h$ into the remaining states is very weak, we can simply drop $h$ from the state, design the desired LQR trackers on the reduced plant, and then connect them back to the full plant. This has a price to pay: ignoring the (small) effect of altitude causes (small) steady state errors when tracking climb-rate, EAS or throttle."
   ]
  },
  {
   "cell_type": "code",
   "execution_count": 3,
   "metadata": {},
   "outputs": [],
   "source": [
    "x_labels_red = copy(x_labels_lon)\n",
    "y_labels_red = copy(y_labels_lon)\n",
    "u_labels_red = copy(u_labels_lon)\n",
    "\n",
    "x_labels_red = deleteat!(x_labels_red, findfirst(isequal(:h), x_labels_red))\n",
    "y_labels_red = deleteat!(y_labels_red, findfirst(isequal(:h), y_labels_red))\n",
    "\n",
    "#design model\n",
    "lss_red = Control.Continuous.submodel(lss_lon; x = x_labels_red, u = u_labels_red, y = y_labels_red)\n",
    "P_red = named_ss(lss_red);"
   ]
  },
  {
   "cell_type": "markdown",
   "metadata": {},
   "source": [
    "Finally, we extract a model retaining only pitch dynamics, which will be used for pitch SAS design. Since we are only keeping elevator command as an input, we need to drop all engine-related states to keep the system controllable."
   ]
  },
  {
   "cell_type": "code",
   "execution_count": 4,
   "metadata": {},
   "outputs": [],
   "source": [
    "x_labels_pit = [:q, :θ, :v_x, :v_z, :α_filt, :ele_v, :ele_p]\n",
    "y_labels_pit = vcat(x_labels_pit, [:f_x, :f_z, :α, :EAS, :TAS, :γ, :climb_rate, :elevator_cmd])\n",
    "u_labels_pit = [:elevator_cmd,]\n",
    "\n",
    "#pitch dynamics model\n",
    "lss_pit = Control.Continuous.submodel(lss_lon; x = x_labels_pit, u = u_labels_pit, y = y_labels_pit)\n",
    "P_pit = named_ss(lss_pit);"
   ]
  },
  {
   "cell_type": "code",
   "execution_count": 5,
   "metadata": {},
   "outputs": [
    {
     "name": "stdout",
     "output_type": "stream",
     "text": [
      "|        Pole        |   Damping     |   Frequency   |   Frequency   | Time Constant |\n",
      "|                    |    Ratio      |   (rad/sec)   |     (Hz)      |     (sec)     |\n",
      "+--------------------+---------------+---------------+---------------+---------------+\n",
      "| -0.000511          |  1            |  0.000511     |  8.14e-05     |  1.96e+03     |\n",
      "| -0.0192 ±  0.233im |  0.0821       |  0.234        |  0.0372       |  52.1         |\n",
      "| -5.54   ±   6.27im |  0.662        |  8.37         |  1.33         |  0.18         |\n",
      "| -11.7              |  1            |  11.7         |  1.86         |  0.0857       |\n",
      "| -18.8   ±   25.1im |  0.6          |  31.4         |  5            |  0.0531       |\n",
      "| -18.8   ±   25.1im |  0.6          |  31.4         |  5            |  0.0531       |\n",
      "| -47.2              |  1            |  47.2         |  7.51         |  0.0212       |\n",
      "|        Pole        |   Damping     |   Frequency   |   Frequency   | Time Constant |\n",
      "|                    |    Ratio      |   (rad/sec)   |     (Hz)      |     (sec)     |\n",
      "+--------------------+---------------+---------------+---------------+---------------+\n",
      "| -0.0194 ±  0.231im |  0.0838       |  0.232        |  0.0369       |  51.4         |\n",
      "| -5.54   ±   6.27im |  0.662        |  8.37         |  1.33         |  0.18         |\n",
      "| -11.7              |  1            |  11.7         |  1.86         |  0.0857       |\n",
      "| -18.8   ±   25.1im |  0.6          |  31.4         |  5            |  0.0531       |\n",
      "| -18.8   ±   25.1im |  0.6          |  31.4         |  5            |  0.0531       |\n",
      "| -47.2              |  1            |  47.2         |  7.51         |  0.0212       |\n",
      "|        Pole        |   Damping     |   Frequency   |   Frequency   | Time Constant |\n",
      "|                    |    Ratio      |   (rad/sec)   |     (Hz)      |     (sec)     |\n",
      "+--------------------+---------------+---------------+---------------+---------------+\n",
      "| -0.0433 ±  0.221im |  0.192        |  0.225        |  0.0359       |  23.1         |\n",
      "| -5.54   ±   6.27im |  0.662        |  8.37         |  1.33         |  0.18         |\n",
      "| -18.8   ±   25.1im |  0.6          |  31.4         |  5            |  0.0531       |\n",
      "| -47.2              |  1            |  47.2         |  7.51         |  0.0212       |\n"
     ]
    },
    {
     "data": {
      "text/plain": [
       "(iscontrollable = true, ranks = [7, 7, 7, 7, 7, 7, 7], sigma_min = [0.004930613152567108, 3.213357064332774, 3.213357064332774, 0.4342631919592065, 0.4342631919592065, 0.03954932414967328, 0.03954932414967328])"
      ]
     },
     "metadata": {},
     "output_type": "display_data"
    }
   ],
   "source": [
    "dampreport(P_lon)\n",
    "dampreport(P_red)\n",
    "dampreport(P_pit)\n",
    "controllability(P_red)\n",
    "controllability(P_pit)"
   ]
  },
  {
   "cell_type": "code",
   "execution_count": 6,
   "metadata": {},
   "outputs": [
    {
     "data": {
      "text/plain": [
       "1.1793569208626257e8"
      ]
     },
     "metadata": {},
     "output_type": "display_data"
    },
    {
     "data": {
      "text/plain": [
       "707509.1616281078"
      ]
     },
     "metadata": {},
     "output_type": "display_data"
    },
    {
     "data": {
      "text/plain": [
       "190726.47973591764"
      ]
     },
     "metadata": {},
     "output_type": "display_data"
    }
   ],
   "source": [
    "cond(P_lon.A) |> display\n",
    "cond(P_red.A) |> display\n",
    "cond(P_pit.A) |> display"
   ]
  },
  {
   "cell_type": "markdown",
   "metadata": {},
   "source": [
    "## 1. Pitch Stability Augmentation"
   ]
  },
  {
   "cell_type": "code",
   "execution_count": 7,
   "metadata": {},
   "outputs": [
    {
     "ename": "UndefVarError",
     "evalue": "UndefVarError: `XLon` not defined",
     "output_type": "error",
     "traceback": [
      "UndefVarError: `XLon` not defined\n",
      "\n",
      "Stacktrace:\n",
      " [1] getproperty(x::Module, f::Symbol)\n",
      "   @ Base .\\Base.jl:31\n",
      " [2] top-level scope\n",
      "   @ c:\\Users\\Miguel\\.julia\\dev\\Flight.jl\\src\\aircraft\\c172\\c172fbw\\control\\design\\c172fbw_lon.ipynb:3"
     ]
    }
   ],
   "source": [
    "# ensure consistency in component selection and ordering between our reduced\n",
    "# design model and FBWv1 avionics implementation for state and control vectors\n",
    "@assert tuple(x_labels_red...) === propertynames(FlightControl.XLon())\n",
    "@assert tuple(u_labels_red...) === propertynames(FlightControl.ULon())\n",
    "\n",
    "x_trim = lss_red.x0\n",
    "u_trim = lss_red.u0\n",
    "\n",
    "n_x = length(x_labels_red)\n",
    "n_u = length(u_labels_red)"
   ]
  },
  {
   "cell_type": "markdown",
   "metadata": {},
   "source": [
    "### 1.1. Decoupled"
   ]
  },
  {
   "cell_type": "markdown",
   "metadata": {},
   "source": [
    "We first design a LQR from the pitch dynamics model. The resulting feedback loop will be connected to the reduced longitudinal model, padding the feedback matrix with zeros as required to fit the reduced model dimensions."
   ]
  },
  {
   "cell_type": "code",
   "execution_count": 8,
   "metadata": {},
   "outputs": [
    {
     "ename": "UndefVarError",
     "evalue": "UndefVarError: `n_u` not defined",
     "output_type": "error",
     "traceback": [
      "UndefVarError: `n_u` not defined\n",
      "\n",
      "Stacktrace:\n",
      " [1] top-level scope\n",
      "   @ c:\\Users\\Miguel\\.julia\\dev\\Flight.jl\\src\\aircraft\\c172\\c172fbw\\control\\design\\c172fbw_lon.ipynb:15"
     ]
    }
   ],
   "source": [
    "#compute a feedback matrix for the pitch dynamics model\n",
    "@unpack v_x, v_z = lss_pit.x0\n",
    "v_norm = norm([v_x, v_z])\n",
    "\n",
    "#weight matrices\n",
    "Q = ComponentVector(q = 1, θ = 20, v_x = 0.1/v_norm, v_z = 1/v_norm, α_filt = 0, ele_v = 0, ele_p = 0) |> diagm\n",
    "R = ComponentVector(elevator_cmd = 2) |> diagm\n",
    "\n",
    "#feedback gain matrix\n",
    "C_fbk_pit = lqr(P_pit, Q, R)\n",
    "\n",
    "#allocate a zero feedback matrix of the size required by the reduced model, and\n",
    "#assign those components corresponding to the pitch dynamics feedback\n",
    "#matrix\n",
    "C_fbk_red = ComponentMatrix(zeros(n_u, n_x), Axis(u_labels_red), Axis(x_labels_red))\n",
    "C_fbk_red[:elevator_cmd, x_labels_pit] .= vec(C_fbk_pit)\n",
    "\n",
    "#connect the expanded feedback matrix to the reduced longitudinal model\n",
    "u_labels_red_fbk = Symbol.(string.(u_labels_red) .* \"_fbk\")\n",
    "u_labels_red_fwd = Symbol.(string.(u_labels_red) .* \"_fwd\")\n",
    "u_labels_red_sum = Symbol.(string.(u_labels_red) .* \"_sum\")\n",
    "\n",
    "C_fbk_red_ss = named_ss(ss(C_fbk_red), u = x_labels_red, y = u_labels_red_fbk)\n",
    "throttle_sum = sumblock(\"throttle_cmd_sum = throttle_cmd_fwd - throttle_cmd_fbk\")\n",
    "elevator_sum = sumblock(\"elevator_cmd_sum = elevator_cmd_fwd - elevator_cmd_fbk\")\n",
    "\n",
    "connections = vcat(\n",
    "    Pair.(x_labels_red, x_labels_red),\n",
    "    Pair.(u_labels_red_fbk, u_labels_red_fbk),\n",
    "    Pair.(u_labels_red_sum, u_labels_red),\n",
    "    )\n",
    "\n",
    "P_red_fbk = connect([P_red, throttle_sum, elevator_sum, C_fbk_red_ss],\n",
    "    connections; w1 = u_labels_red_fwd, z1 = P_red.y)\n",
    "\n",
    "dampreport(P_red_fbk)\n",
    "display(C_fbk_red_ss)\n",
    "# display(P_red_fbk)"
   ]
  },
  {
   "cell_type": "markdown",
   "metadata": {},
   "source": [
    "We now have a stabilized longitudinal model. We want this model to track direct throttle and elevator commands, so these are the command variables we shall consider. Because the feedback architecture is already embedded in the plant, we only need to determine the feedforward matrix from the open loop equilibrium. This is simply Stengel 6.2-13 (instead of the usual 6.2-35) without disturbances:\n",
    "$$u_{sp} = B_{22} z_{sp} = C_{fwd} z_{sp}$$"
   ]
  },
  {
   "cell_type": "code",
   "execution_count": 9,
   "metadata": {},
   "outputs": [
    {
     "ename": "UndefVarError",
     "evalue": "UndefVarError: `ZLonThrEle` not defined",
     "output_type": "error",
     "traceback": [
      "UndefVarError: `ZLonThrEle` not defined\n",
      "\n",
      "Stacktrace:\n",
      " [1] getproperty(x::Module, f::Symbol)\n",
      "   @ Base .\\Base.jl:31\n",
      " [2] top-level scope\n",
      "   @ c:\\Users\\Miguel\\.julia\\dev\\Flight.jl\\src\\aircraft\\c172\\c172fbw\\control\\design\\c172fbw_lon.ipynb:2"
     ]
    }
   ],
   "source": [
    "z_labels = [:throttle_cmd, :elevator_cmd]\n",
    "@assert tuple(z_labels...) === propertynames(FlightControl.ZLonThrEle())\n",
    "z_trim = lss_red.y0[z_labels]\n",
    "n_z = length(z_labels)\n",
    "z_labels_sp = Symbol.(string.(z_labels) .* \"_sp\")\n",
    "\n",
    "F = P_red_fbk.A\n",
    "G = P_red_fbk.B\n",
    "Hx = ComponentMatrix(P_red_fbk.C, Axis(P_red_fbk.y), Axis(P_red_fbk.x))[z_labels, :]\n",
    "Hu = ComponentMatrix(P_red_fbk.D, Axis(P_red_fbk.y), Axis(P_red_fbk.x))[z_labels, :]\n",
    "\n",
    "A = [F G; Hx Hu]\n",
    "B = inv(A)\n",
    "B_12 = B[1:n_x, n_x+1:end]\n",
    "B_22 = B[n_x+1:end, n_x+1:end]\n",
    "\n",
    "C_fwd_red = B_22\n",
    "C_int_red = zeros(n_u, n_z) #no integral control\n",
    "\n",
    "C_fwd_red_ss = named_ss(ss(C_fwd_red), u = z_labels_sp, y = u_labels_red_fwd)\n",
    "\n",
    "connections = Pair.(u_labels_red_fwd, u_labels_red_fwd)\n",
    "\n",
    "P_te = connect([P_red_fbk, C_fwd_red_ss],\n",
    "    connections; w1 = z_labels_sp, z1 = P_red.y)\n",
    "\n",
    "dampreport(P_te)\n",
    "display(C_fwd_red)\n",
    "# display(P_te)"
   ]
  },
  {
   "cell_type": "code",
   "execution_count": 10,
   "metadata": {},
   "outputs": [
    {
     "ename": "UndefVarError",
     "evalue": "UndefVarError: `P_te` not defined",
     "output_type": "error",
     "traceback": [
      "UndefVarError: `P_te` not defined\n",
      "\n",
      "Stacktrace:\n",
      " [1] top-level scope\n",
      "   @ c:\\Users\\Miguel\\.julia\\dev\\Flight.jl\\src\\aircraft\\c172\\c172fbw\\control\\design\\c172fbw_lon.ipynb:1"
     ]
    }
   ],
   "source": [
    "e2e_SAS = P_te[:elevator_cmd, :elevator_cmd_sp]\n",
    "e2θ_SAS = P_te[:θ, :elevator_cmd_sp]\n",
    "e2t_SAS = P_te[:throttle_cmd, :elevator_cmd_sp]\n",
    "e2v_SAS = P_te[:EAS, :elevator_cmd_sp]\n",
    "e2θ_ol = P_red[:θ, :elevator_cmd]\n",
    "step(e2e_SAS, 30) |> plot\n",
    "step(e2θ_SAS, 30) |> plot!\n",
    "# step(e2v_SAS, 30) |> plot!\n",
    "step(e2θ_ol, 30) |> plot!\n",
    "step(e2t_SAS, 30) |> plot!"
   ]
  },
  {
   "cell_type": "code",
   "execution_count": 11,
   "metadata": {},
   "outputs": [
    {
     "ename": "UndefVarError",
     "evalue": "UndefVarError: `P_te` not defined",
     "output_type": "error",
     "traceback": [
      "UndefVarError: `P_te` not defined\n",
      "\n",
      "Stacktrace:\n",
      " [1] top-level scope\n",
      "   @ c:\\Users\\Miguel\\.julia\\dev\\Flight.jl\\src\\aircraft\\c172\\c172fbw\\control\\design\\c172fbw_lon.ipynb:6"
     ]
    }
   ],
   "source": [
    "#we still see a slight coupling from throttle to elevator, but this is to be\n",
    "#expected, because the engine can change the pitching moment and the pitch SAS\n",
    "#tries to counteract this. however, the advantage of this design is that we\n",
    "#retain explicit control over throttle_cmd, since it is not part of the feedback\n",
    "#architecture\n",
    "t2t_SAS = P_te[:throttle_cmd, :throttle_cmd_sp]\n",
    "t2e_SAS = P_te[:elevator_cmd, :throttle_cmd_sp]\n",
    "t2θ_SAS = P_te[:θ, :throttle_cmd_sp]\n",
    "t2q_SAS = P_te[:q, :throttle_cmd_sp]\n",
    "t2θ_ol = P_red[:θ, :throttle_cmd]\n",
    "# e2t_SAS = P_red_te[:throttle_cmd, :elevator_cmd_sp]\n",
    "# e2θ_ol = P_red[:θ, :elevator_cmd]\n",
    "step(t2t_SAS, 30) |> plot\n",
    "step(t2e_SAS, 30) |> plot!\n",
    "step(t2θ_SAS, 30) |> plot!\n",
    "step(t2q_SAS, 30) |> plot!\n",
    "# step(t2θ_ol, 30) |> plot!\n",
    "# step(e2t_SAS, 30) |> plot!\n",
    "# step(e2θ_ol, 30) |> plot!"
   ]
  },
  {
   "cell_type": "markdown",
   "metadata": {},
   "source": [
    "### 1.2. Coupled"
   ]
  },
  {
   "cell_type": "code",
   "execution_count": 12,
   "metadata": {},
   "outputs": [
    {
     "ename": "UndefVarError",
     "evalue": "UndefVarError: `ZLonThrEle` not defined",
     "output_type": "error",
     "traceback": [
      "UndefVarError: `ZLonThrEle` not defined\n",
      "\n",
      "Stacktrace:\n",
      " [1] getproperty(x::Module, f::Symbol)\n",
      "   @ Base .\\Base.jl:31\n",
      " [2] top-level scope\n",
      "   @ c:\\Users\\Miguel\\.julia\\dev\\Flight.jl\\src\\aircraft\\c172\\c172fbw\\control\\design\\c172fbw_lon.ipynb:3"
     ]
    }
   ],
   "source": [
    "z_labels = [:throttle_cmd, :elevator_cmd]\n",
    "\n",
    "@assert tuple(z_labels...) === propertynames(FlightControl.ZLonThrEle())\n",
    "z_trim = lss_red.y0[z_labels]\n",
    "n_z = length(z_labels)\n",
    "\n",
    "F = lss_red.A\n",
    "G = lss_red.B\n",
    "Hx = lss_red.C[z_labels, :]\n",
    "Hu = lss_red.D[z_labels, :]\n",
    "\n",
    "@unpack v_x, v_z = lss_red.x0\n",
    "v_norm = norm([v_x, v_z])\n",
    "\n",
    "#weight matrices\n",
    "Q = FlightControl.XLon(q = 1, θ = 30, v_x = 0.01/v_norm, v_z = 1/v_norm, α_filt = 0, ω_eng = 0, thr_v = 0.0, thr_p = 0, ele_v = 0, ele_p = 0) |> diagm\n",
    "R = FlightControl.ULon(throttle_cmd = 2, elevator_cmd = 2) |> diagm\n",
    "\n",
    "#feedback gain matrix\n",
    "C_fbk = lqr(P_red, Q, R)\n",
    "\n",
    "#forward gain matrix\n",
    "A = [F G; Hx Hu]\n",
    "B = inv(A)\n",
    "B_12 = B[1:n_x, n_x+1:end]\n",
    "B_22 = B[n_x+1:end, n_x+1:end]\n",
    "C_fwd = B_22 + C_fbk * B_12\n",
    "\n",
    "#no integral control\n",
    "C_int = zeros(n_u, n_z)\n",
    "\n",
    "#useful signal labels\n",
    "u_labels_red_fbk = Symbol.(string.(u_labels_red) .* \"_fbk\")\n",
    "u_labels_red_fwd = Symbol.(string.(u_labels_red) .* \"_fwd\")\n",
    "u_labels_red_sum = Symbol.(string.(u_labels_red) .* \"_sum\")\n",
    "z_labels_sp = Symbol.(string.(z_labels) .* \"_sp\")\n",
    "\n",
    "C_fbk_ss = named_ss(ss(C_fbk), u = x_labels_red, y = u_labels_red_fbk)\n",
    "C_fwd_ss = named_ss(ss(C_fwd), u = z_labels_sp, y = u_labels_red_fwd)\n",
    "\n",
    "#summing junctions\n",
    "throttle_sum = sumblock(\"throttle_cmd_sum = throttle_cmd_fwd- throttle_cmd_fbk\")\n",
    "elevator_sum = sumblock(\"elevator_cmd_sum = elevator_cmd_fwd - elevator_cmd_fbk\")\n",
    "\n",
    "connections = vcat(\n",
    "    Pair.(x_labels_red, x_labels_red),\n",
    "    Pair.(u_labels_red_fbk, u_labels_red_fbk),\n",
    "    Pair.(u_labels_red_sum, u_labels_red),\n",
    "    Pair.(u_labels_red_fwd, u_labels_red_fwd)\n",
    "    )\n",
    "\n",
    "#and now connect it back to the complete longitudinal dynamics\n",
    "# P_te_coupled_lon = connect([P_lon, elevator_sum, throttle_sum, C_fbk_ss, C_fwd_ss],\n",
    "#     connections; w1 = z_labels_sp, z1 = P_lon.y)\n",
    "\n",
    "P_te_coupled = connect([P_red, elevator_sum, throttle_sum, C_fbk_ss, C_fwd_ss],\n",
    "    connections; w1 = z_labels_sp, z1 = P_red.y)\n",
    "\n",
    "dampreport(P_te_coupled)\n",
    "# dampreport(P_te2)\n",
    "display(C_fbk_ss)\n",
    "display(C_fwd_ss)"
   ]
  },
  {
   "cell_type": "code",
   "execution_count": 13,
   "metadata": {},
   "outputs": [
    {
     "ename": "UndefVarError",
     "evalue": "UndefVarError: `P_te_coupled` not defined",
     "output_type": "error",
     "traceback": [
      "UndefVarError: `P_te_coupled` not defined\n",
      "\n",
      "Stacktrace:\n",
      " [1] top-level scope\n",
      "   @ c:\\Users\\Miguel\\.julia\\dev\\Flight.jl\\src\\aircraft\\c172\\c172fbw\\control\\design\\c172fbw_lon.ipynb:1"
     ]
    }
   ],
   "source": [
    "e2e_SAS = P_te_coupled[:elevator_cmd, :elevator_cmd_sp]\n",
    "e2θ_SAS = P_te_coupled[:θ, :elevator_cmd_sp]\n",
    "e2t_SAS = P_te_coupled[:throttle_cmd, :elevator_cmd_sp]\n",
    "e2θ_ol = P_red[:θ, :elevator_cmd]\n",
    "step(e2e_SAS, 20) |> plot\n",
    "step(e2θ_SAS, 20) |> plot!\n",
    "step(e2t_SAS, 20) |> plot!\n",
    "step(e2θ_ol, 20) |> plot!"
   ]
  },
  {
   "cell_type": "code",
   "execution_count": 14,
   "metadata": {},
   "outputs": [
    {
     "ename": "UndefVarError",
     "evalue": "UndefVarError: `P_te_coupled` not defined",
     "output_type": "error",
     "traceback": [
      "UndefVarError: `P_te_coupled` not defined\n",
      "\n",
      "Stacktrace:\n",
      " [1] top-level scope\n",
      "   @ c:\\Users\\Miguel\\.julia\\dev\\Flight.jl\\src\\aircraft\\c172\\c172fbw\\control\\design\\c172fbw_lon.ipynb:1"
     ]
    }
   ],
   "source": [
    "t2t_SAS = P_te_coupled[:throttle_cmd, :throttle_cmd_sp]\n",
    "t2v_SAS = P_te_coupled[:EAS, :throttle_cmd_sp]\n",
    "t2θ_SAS = P_te_coupled[:θ, :throttle_cmd_sp]\n",
    "t2q_SAS = P_te_coupled[:q, :throttle_cmd_sp]\n",
    "step(t2t_SAS, 30) |> plot\n",
    "# step(t2v_SAS, 30) |> plot!\n",
    "step(t2θ_SAS, 30) |> plot!\n",
    "step(t2q_SAS, 30) |> plot!"
   ]
  },
  {
   "cell_type": "markdown",
   "metadata": {},
   "source": [
    "## 2. $q \\rightarrow e$"
   ]
  },
  {
   "cell_type": "markdown",
   "metadata": {},
   "source": [
    "We now design a pitch rate to elevator CAS on top of the stabilized plant using classical SISO techniques."
   ]
  },
  {
   "cell_type": "code",
   "execution_count": 15,
   "metadata": {},
   "outputs": [
    {
     "ename": "UndefVarError",
     "evalue": "UndefVarError: `P_te` not defined",
     "output_type": "error",
     "traceback": [
      "UndefVarError: `P_te` not defined\n",
      "\n",
      "Stacktrace:\n",
      " [1] top-level scope\n",
      "   @ c:\\Users\\Miguel\\.julia\\dev\\Flight.jl\\src\\aircraft\\c172\\c172fbw\\control\\design\\c172fbw_lon.ipynb:1"
     ]
    }
   ],
   "source": [
    "P_e2q = P_te[:q, :elevator_cmd_sp]\n",
    "marginplot(P_e2q)"
   ]
  },
  {
   "cell_type": "code",
   "execution_count": 16,
   "metadata": {},
   "outputs": [
    {
     "ename": "UndefVarError",
     "evalue": "UndefVarError: `P_e2q` not defined",
     "output_type": "error",
     "traceback": [
      "UndefVarError: `P_e2q` not defined\n",
      "\n",
      "Stacktrace:\n",
      " [1] top-level scope\n",
      "   @ c:\\Users\\Miguel\\.julia\\dev\\Flight.jl\\src\\aircraft\\c172\\c172fbw\\control\\design\\c172fbw_lon.ipynb:1"
     ]
    }
   ],
   "source": [
    "nyquistplot(P_e2q; unit_circle = true, Ms_circles = [1.0])\n",
    "plot!(ylims = (-2,2), xlims = (-2,2))"
   ]
  },
  {
   "cell_type": "code",
   "execution_count": 17,
   "metadata": {},
   "outputs": [
    {
     "ename": "UndefVarError",
     "evalue": "UndefVarError: `P_e2q` not defined",
     "output_type": "error",
     "traceback": [
      "UndefVarError: `P_e2q` not defined\n",
      "\n",
      "Stacktrace:\n",
      " [1] top-level scope\n",
      "   @ c:\\Users\\Miguel\\.julia\\dev\\Flight.jl\\src\\aircraft\\c172\\c172fbw\\control\\design\\c172fbw_lon.ipynb:2"
     ]
    }
   ],
   "source": [
    "q2e_int = tf(1, [1, 0]) |> ss\n",
    "P_q2e_opt = series(q2e_int, ss(P_e2q))\n",
    "\n",
    "t_sim_q2e = 10\n",
    "lower_bounds = PIDParams(; k_p = 0.1, k_i = 0.0, k_d = 0.0, τ_f = 0.01)\n",
    "upper_bounds = PIDParams(; k_p = 10.0, k_i = 35.0, k_d = 1.5, τ_f = 0.01)\n",
    "settings = Settings(; t_sim = t_sim_q2e, lower_bounds, upper_bounds)\n",
    "weights = Metrics(; Ms = 1, ∫e = 10, ef = 2, ∫u = 0.1, up = 0.00)\n",
    "params_0 = PIDParams(; k_p = 2.0, k_i = 15, k_d = 0.4, τ_f = 0.01)\n",
    "\n",
    "q2e_results = optimize_PID(P_q2e_opt; params_0, settings, weights, global_search)\n",
    "\n",
    "@unpack k_p, k_i, k_d, T_i, T_d = q2e_results.params\n",
    "@unpack k_p, k_i, k_d, T_i, T_d = q2e_results.params\n",
    "@show k_p, k_i, k_d, T_i, T_d\n",
    "@show q2e_results.metrics\n",
    "@show q2e_results.exit_flag"
   ]
  },
  {
   "cell_type": "code",
   "execution_count": 18,
   "metadata": {},
   "outputs": [
    {
     "ename": "UndefVarError",
     "evalue": "UndefVarError: `q2e_results` not defined",
     "output_type": "error",
     "traceback": [
      "UndefVarError: `q2e_results` not defined\n",
      "\n",
      "Stacktrace:\n",
      " [1] top-level scope\n",
      "   @ c:\\Users\\Miguel\\.julia\\dev\\Flight.jl\\src\\aircraft\\c172\\c172fbw\\control\\design\\c172fbw_lon.ipynb:1"
     ]
    }
   ],
   "source": [
    "q2e_PID = build_PID(q2e_results.params)\n",
    "# q2e_PID = build_PID(PIDParams(; k_p = 1.594, k_i = 15.216, k_d = 0.102))\n",
    "C_q2e = named_ss(series(q2e_int, q2e_PID), :C_q2e; u = :q_err, y = :elevator_cmd_sp);"
   ]
  },
  {
   "cell_type": "code",
   "execution_count": 19,
   "metadata": {},
   "outputs": [
    {
     "ename": "UndefVarError",
     "evalue": "UndefVarError: `C_q2e` not defined",
     "output_type": "error",
     "traceback": [
      "UndefVarError: `C_q2e` not defined\n",
      "\n",
      "Stacktrace:\n",
      " [1] top-level scope\n",
      "   @ c:\\Users\\Miguel\\.julia\\dev\\Flight.jl\\src\\aircraft\\c172\\c172fbw\\control\\design\\c172fbw_lon.ipynb:2"
     ]
    }
   ],
   "source": [
    "#steady-state error for a unit step input, now zero\n",
    "L_q2e = series(C_q2e, P_e2q)\n",
    "ε_q2e_cl = 1/(1+tf(L_q2e))\n",
    "@show ε_q2e_cl(0)\n",
    "\n",
    "T_q2e = output_comp_sensitivity(P_e2q, C_q2e) #this is the closed loop transfer function\n",
    "T_q2e_step = step(T_q2e, t_sim_q2e)\n",
    "stepinfo(T_q2e_step) |> display\n",
    "T_q2e_step |> plot"
   ]
  },
  {
   "cell_type": "code",
   "execution_count": 20,
   "metadata": {},
   "outputs": [
    {
     "ename": "UndefVarError",
     "evalue": "UndefVarError: `P_e2q` not defined",
     "output_type": "error",
     "traceback": [
      "UndefVarError: `P_e2q` not defined\n",
      "\n",
      "Stacktrace:\n",
      " [1] top-level scope\n",
      "   @ c:\\Users\\Miguel\\.julia\\dev\\Flight.jl\\src\\aircraft\\c172\\c172fbw\\control\\design\\c172fbw_lon.ipynb:1"
     ]
    }
   ],
   "source": [
    "CS_q2e = G_CS(P_e2q, C_q2e)\n",
    "CS_q2e_step = step(CS_q2e, t_sim_q2e)\n",
    "CS_q2e_step |> plot"
   ]
  },
  {
   "cell_type": "code",
   "execution_count": 21,
   "metadata": {},
   "outputs": [
    {
     "ename": "UndefVarError",
     "evalue": "UndefVarError: `L_q2e` not defined",
     "output_type": "error",
     "traceback": [
      "UndefVarError: `L_q2e` not defined\n",
      "\n",
      "Stacktrace:\n",
      " [1] top-level scope\n",
      "   @ c:\\Users\\Miguel\\.julia\\dev\\Flight.jl\\src\\aircraft\\c172\\c172fbw\\control\\design\\c172fbw_lon.ipynb:1"
     ]
    }
   ],
   "source": [
    "marginplot(L_q2e)"
   ]
  },
  {
   "cell_type": "code",
   "execution_count": 22,
   "metadata": {},
   "outputs": [
    {
     "ename": "UndefVarError",
     "evalue": "UndefVarError: `L_q2e` not defined",
     "output_type": "error",
     "traceback": [
      "UndefVarError: `L_q2e` not defined\n",
      "\n",
      "Stacktrace:\n",
      " [1] top-level scope\n",
      "   @ c:\\Users\\Miguel\\.julia\\dev\\Flight.jl\\src\\aircraft\\c172\\c172fbw\\control\\design\\c172fbw_lon.ipynb:1"
     ]
    }
   ],
   "source": [
    "nyquistplot(L_q2e; unit_circle = true, Ms_circles = [1.0])\n",
    "plot!(ylims = (-2,2), xlims = (-2,2))"
   ]
  },
  {
   "cell_type": "code",
   "execution_count": 23,
   "metadata": {},
   "outputs": [
    {
     "ename": "UndefVarError",
     "evalue": "UndefVarError: `P_e2q` not defined",
     "output_type": "error",
     "traceback": [
      "UndefVarError: `P_e2q` not defined\n",
      "\n",
      "Stacktrace:\n",
      " [1] top-level scope\n",
      "   @ c:\\Users\\Miguel\\.julia\\dev\\Flight.jl\\src\\aircraft\\c172\\c172fbw\\control\\design\\c172fbw_lon.ipynb:1"
     ]
    }
   ],
   "source": [
    "gangoffourplot(P_e2q, C_q2e)"
   ]
  },
  {
   "cell_type": "code",
   "execution_count": 24,
   "metadata": {},
   "outputs": [
    {
     "ename": "UndefVarError",
     "evalue": "UndefVarError: `P_te` not defined",
     "output_type": "error",
     "traceback": [
      "UndefVarError: `P_te` not defined\n",
      "\n",
      "Stacktrace:\n",
      " [1] top-level scope\n",
      "   @ c:\\Users\\Miguel\\.julia\\dev\\Flight.jl\\src\\aircraft\\c172\\c172fbw\\control\\design\\c172fbw_lon.ipynb:2"
     ]
    }
   ],
   "source": [
    "q2e_sum = sumblock(\"q_err = q_sp - q\")\n",
    "P_tq = connect([P_te, q2e_sum, C_q2e], [:q_err=>:q_err, :q=>:q, :elevator_cmd_sp=>:elevator_cmd_sp], w1 = [:throttle_cmd_sp, :q_sp], z1 = P_te.y)\n",
    "\n",
    "#verify we get the same response as with the SISO closed loop\n",
    "qsp2q = P_tq[:q, :q_sp]\n",
    "qsp2t = P_tq[:throttle_cmd, :q_sp]\n",
    "qsp2e = P_tq[:elevator_cmd, :q_sp]\n",
    "step(qsp2q, t_sim_q2e) |> plot\n",
    "step(qsp2t, t_sim_q2e) |> plot!\n",
    "# step(qsp2e, t_sim_q2e) |> plot!\n",
    "#and we see that the response matches that of the SISO design"
   ]
  },
  {
   "cell_type": "code",
   "execution_count": 25,
   "metadata": {},
   "outputs": [
    {
     "ename": "UndefVarError",
     "evalue": "UndefVarError: `P_tq` not defined",
     "output_type": "error",
     "traceback": [
      "UndefVarError: `P_tq` not defined\n",
      "\n",
      "Stacktrace:\n",
      " [1] top-level scope\n",
      "   @ c:\\Users\\Miguel\\.julia\\dev\\Flight.jl\\src\\aircraft\\c172\\c172fbw\\control\\design\\c172fbw_lon.ipynb:1"
     ]
    }
   ],
   "source": [
    "dampreport(P_tq)"
   ]
  },
  {
   "cell_type": "markdown",
   "metadata": {},
   "source": [
    "To avoid transients on mode changes, we want the initial output of the pitch rate loop to match the current value of the elevator command setpoint at the pitch SAS input, $e_{cmd,sp}$.\n",
    "\n",
    "Whenever pitch rate mode is enabled after a mode change, we first reset both the integrator and the PID. Then we set PID integrator's state to the appropriate value to achieve the required $e_{cmd,sp}$. We have:\n",
    "$$ y_{int} = 0 $$\n",
    "$$ y_{pid} = k_p y_{int} + k_i x_{i0} = k_i x_{i0} = e_{cmd,sp} $$\n",
    "\n",
    "Therefore:\n",
    "$$x_{i0} = e_{cmd, sp}/k_i$$"
   ]
  },
  {
   "cell_type": "markdown",
   "metadata": {},
   "source": [
    "## 3. $\\theta \\rightarrow q$\n"
   ]
  },
  {
   "cell_type": "markdown",
   "metadata": {},
   "source": [
    "We start with the pitch-rate augmented plant, with throttle and elevator inputs."
   ]
  },
  {
   "cell_type": "code",
   "execution_count": 26,
   "metadata": {},
   "outputs": [
    {
     "ename": "UndefVarError",
     "evalue": "UndefVarError: `P_tq` not defined",
     "output_type": "error",
     "traceback": [
      "UndefVarError: `P_tq` not defined\n",
      "\n",
      "Stacktrace:\n",
      " [1] top-level scope\n",
      "   @ c:\\Users\\Miguel\\.julia\\dev\\Flight.jl\\src\\aircraft\\c172\\c172fbw\\control\\design\\c172fbw_lon.ipynb:1"
     ]
    }
   ],
   "source": [
    "P_q2θ = P_tq[:θ, :q_sp]\n",
    "step(P_q2θ, 10) |> plot"
   ]
  },
  {
   "cell_type": "code",
   "execution_count": 27,
   "metadata": {},
   "outputs": [
    {
     "ename": "UndefVarError",
     "evalue": "UndefVarError: `P_q2θ` not defined",
     "output_type": "error",
     "traceback": [
      "UndefVarError: `P_q2θ` not defined\n",
      "\n",
      "Stacktrace:\n",
      " [1] top-level scope\n",
      "   @ c:\\Users\\Miguel\\.julia\\dev\\Flight.jl\\src\\aircraft\\c172\\c172fbw\\control\\design\\c172fbw_lon.ipynb:1"
     ]
    }
   ],
   "source": [
    "marginplot(P_q2θ)"
   ]
  },
  {
   "cell_type": "code",
   "execution_count": 28,
   "metadata": {},
   "outputs": [
    {
     "ename": "UndefVarError",
     "evalue": "UndefVarError: `P_q2θ` not defined",
     "output_type": "error",
     "traceback": [
      "UndefVarError: `P_q2θ` not defined\n",
      "\n",
      "Stacktrace:\n",
      " [1] top-level scope\n",
      "   @ c:\\Users\\Miguel\\.julia\\dev\\Flight.jl\\src\\aircraft\\c172\\c172fbw\\control\\design\\c172fbw_lon.ipynb:1"
     ]
    }
   ],
   "source": [
    "nyquistplot(P_q2θ; unit_circle = true, Ms_circles = [1.0])\n",
    "plot!(ylims = (-2,2), xlims = (-2,2))"
   ]
  },
  {
   "cell_type": "code",
   "execution_count": 29,
   "metadata": {},
   "outputs": [
    {
     "name": "stdout",
     "output_type": "stream",
     "text": [
      "k_i_θ2q = k_p_θ2q / T_i_θ2q = 0.0\n",
      "k_d_θ2q = k_p_θ2q * T_d_θ2q = 0.0\n"
     ]
    },
    {
     "ename": "UndefVarError",
     "evalue": "UndefVarError: `P_q2θ` not defined",
     "output_type": "error",
     "traceback": [
      "UndefVarError: `P_q2θ` not defined\n",
      "\n",
      "Stacktrace:\n",
      " [1] top-level scope\n",
      "   @ c:\\Users\\Miguel\\.julia\\dev\\Flight.jl\\src\\aircraft\\c172\\c172fbw\\control\\design\\c172fbw_lon.ipynb:10"
     ]
    }
   ],
   "source": [
    "k_p_θ2q = 1\n",
    "T_i_θ2q = Inf\n",
    "T_d_θ2q = 0.0\n",
    "τ_f_θ2q = 0.01\n",
    "@show k_i_θ2q= k_p_θ2q/ T_i_θ2q\n",
    "@show k_d_θ2q= k_p_θ2q* T_d_θ2q\n",
    "\n",
    "θ2q_pid = k_p_θ2q * (1 + 1/T_i_θ2q * tf(1, [1, 0]) + T_d_θ2q * tf([1, 0], [τ_f_θ2q, 1]))\n",
    "C_θ2q = θ2q_pid\n",
    "C_θ2q = named_ss(ss(C_θ2q), :C_θ2q; u = :θ_err, y = :q_sp);\n",
    "L_θ2q = series(C_θ2q, P_q2θ);"
   ]
  },
  {
   "cell_type": "markdown",
   "metadata": {},
   "source": [
    "Testing this simple unit gain feedback design, we find out that it works well for the whole EAS range, so for now it does not seem warranted to use a gain scheduled PID compensator."
   ]
  },
  {
   "cell_type": "code",
   "execution_count": 30,
   "metadata": {},
   "outputs": [
    {
     "data": {
      "text/plain": [
       "10"
      ]
     },
     "metadata": {},
     "output_type": "display_data"
    }
   ],
   "source": [
    "t_sim_θ2q = 10"
   ]
  },
  {
   "cell_type": "code",
   "execution_count": 31,
   "metadata": {},
   "outputs": [
    {
     "ename": "UndefVarError",
     "evalue": "UndefVarError: `L_θ2q` not defined",
     "output_type": "error",
     "traceback": [
      "UndefVarError: `L_θ2q` not defined\n",
      "\n",
      "Stacktrace:\n",
      " [1] top-level scope\n",
      "   @ c:\\Users\\Miguel\\.julia\\dev\\Flight.jl\\src\\aircraft\\c172\\c172fbw\\control\\design\\c172fbw_lon.ipynb:1"
     ]
    }
   ],
   "source": [
    "nyquistplot(L_θ2q; unit_circle = true, Ms_circles = [1.0])\n",
    "plot!(ylims = (-2,2), xlims = (-2,2))"
   ]
  },
  {
   "cell_type": "code",
   "execution_count": 32,
   "metadata": {},
   "outputs": [
    {
     "ename": "UndefVarError",
     "evalue": "UndefVarError: `L_θ2q` not defined",
     "output_type": "error",
     "traceback": [
      "UndefVarError: `L_θ2q` not defined\n",
      "\n",
      "Stacktrace:\n",
      " [1] top-level scope\n",
      "   @ c:\\Users\\Miguel\\.julia\\dev\\Flight.jl\\src\\aircraft\\c172\\c172fbw\\control\\design\\c172fbw_lon.ipynb:1"
     ]
    }
   ],
   "source": [
    "marginplot(L_θ2q)"
   ]
  },
  {
   "cell_type": "code",
   "execution_count": 33,
   "metadata": {},
   "outputs": [
    {
     "ename": "UndefVarError",
     "evalue": "UndefVarError: `P_q2θ` not defined",
     "output_type": "error",
     "traceback": [
      "UndefVarError: `P_q2θ` not defined\n",
      "\n",
      "Stacktrace:\n",
      " [1] top-level scope\n",
      "   @ c:\\Users\\Miguel\\.julia\\dev\\Flight.jl\\src\\aircraft\\c172\\c172fbw\\control\\design\\c172fbw_lon.ipynb:1"
     ]
    }
   ],
   "source": [
    "T_θ2q = output_comp_sensitivity(P_q2θ, C_θ2q)\n",
    "T_θ2q_step = step(T_θ2q, t_sim_θ2q)\n",
    "stepinfo(T_θ2q_step) |> display\n",
    "T_θ2q_step |> plot"
   ]
  },
  {
   "cell_type": "code",
   "execution_count": 34,
   "metadata": {},
   "outputs": [
    {
     "ename": "UndefVarError",
     "evalue": "UndefVarError: `P_q2θ` not defined",
     "output_type": "error",
     "traceback": [
      "UndefVarError: `P_q2θ` not defined\n",
      "\n",
      "Stacktrace:\n",
      " [1] top-level scope\n",
      "   @ c:\\Users\\Miguel\\.julia\\dev\\Flight.jl\\src\\aircraft\\c172\\c172fbw\\control\\design\\c172fbw_lon.ipynb:1"
     ]
    }
   ],
   "source": [
    "gangoffourplot(P_q2θ, C_θ2q)"
   ]
  },
  {
   "cell_type": "code",
   "execution_count": 35,
   "metadata": {},
   "outputs": [
    {
     "ename": "UndefVarError",
     "evalue": "UndefVarError: `P_tq` not defined",
     "output_type": "error",
     "traceback": [
      "UndefVarError: `P_tq` not defined\n",
      "\n",
      "Stacktrace:\n",
      " [1] top-level scope\n",
      "   @ c:\\Users\\Miguel\\.julia\\dev\\Flight.jl\\src\\aircraft\\c172\\c172fbw\\control\\design\\c172fbw_lon.ipynb:1"
     ]
    }
   ],
   "source": [
    "θ2q_sum = sumblock(\"θ_err = θ_sp - θ\")\n",
    "P_tθ = connect([P_tq, θ2q_sum, C_θ2q], [:θ_err=>:θ_err, :θ=>:θ, :q_sp=>:q_sp], w1 = [:throttle_cmd_sp, :θ_sp], z1 = P_tq.y);\n",
    "\n",
    "#check we get the same response as with the SISO closed loop\n",
    "θsp2θ = P_tθ[:θ, :θ_sp]\n",
    "θsp2t = P_tθ[:throttle_cmd, :θ_sp]\n",
    "θsp2e = P_tθ[:elevator_cmd, :θ_sp]\n",
    "step(θsp2θ, t_sim_θ2q) |> plot\n",
    "step(θsp2t, t_sim_θ2q) |> plot!\n",
    "# step(θsp2e, t_sim_θ2q) |> plot!"
   ]
  },
  {
   "cell_type": "markdown",
   "metadata": {},
   "source": [
    "Our linear model comes from a horizontal, wings level flight condition, in which:\n",
    "$$\\dot{\\theta} = q$$\n",
    "However, in the general case we have the following kinematic relations:\n",
    "$$\n",
    "q = \\dot{\\theta} \\cos \\phi + \\dot{\\psi} \\sin \\phi \\cos \\theta \\\\\n",
    "\\dot{\\psi} = \\dfrac{1}{\\cos \\theta} (q \\sin \\phi + r \\cos \\phi)\n",
    "$$\n",
    "\n",
    "Substituting the second equation into the first and solving for q we arrive at:\n",
    "$$\n",
    "q(\\dot{\\theta}, r, \\phi) = \\dfrac{1}{\\cos \\phi}(\\dot{\\theta} + r \\tan \\phi)\n",
    "$$\n",
    "\n",
    "This shows that, when we have nonzero $r$ and nonzero $\\phi$ (for example, during a turn), maintaining $\\dot{\\theta} = 0$ requires nonzero $q$. Also, as $\\phi$ increases, the gain from $\\dot{\\theta}$ to $q$ decreases.\n",
    "\n",
    "Since the $\\theta$ controller design assumes $q = \\dot{\\theta}$, the $q_{sp}$ output by the $\\theta$ controller should actually be interpreted as $\\dot{\\theta}_{sp}$ (or equivalently, the $q_{sp}$ we would need to track the desired $\\theta$ in the absence of $r$ and $\\phi$). The actual $q_{sp}$ required is given by:\n",
    "$$q_{sp}=q(\\dot{\\theta}_{sp}, r, \\phi)$$\n",
    "\n",
    "What would happen during a turn if we didn't introduce this feedforward correction? Since the $\\theta$ controller is purely proportional, it can only generate a nonzero output for nonzero $\\theta$ error. Therefore, the necessary steady state $q = r \\tan \\phi$ required by the turn can only be achieved by the $\\theta$ controller through a nonzero steady state $\\theta$ error. This means that turning would always produce a nonzero steady-state $\\theta$ error. The higher the turn rate, the larger the error."
   ]
  },
  {
   "cell_type": "markdown",
   "metadata": {},
   "source": [
    "To avoid transients on mode changes, we want the initial $\\theta$ loop to produce $\\dot{\\theta}_{sp} = 0$ when $\\theta_{sp}$ is initialized to the current $\\theta$. Since this is only a proportional compensator this is unconditionally true:\n",
    "$$\\dot{\\theta}_{sp} = k_p (\\theta_{sp} - \\theta)$$"
   ]
  },
  {
   "cell_type": "markdown",
   "metadata": {},
   "source": [
    "## 4. EAS $\\rightarrow \\theta$\n"
   ]
  },
  {
   "cell_type": "markdown",
   "metadata": {},
   "source": [
    "We start from the $\\theta$-augmented plant. We leave the throttle alone and design a EAS to $\\theta$ SISO loop."
   ]
  },
  {
   "cell_type": "code",
   "execution_count": 36,
   "metadata": {},
   "outputs": [
    {
     "ename": "UndefVarError",
     "evalue": "UndefVarError: `P_tθ` not defined",
     "output_type": "error",
     "traceback": [
      "UndefVarError: `P_tθ` not defined\n",
      "\n",
      "Stacktrace:\n",
      " [1] top-level scope\n",
      "   @ c:\\Users\\Miguel\\.julia\\dev\\Flight.jl\\src\\aircraft\\c172\\c172fbw\\control\\design\\c172fbw_lon.ipynb:1"
     ]
    }
   ],
   "source": [
    "P_θ2v = P_tθ[:EAS, :θ_sp]\n",
    "step(P_θ2v, 60) |> plot"
   ]
  },
  {
   "cell_type": "markdown",
   "metadata": {},
   "source": [
    "As expected, we have negative DC gain, so the compensator will require a sign inversion. For design, we can move this inversion to the plant."
   ]
  },
  {
   "cell_type": "code",
   "execution_count": 37,
   "metadata": {},
   "outputs": [
    {
     "ename": "UndefVarError",
     "evalue": "UndefVarError: `P_θ2v` not defined",
     "output_type": "error",
     "traceback": [
      "UndefVarError: `P_θ2v` not defined\n",
      "\n",
      "Stacktrace:\n",
      " [1] top-level scope\n",
      "   @ c:\\Users\\Miguel\\.julia\\dev\\Flight.jl\\src\\aircraft\\c172\\c172fbw\\control\\design\\c172fbw_lon.ipynb:1"
     ]
    }
   ],
   "source": [
    "zpk(P_θ2v) |> display\n",
    "P_θ2v_opt = -P_θ2v;"
   ]
  },
  {
   "cell_type": "code",
   "execution_count": 38,
   "metadata": {},
   "outputs": [
    {
     "ename": "UndefVarError",
     "evalue": "UndefVarError: `P_θ2v_opt` not defined",
     "output_type": "error",
     "traceback": [
      "UndefVarError: `P_θ2v_opt` not defined\n",
      "\n",
      "Stacktrace:\n",
      " [1] top-level scope\n",
      "   @ c:\\Users\\Miguel\\.julia\\dev\\Flight.jl\\src\\aircraft\\c172\\c172fbw\\control\\design\\c172fbw_lon.ipynb:1"
     ]
    }
   ],
   "source": [
    "nyquistplot(P_θ2v_opt; unit_circle = true, Ms_circles = [1.0])\n",
    "plot!(ylims = (-2,2), xlims = (-2,2))"
   ]
  },
  {
   "cell_type": "code",
   "execution_count": 39,
   "metadata": {},
   "outputs": [
    {
     "ename": "UndefVarError",
     "evalue": "UndefVarError: `P_θ2v_opt` not defined",
     "output_type": "error",
     "traceback": [
      "UndefVarError: `P_θ2v_opt` not defined\n",
      "\n",
      "Stacktrace:\n",
      " [1] top-level scope\n",
      "   @ c:\\Users\\Miguel\\.julia\\dev\\Flight.jl\\src\\aircraft\\c172\\c172fbw\\control\\design\\c172fbw_lon.ipynb:17"
     ]
    }
   ],
   "source": [
    "# k_p_v2θ = .04\n",
    "# T_i_v2θ = 5\n",
    "# T_d_v2θ = 0.0\n",
    "# τ_f_v2θ = 0.01\n",
    "# @show k_i_v2θ= k_p_v2θ/ T_i_v2θ\n",
    "# @show k_d_v2θ= k_p_v2θ* T_d_v2θ\n",
    "# v2θ_pid = k_p_v2θ * (1 + 1/T_i_v2θ * tf(1, [1, 0]) + T_d_v2θ * tf([1, 0], [τ_f_v2θ, 1]))\n",
    "# C_v2θ = -v2θ_pid\n",
    "\n",
    "t_sim_v2θ = 20\n",
    "lower_bounds = PIDParams(; k_p = 0.01, k_i = 0.000, k_d = 0.0, τ_f = 0.01)\n",
    "upper_bounds = PIDParams(; k_p = 0.2, k_i = 0.05, k_d = 0.0, τ_f = 0.01)\n",
    "settings = Settings(; t_sim = t_sim_v2θ, lower_bounds, upper_bounds)\n",
    "weights = Metrics(; Ms = 2.0, ∫e = 5.0, ef = 1.0, ∫u = 0.0, up = 0.0)\n",
    "params_0 = PIDParams(; k_p = 0.05, k_i = 0.01, k_d = 0.0, τ_f = 0.01)\n",
    "\n",
    "v2θ_results = optimize_PID(P_θ2v_opt; params_0, settings, weights, global_search)\n",
    "v2θ_pid = build_PID(v2θ_results.params)\n",
    "C_v2θ = -v2θ_pid\n",
    "C_v2θ = named_ss(ss(C_v2θ), :C_v2θ; u = :EAS_err, y = :θ_sp)\n",
    "L_v2θ = series(C_v2θ, P_θ2v);\n",
    "\n",
    "@unpack k_p, k_i, k_d, τ_f, T_i, T_d = v2θ_results.params\n",
    "@show k_p, k_i, k_d, τ_f, T_i, T_d\n",
    "@show v2θ_results.metrics\n",
    "@show v2θ_results.exit_flag;"
   ]
  },
  {
   "cell_type": "code",
   "execution_count": 40,
   "metadata": {},
   "outputs": [
    {
     "ename": "UndefVarError",
     "evalue": "UndefVarError: `L_v2θ` not defined",
     "output_type": "error",
     "traceback": [
      "UndefVarError: `L_v2θ` not defined\n",
      "\n",
      "Stacktrace:\n",
      " [1] top-level scope\n",
      "   @ c:\\Users\\Miguel\\.julia\\dev\\Flight.jl\\src\\aircraft\\c172\\c172fbw\\control\\design\\c172fbw_lon.ipynb:1"
     ]
    }
   ],
   "source": [
    "nyquistplot(L_v2θ; unit_circle = true, Ms_circles = [1.0])\n",
    "plot!(ylims = (-2,2), xlims = (-2,2))\n"
   ]
  },
  {
   "cell_type": "code",
   "execution_count": 41,
   "metadata": {},
   "outputs": [
    {
     "ename": "UndefVarError",
     "evalue": "UndefVarError: `L_v2θ` not defined",
     "output_type": "error",
     "traceback": [
      "UndefVarError: `L_v2θ` not defined\n",
      "\n",
      "Stacktrace:\n",
      " [1] top-level scope\n",
      "   @ c:\\Users\\Miguel\\.julia\\dev\\Flight.jl\\src\\aircraft\\c172\\c172fbw\\control\\design\\c172fbw_lon.ipynb:1"
     ]
    }
   ],
   "source": [
    "marginplot(L_v2θ)"
   ]
  },
  {
   "cell_type": "code",
   "execution_count": 42,
   "metadata": {},
   "outputs": [
    {
     "ename": "UndefVarError",
     "evalue": "UndefVarError: `P_θ2v` not defined",
     "output_type": "error",
     "traceback": [
      "UndefVarError: `P_θ2v` not defined\n",
      "\n",
      "Stacktrace:\n",
      " [1] top-level scope\n",
      "   @ c:\\Users\\Miguel\\.julia\\dev\\Flight.jl\\src\\aircraft\\c172\\c172fbw\\control\\design\\c172fbw_lon.ipynb:1"
     ]
    }
   ],
   "source": [
    "T_v2θ = output_comp_sensitivity(P_θ2v, C_v2θ)\n",
    "T_v2θ_step = step(T_v2θ, t_sim_v2θ)\n",
    "stepinfo(T_v2θ_step) |> display\n",
    "T_v2θ_step |> plot"
   ]
  },
  {
   "cell_type": "code",
   "execution_count": 43,
   "metadata": {},
   "outputs": [
    {
     "ename": "UndefVarError",
     "evalue": "UndefVarError: `P_θ2v` not defined",
     "output_type": "error",
     "traceback": [
      "UndefVarError: `P_θ2v` not defined\n",
      "\n",
      "Stacktrace:\n",
      " [1] top-level scope\n",
      "   @ c:\\Users\\Miguel\\.julia\\dev\\Flight.jl\\src\\aircraft\\c172\\c172fbw\\control\\design\\c172fbw_lon.ipynb:1"
     ]
    }
   ],
   "source": [
    "gangoffourplot(P_θ2v, C_v2θ)"
   ]
  },
  {
   "cell_type": "code",
   "execution_count": 44,
   "metadata": {},
   "outputs": [
    {
     "ename": "UndefVarError",
     "evalue": "UndefVarError: `P_tθ` not defined",
     "output_type": "error",
     "traceback": [
      "UndefVarError: `P_tθ` not defined\n",
      "\n",
      "Stacktrace:\n",
      " [1] top-level scope\n",
      "   @ c:\\Users\\Miguel\\.julia\\dev\\Flight.jl\\src\\aircraft\\c172\\c172fbw\\control\\design\\c172fbw_lon.ipynb:2"
     ]
    }
   ],
   "source": [
    "v2θ_sum = sumblock(\"EAS_err = EAS_sp - EAS\")\n",
    "P_tv = connect([P_tθ, v2θ_sum, C_v2θ], [:EAS_err=>:EAS_err, :EAS=>:EAS, :θ_sp=>:θ_sp], w1 = [:throttle_cmd_sp, :EAS_sp], z1 = P_tθ.y)\n",
    "\n",
    "#check we get the same response as with the SISO closed loop\n",
    "EASsp2EAS = P_tv[:EAS, :EAS_sp]\n",
    "EASsp2e = P_tv[:elevator_cmd, :EAS_sp]\n",
    "EASsp2θ = P_tv[:θ, :EAS_sp]\n",
    "step(EASsp2EAS, t_sim_v2θ) |> plot\n",
    "step(EASsp2e, t_sim_v2θ) |> plot!\n",
    "step(EASsp2θ, t_sim_v2θ) |> plot!"
   ]
  },
  {
   "cell_type": "markdown",
   "metadata": {},
   "source": [
    "To avoid transients on mode changes, we want the initial $\\theta_{sp}$ output from the $v2\\theta$ controller to match the current value of pitch angle $\\theta$ when $EAS_{sp}$ matches the current $EAS$.\n",
    "\n",
    "Whenever $v2\\theta$ is enabled after a mode change, we reset the PID. Then we set the PID integrator's state to the appropriate value to achieve the required $\\theta$. Noting the sign inversion, we have:\n",
    "$$ y_{pid} = k_p (EAS_{sp} - EAS) + k_i x_{i0} = k_i x_{i0} $$\n",
    "$$ \\theta_{sp} = -y_{pid}$$\n",
    "\n",
    "Therefore:\n",
    "$$x_{i0} = y_{pid} / k_i = -\\theta_{sp}/k_i = -\\theta/k_i$$"
   ]
  },
  {
   "cell_type": "markdown",
   "metadata": {},
   "source": [
    "## 5. $EAS \\rightarrow t$"
   ]
  },
  {
   "cell_type": "markdown",
   "metadata": {},
   "source": [
    "To design a SISO EAS-to-throttle controller, we should start from a plant with pitch control augmentation. The throttle-to-EAS response of the raw plant is unsuitable."
   ]
  },
  {
   "cell_type": "code",
   "execution_count": 45,
   "metadata": {},
   "outputs": [
    {
     "ename": "UndefVarError",
     "evalue": "UndefVarError: `P_tq` not defined",
     "output_type": "error",
     "traceback": [
      "UndefVarError: `P_tq` not defined\n",
      "\n",
      "Stacktrace:\n",
      " [1] top-level scope\n",
      "   @ c:\\Users\\Miguel\\.julia\\dev\\Flight.jl\\src\\aircraft\\c172\\c172fbw\\control\\design\\c172fbw_lon.ipynb:1"
     ]
    }
   ],
   "source": [
    "P_t2v = P_tq[:EAS, :throttle_cmd]\n",
    "dampreport(P_t2v)\n",
    "step(P_t2v, 10) |> plot"
   ]
  },
  {
   "cell_type": "code",
   "execution_count": 46,
   "metadata": {},
   "outputs": [
    {
     "ename": "UndefVarError",
     "evalue": "UndefVarError: `P_t2v` not defined",
     "output_type": "error",
     "traceback": [
      "UndefVarError: `P_t2v` not defined\n",
      "\n",
      "Stacktrace:\n",
      " [1] top-level scope\n",
      "   @ c:\\Users\\Miguel\\.julia\\dev\\Flight.jl\\src\\aircraft\\c172\\c172fbw\\control\\design\\c172fbw_lon.ipynb:2"
     ]
    }
   ],
   "source": [
    "#error transfer function for a unit feedback closed loop and a unit step input\n",
    "marginplot(P_t2v)"
   ]
  },
  {
   "cell_type": "code",
   "execution_count": 47,
   "metadata": {},
   "outputs": [
    {
     "ename": "UndefVarError",
     "evalue": "UndefVarError: `P_e2q` not defined",
     "output_type": "error",
     "traceback": [
      "UndefVarError: `P_e2q` not defined\n",
      "\n",
      "Stacktrace:\n",
      " [1] top-level scope\n",
      "   @ c:\\Users\\Miguel\\.julia\\dev\\Flight.jl\\src\\aircraft\\c172\\c172fbw\\control\\design\\c172fbw_lon.ipynb:1"
     ]
    }
   ],
   "source": [
    "nyquistplot(P_e2q; unit_circle = true, Ms_circles = [1.0])\n",
    "plot!(ylims = (-2,2), xlims = (-2,2))"
   ]
  },
  {
   "cell_type": "code",
   "execution_count": 48,
   "metadata": {},
   "outputs": [
    {
     "ename": "UndefVarError",
     "evalue": "UndefVarError: `P_t2v` not defined",
     "output_type": "error",
     "traceback": [
      "UndefVarError: `P_t2v` not defined\n",
      "\n",
      "Stacktrace:\n",
      " [1] top-level scope\n",
      "   @ c:\\Users\\Miguel\\.julia\\dev\\Flight.jl\\src\\aircraft\\c172\\c172fbw\\control\\design\\c172fbw_lon.ipynb:8"
     ]
    }
   ],
   "source": [
    "t_sim_v2t = 10\n",
    "lower_bounds = PIDParams(; k_p = 0.1, k_i = 0.0, k_d = 0.0, τ_f = 0.01)\n",
    "upper_bounds = PIDParams(; k_p = 1.0, k_i = 0.5, k_d = 0.0, τ_f = 0.01)\n",
    "settings = Settings(; t_sim = t_sim_v2t, maxeval = 5000, lower_bounds, upper_bounds)\n",
    "weights = Metrics(; Ms = 2.0, ∫e = 5.0, ef = 1.0, ∫u = 0.0, up = 0.0)\n",
    "params_0 = PIDParams(; k_p = 0.2, k_i = 0.1, k_d = 0.0, τ_f = 0.01)\n",
    "\n",
    "v2t_results = optimize_PID(P_t2v; params_0, settings, weights, global_search)\n",
    "v2t_PID = build_PID(v2t_results.params)\n",
    "\n",
    "C_v2t = named_ss(ss(v2t_PID), :C_v2t; u = :EAS_err, y = :throttle_cmd_sp)\n",
    "L_v2t = series(C_v2t, P_t2v)\n",
    "\n",
    "@unpack k_p, k_i, k_d, T_i, T_d = v2t_results.params\n",
    "@show k_p, k_i, k_d, T_i, T_d\n",
    "@show v2t_results.metrics\n",
    "@show v2t_results.exit_flag"
   ]
  },
  {
   "cell_type": "code",
   "execution_count": 49,
   "metadata": {},
   "outputs": [
    {
     "ename": "UndefVarError",
     "evalue": "UndefVarError: `L_v2t` not defined",
     "output_type": "error",
     "traceback": [
      "UndefVarError: `L_v2t` not defined\n",
      "\n",
      "Stacktrace:\n",
      " [1] top-level scope\n",
      "   @ c:\\Users\\Miguel\\.julia\\dev\\Flight.jl\\src\\aircraft\\c172\\c172fbw\\control\\design\\c172fbw_lon.ipynb:1"
     ]
    }
   ],
   "source": [
    "marginplot(L_v2t)"
   ]
  },
  {
   "cell_type": "code",
   "execution_count": 50,
   "metadata": {},
   "outputs": [
    {
     "ename": "UndefVarError",
     "evalue": "UndefVarError: `L_v2t` not defined",
     "output_type": "error",
     "traceback": [
      "UndefVarError: `L_v2t` not defined\n",
      "\n",
      "Stacktrace:\n",
      " [1] top-level scope\n",
      "   @ c:\\Users\\Miguel\\.julia\\dev\\Flight.jl\\src\\aircraft\\c172\\c172fbw\\control\\design\\c172fbw_lon.ipynb:1"
     ]
    }
   ],
   "source": [
    "nyquistplot(L_v2t; unit_circle = true, Ms_circles = [1.0])\n",
    "plot!(ylims = (-2,2), xlims = (-2,2))"
   ]
  },
  {
   "cell_type": "code",
   "execution_count": 51,
   "metadata": {},
   "outputs": [
    {
     "ename": "UndefVarError",
     "evalue": "UndefVarError: `P_t2v` not defined",
     "output_type": "error",
     "traceback": [
      "UndefVarError: `P_t2v` not defined\n",
      "\n",
      "Stacktrace:\n",
      " [1] top-level scope\n",
      "   @ c:\\Users\\Miguel\\.julia\\dev\\Flight.jl\\src\\aircraft\\c172\\c172fbw\\control\\design\\c172fbw_lon.ipynb:1"
     ]
    }
   ],
   "source": [
    "T_v2t = output_comp_sensitivity(P_t2v, C_v2t)\n",
    "T_v2t_step = step(T_v2t, t_sim_v2t)\n",
    "stepinfo(T_v2t_step) |> display\n",
    "T_v2t_step |> plot"
   ]
  },
  {
   "cell_type": "code",
   "execution_count": 52,
   "metadata": {},
   "outputs": [
    {
     "ename": "UndefVarError",
     "evalue": "UndefVarError: `P_t2v` not defined",
     "output_type": "error",
     "traceback": [
      "UndefVarError: `P_t2v` not defined\n",
      "\n",
      "Stacktrace:\n",
      " [1] top-level scope\n",
      "   @ c:\\Users\\Miguel\\.julia\\dev\\Flight.jl\\src\\aircraft\\c172\\c172fbw\\control\\design\\c172fbw_lon.ipynb:1"
     ]
    }
   ],
   "source": [
    "CS_v2t = G_CS(P_t2v, C_v2t)\n",
    "CS_v2t_step = step(CS_v2t, t_sim_v2t)\n",
    "CS_v2t_step |> plot!"
   ]
  },
  {
   "cell_type": "code",
   "execution_count": 53,
   "metadata": {},
   "outputs": [
    {
     "ename": "UndefVarError",
     "evalue": "UndefVarError: `P_t2v` not defined",
     "output_type": "error",
     "traceback": [
      "UndefVarError: `P_t2v` not defined\n",
      "\n",
      "Stacktrace:\n",
      " [1] top-level scope\n",
      "   @ c:\\Users\\Miguel\\.julia\\dev\\Flight.jl\\src\\aircraft\\c172\\c172fbw\\control\\design\\c172fbw_lon.ipynb:1"
     ]
    }
   ],
   "source": [
    "gangoffourplot(P_t2v, C_v2t)"
   ]
  },
  {
   "cell_type": "code",
   "execution_count": 54,
   "metadata": {},
   "outputs": [
    {
     "ename": "UndefVarError",
     "evalue": "UndefVarError: `P_tq` not defined",
     "output_type": "error",
     "traceback": [
      "UndefVarError: `P_tq` not defined\n",
      "\n",
      "Stacktrace:\n",
      " [1] top-level scope\n",
      "   @ c:\\Users\\Miguel\\.julia\\dev\\Flight.jl\\src\\aircraft\\c172\\c172fbw\\control\\design\\c172fbw_lon.ipynb:2"
     ]
    }
   ],
   "source": [
    "v2t_sum = sumblock(\"EAS_err = EAS_sp - EAS\")\n",
    "P_vq = connect([P_tq, v2t_sum, C_v2t], [:EAS_err=>:EAS_err, :EAS=>:EAS, :throttle_cmd_sp=>:throttle_cmd_sp], w1 = [:EAS_sp, :q_sp], z1 = P_tq.y)\n",
    "\n",
    "#check we get the same response as with the SISO closed loop\n",
    "EASsp2EAS = P_vq[:EAS, :EAS_sp]\n",
    "EASsp2thr = P_vq[:throttle_cmd, :EAS_sp]\n",
    "EASsp2θ = P_vq[:θ, :EAS_sp]\n",
    "step(EASsp2EAS, t_sim_v2t) |> plot\n",
    "step(EASsp2thr, t_sim_v2t) |> plot!\n",
    "step(EASsp2θ, t_sim_v2t) |> plot!"
   ]
  },
  {
   "cell_type": "markdown",
   "metadata": {},
   "source": [
    "To avoid transients on mode changes, we want the initial throttle command setpoint $thr_{sp}$ output from the $v2t$ controller to match the current value of throttle command $thr$ when $EAS_{sp}$ matches the current $EAS$. Whenever $v2t$ is enabled after a mode change, we reset the PID. Then we set the PID integrator's state to the appropriate value to achieve the required $thr$. We have:\n",
    "$$thr_{sp} = y_{pid} = k_p (EAS_{sp} - EAS) + k_i x_{i0} = k_i x_{i0} = thr $$\n",
    "\n",
    "Therefore:\n",
    "$$x_{i0} = thr/k_i$$"
   ]
  },
  {
   "cell_type": "markdown",
   "metadata": {},
   "source": [
    "## 6. EAS + Climb Rate Control"
   ]
  },
  {
   "cell_type": "markdown",
   "metadata": {},
   "source": [
    "We start from scratch from the non-stabilized reduced longitudinal dynamics. This will be a true MIMO compensator mode with integral control in both command variables."
   ]
  },
  {
   "cell_type": "code",
   "execution_count": 55,
   "metadata": {},
   "outputs": [
    {
     "ename": "UndefVarError",
     "evalue": "UndefVarError: `ZLonEASClm` not defined",
     "output_type": "error",
     "traceback": [
      "UndefVarError: `ZLonEASClm` not defined\n",
      "\n",
      "Stacktrace:\n",
      " [1] getproperty(x::Module, f::Symbol)\n",
      "   @ Base .\\Base.jl:31\n",
      " [2] top-level scope\n",
      "   @ c:\\Users\\Miguel\\.julia\\dev\\Flight.jl\\src\\aircraft\\c172\\c172fbw\\control\\design\\c172fbw_lon.ipynb:3"
     ]
    }
   ],
   "source": [
    "#define command variables\n",
    "z_labels = [:EAS, :climb_rate]\n",
    "@assert tuple(z_labels...) === propertynames(FlightControl.ZLonEASClm())\n",
    "z_trim = lss_red.y0[z_labels]\n",
    "n_z = length(z_labels)\n",
    "\n",
    "z_labels_sp = Symbol.(string.(z_labels) .* \"_sp\")\n"
   ]
  },
  {
   "cell_type": "code",
   "execution_count": 56,
   "metadata": {},
   "outputs": [
    {
     "data": {
      "text/plain": [
       "2×10 \u001b[0mComponentMatrix{Float64} with axes Axis(EAS = 1, climb_rate = 2) × Axis(q = 1, θ = 2, v_x = 3, v_z = 4, α_filt = 5, ω_eng = 6, thr_v = 7, thr_p = 8, ele_v = 9, ele_p = 10)\n",
       " 0.0   0.0     0.950817    0.0223979  0.0  0.0  0.0  0.0  0.0  0.0\n",
       " 0.0  52.5718  0.0235503  -0.999722   0.0  0.0  0.0  0.0  0.0  0.0"
      ]
     },
     "metadata": {},
     "output_type": "display_data"
    },
    {
     "data": {
      "text/plain": [
       "2×2 \u001b[0mComponentMatrix{Float64} with axes Axis(EAS = 1, climb_rate = 2) × Axis(throttle_cmd = 1, elevator_cmd = 2)\n",
       " 0.0  0.0\n",
       " 0.0  0.0"
      ]
     },
     "metadata": {},
     "output_type": "display_data"
    },
    {
     "ename": "UndefVarError",
     "evalue": "UndefVarError: `n_x` not defined",
     "output_type": "error",
     "traceback": [
      "UndefVarError: `n_x` not defined\n",
      "\n",
      "Stacktrace:\n",
      " [1] top-level scope\n",
      "   @ c:\\Users\\Miguel\\.julia\\dev\\Flight.jl\\src\\aircraft\\c172\\c172fbw\\control\\design\\c172fbw_lon.ipynb:14"
     ]
    }
   ],
   "source": [
    "F = lss_red.A\n",
    "G = lss_red.B\n",
    "Hx = lss_red.C[z_labels, :]\n",
    "Hu = lss_red.D[z_labels, :]\n",
    "display(Hx)\n",
    "display(Hu)\n",
    "\n",
    "#define the blocks corresponding to the subset of the command variables for\n",
    "#which integral compensation is required. in this case, both\n",
    "Hx_int = Hx[z_labels, :]\n",
    "Hu_int = Hu[z_labels, :]\n",
    "n_int, _ = size(Hx_int)\n",
    "\n",
    "F_aug = [F zeros(n_x, n_int); Hx_int zeros(n_int, n_int)]\n",
    "G_aug = [G; Hu_int]\n",
    "Hx_aug = [Hx zeros(n_z, n_int)]\n",
    "Hu_aug = Hu\n",
    "\n",
    "P_aug = ss(F_aug, G_aug, Hx_aug, Hu_aug)\n",
    "controllability(F_aug, G_aug)"
   ]
  },
  {
   "cell_type": "code",
   "execution_count": 57,
   "metadata": {},
   "outputs": [
    {
     "ename": "UndefVarError",
     "evalue": "UndefVarError: `ULon` not defined",
     "output_type": "error",
     "traceback": [
      "UndefVarError: `ULon` not defined\n",
      "\n",
      "Stacktrace:\n",
      " [1] getproperty(x::Module, f::Symbol)\n",
      "   @ Base .\\Base.jl:31\n",
      " [2] top-level scope\n",
      "   @ c:\\Users\\Miguel\\.julia\\dev\\Flight.jl\\src\\aircraft\\c172\\c172fbw\\control\\design\\c172fbw_lon.ipynb:6"
     ]
    }
   ],
   "source": [
    "@unpack v_x, v_z = lss_red.x0\n",
    "v_norm = norm([v_x, v_z])\n",
    "\n",
    "#weight matrices\n",
    "Q = ComponentVector(q = 1, θ = 100, v_x = 10/v_norm, v_z = 1/v_norm, α_filt = 1, ω_eng = 0, thr_v = 0.0, thr_p = 0, ele_v = 0, ele_p = 0, ξ_EAS = 0.005, ξ_climb_rate = 0.001) |> diagm\n",
    "R = FlightControl.ULon(throttle_cmd = 1, elevator_cmd = 1) |> diagm\n",
    "\n",
    "#compute gain matrix\n",
    "C_aug = lqr(P_aug, Q, R)\n",
    "\n",
    "# quickly construct the closed-loop augmented system to check the resulting\n",
    "# eigenvalues, we'll do the connections properly later\n",
    "F_aug_cl = F_aug - G_aug * C_aug\n",
    "P_aug_cl = ss(F_aug_cl, G_aug, Hx_aug, Hu_aug)\n",
    "\n",
    "dampreport(P_aug)\n",
    "dampreport(P_aug_cl)"
   ]
  },
  {
   "cell_type": "code",
   "execution_count": 58,
   "metadata": {},
   "outputs": [
    {
     "ename": "UndefVarError",
     "evalue": "UndefVarError: `C_aug` not defined",
     "output_type": "error",
     "traceback": [
      "UndefVarError: `C_aug` not defined\n",
      "\n",
      "Stacktrace:\n",
      " [1] top-level scope\n",
      "   @ c:\\Users\\Miguel\\.julia\\dev\\Flight.jl\\src\\aircraft\\c172\\c172fbw\\control\\design\\c172fbw_lon.ipynb:2"
     ]
    }
   ],
   "source": [
    "#extract system state and integrator blocks from the feedback matrix\n",
    "C_x = C_aug[:, 1:n_x]\n",
    "C_ξ = C_aug[:, n_x+1:end]\n",
    "display(C_ξ)"
   ]
  },
  {
   "cell_type": "code",
   "execution_count": 59,
   "metadata": {},
   "outputs": [
    {
     "ename": "UndefVarError",
     "evalue": "UndefVarError: `n_x` not defined",
     "output_type": "error",
     "traceback": [
      "UndefVarError: `n_x` not defined\n",
      "\n",
      "Stacktrace:\n",
      " [1] top-level scope\n",
      "   @ c:\\Users\\Miguel\\.julia\\dev\\Flight.jl\\src\\aircraft\\c172\\c172fbw\\control\\design\\c172fbw_lon.ipynb:3"
     ]
    }
   ],
   "source": [
    "A = [F G; Hx Hu]\n",
    "B = inv(A)\n",
    "B_12 = B[1:n_x, n_x+1:end]\n",
    "B_22 = B[n_x+1:end, n_x+1:end]\n",
    "\n",
    "C_fbk = C_x\n",
    "C_fwd = B_22 + C_x * B_12\n",
    "C_int = C_ξ\n",
    "\n",
    "#some useful signal labels\n",
    "u_labels_red_fbk = Symbol.(string.(u_labels_red) .* \"_fbk\")\n",
    "u_labels_red_fwd = Symbol.(string.(u_labels_red) .* \"_fwd\")\n",
    "u_labels_red_sum = Symbol.(string.(u_labels_red) .* \"_sum\")\n",
    "u_labels_red_int_u = Symbol.(string.(u_labels_red) .* \"_int_u\")\n",
    "u_labels_red_int = Symbol.(string.(u_labels_red) .* \"_int\")\n",
    "u_labels_red_ξ = Symbol.(string.(u_labels_red) .* \"_ξ\")\n",
    "\n",
    "z_labels_sp = Symbol.(string.(z_labels) .* \"_sp\")\n",
    "z_labels_sp1 = Symbol.(string.(z_labels) .* \"_sp1\")\n",
    "z_labels_sp2 = Symbol.(string.(z_labels) .* \"_sp2\")\n",
    "z_labels_err = Symbol.(string.(z_labels) .* \"_err\")\n",
    "z_labels_sum = Symbol.(string.(z_labels) .* \"_sum\")\n",
    "z_labels_sp_fwd = Symbol.(string.(z_labels) .* \"_sp_fwd\")\n",
    "z_labels_sp_sum = Symbol.(string.(z_labels) .* \"_sp_sum\")\n",
    "\n",
    "C_fbk_ss = named_ss(ss(C_fbk), u = x_labels_red, y = u_labels_red_fbk)\n",
    "C_fwd_ss = named_ss(ss(C_fwd), u = z_labels_sp_fwd, y = u_labels_red_fwd)\n",
    "C_int_ss = named_ss(ss(C_int), u = z_labels_err, y = u_labels_red_int_u)\n",
    "\n",
    "int_ss = named_ss(ss(tf(1, [1,0])) .* I(2),\n",
    "                    x = u_labels_red_ξ,\n",
    "                    u = u_labels_red_int_u,\n",
    "                    y = u_labels_red_int);\n",
    "\n",
    "EAS_err_sum = sumblock(\"EAS_err = EAS_sum - EAS_sp_sum\")\n",
    "climb_rate_err_sum = sumblock(\"climb_rate_err = climb_rate_sum - climb_rate_sp_sum\")\n",
    "\n",
    "throttle_cmd_sum = sumblock(\"throttle_cmd_sum = throttle_cmd_fwd - throttle_cmd_fbk - throttle_cmd_int\")\n",
    "elevator_cmd_sum = sumblock(\"elevator_cmd_sum = elevator_cmd_fwd - elevator_cmd_fbk - elevator_cmd_int\")\n",
    "\n",
    "EAS_sp_splitter = splitter(:EAS_sp, 2)\n",
    "climb_rate_sp_splitter = splitter(:climb_rate_sp, 2)\n",
    "\n",
    "connections = vcat(\n",
    "    Pair.(x_labels_red, x_labels_red),\n",
    "    Pair.(z_labels, z_labels_sum),\n",
    "    Pair.(z_labels_sp1, z_labels_sp_sum),\n",
    "    Pair.(z_labels_sp2, z_labels_sp_fwd),\n",
    "    Pair.(z_labels_err, z_labels_err),\n",
    "    Pair.(u_labels_red_sum, u_labels_red),\n",
    "    Pair.(u_labels_red_fwd, u_labels_red_fwd),\n",
    "    Pair.(u_labels_red_fbk, u_labels_red_fbk),\n",
    "    Pair.(u_labels_red_int, u_labels_red_int),\n",
    "    Pair.(u_labels_red_int_u, u_labels_red_int_u),\n",
    "    )\n",
    "\n",
    "P_vc = connect([P_lon, int_ss, C_fwd_ss, C_fbk_ss, C_int_ss,\n",
    "                    EAS_err_sum, climb_rate_err_sum,\n",
    "                    throttle_cmd_sum, elevator_cmd_sum,\n",
    "                    EAS_sp_splitter, climb_rate_sp_splitter], connections;\n",
    "                    w1 = z_labels_sp, z1 = P_lon.y)\n",
    "\n",
    "# P_vc = connect([P_red, int_ss, C_fwd_ss, C_fbk_ss, C_int_ss,\n",
    "#                     EAS_err_sum, climb_rate_err_sum,\n",
    "#                     throttle_cmd_sum, elevator_cmd_sum,\n",
    "#                     EAS_sp_splitter, climb_rate_sp_splitter], connections;\n",
    "#                     w1 = z_labels_sp, z1 = P_red.y)\n",
    "dampreport(P_vc)\n",
    "display(C_fbk_ss)\n",
    "display(C_fwd_ss)\n",
    "display(C_int_ss)\n",
    "display(int_ss)"
   ]
  },
  {
   "cell_type": "code",
   "execution_count": 60,
   "metadata": {},
   "outputs": [
    {
     "ename": "UndefVarError",
     "evalue": "UndefVarError: `P_vc` not defined",
     "output_type": "error",
     "traceback": [
      "UndefVarError: `P_vc` not defined\n",
      "\n",
      "Stacktrace:\n",
      " [1] top-level scope\n",
      "   @ c:\\Users\\Miguel\\.julia\\dev\\Flight.jl\\src\\aircraft\\c172\\c172fbw\\control\\design\\c172fbw_lon.ipynb:1"
     ]
    }
   ],
   "source": [
    "EASsp2EAS = P_vc[:EAS, :EAS_sp]\n",
    "EASsp2thr = P_vc[:throttle_cmd, :EAS_sp]\n",
    "EASsp2ele = P_vc[:elevator_cmd, :EAS_sp]\n",
    "EASsp2q = P_vc[:q, :EAS_sp]\n",
    "step(EASsp2EAS, 30) |> plot\n",
    "step(EASsp2thr, 30) |> plot!\n",
    "step(EASsp2ele, 30) |> plot!\n",
    "step(EASsp2q, 30) |> plot!"
   ]
  },
  {
   "cell_type": "code",
   "execution_count": 61,
   "metadata": {},
   "outputs": [
    {
     "ename": "UndefVarError",
     "evalue": "UndefVarError: `P_vc` not defined",
     "output_type": "error",
     "traceback": [
      "UndefVarError: `P_vc` not defined\n",
      "\n",
      "Stacktrace:\n",
      " [1] top-level scope\n",
      "   @ c:\\Users\\Miguel\\.julia\\dev\\Flight.jl\\src\\aircraft\\c172\\c172fbw\\control\\design\\c172fbw_lon.ipynb:1"
     ]
    }
   ],
   "source": [
    "crsp2cr = P_vc[:climb_rate, :climb_rate_sp]\n",
    "crsp2EAS = P_vc[:EAS, :climb_rate_sp]\n",
    "# crsp2ele = P_vc[:elevator_cmd, :climb_rate_sp]\n",
    "crsp2thr = P_vc[:throttle_cmd, :climb_rate_sp]\n",
    "step(crsp2cr, 30) |> plot\n",
    "step(crsp2EAS, 30) |> plot!\n",
    "step(crsp2thr, 30) |> plot!\n",
    "# step(crsp2ele, 30) |> plot!\n",
    "# step(crsp2thr, 30) |> plot!"
   ]
  },
  {
   "cell_type": "code",
   "execution_count": 62,
   "metadata": {},
   "outputs": [
    {
     "ename": "UndefVarError",
     "evalue": "UndefVarError: `EASsp2EAS` not defined",
     "output_type": "error",
     "traceback": [
      "UndefVarError: `EASsp2EAS` not defined\n",
      "\n",
      "Stacktrace:\n",
      " [1] top-level scope\n",
      "   @ c:\\Users\\Miguel\\.julia\\dev\\Flight.jl\\src\\aircraft\\c172\\c172fbw\\control\\design\\c172fbw_lon.ipynb:1"
     ]
    }
   ],
   "source": [
    "marginplot(EASsp2EAS)"
   ]
  },
  {
   "cell_type": "code",
   "execution_count": 63,
   "metadata": {},
   "outputs": [
    {
     "ename": "UndefVarError",
     "evalue": "UndefVarError: `crsp2cr` not defined",
     "output_type": "error",
     "traceback": [
      "UndefVarError: `crsp2cr` not defined\n",
      "\n",
      "Stacktrace:\n",
      " [1] top-level scope\n",
      "   @ c:\\Users\\Miguel\\.julia\\dev\\Flight.jl\\src\\aircraft\\c172\\c172fbw\\control\\design\\c172fbw_lon.ipynb:1"
     ]
    }
   ],
   "source": [
    "marginplot(crsp2cr)"
   ]
  },
  {
   "cell_type": "markdown",
   "metadata": {},
   "source": [
    "## 7. $h \\rightarrow c$"
   ]
  },
  {
   "cell_type": "markdown",
   "metadata": {},
   "source": [
    "We start from scratch from the EAS + climb rate plant."
   ]
  },
  {
   "cell_type": "code",
   "execution_count": 64,
   "metadata": {},
   "outputs": [
    {
     "ename": "UndefVarError",
     "evalue": "UndefVarError: `P_vc` not defined",
     "output_type": "error",
     "traceback": [
      "UndefVarError: `P_vc` not defined\n",
      "\n",
      "Stacktrace:\n",
      " [1] top-level scope\n",
      "   @ c:\\Users\\Miguel\\.julia\\dev\\Flight.jl\\src\\aircraft\\c172\\c172fbw\\control\\design\\c172fbw_lon.ipynb:1"
     ]
    }
   ],
   "source": [
    "P_c2h = P_vc[:h, :climb_rate_sp]\n",
    "step(P_c2h, 10) |> plot"
   ]
  },
  {
   "cell_type": "code",
   "execution_count": 65,
   "metadata": {},
   "outputs": [
    {
     "ename": "UndefVarError",
     "evalue": "UndefVarError: `P_c2h` not defined",
     "output_type": "error",
     "traceback": [
      "UndefVarError: `P_c2h` not defined\n",
      "\n",
      "Stacktrace:\n",
      " [1] top-level scope\n",
      "   @ c:\\Users\\Miguel\\.julia\\dev\\Flight.jl\\src\\aircraft\\c172\\c172fbw\\control\\design\\c172fbw_lon.ipynb:1"
     ]
    }
   ],
   "source": [
    "marginplot(P_c2h)"
   ]
  },
  {
   "cell_type": "code",
   "execution_count": 66,
   "metadata": {},
   "outputs": [
    {
     "ename": "UndefVarError",
     "evalue": "UndefVarError: `P_c2h` not defined",
     "output_type": "error",
     "traceback": [
      "UndefVarError: `P_c2h` not defined\n",
      "\n",
      "Stacktrace:\n",
      " [1] top-level scope\n",
      "   @ c:\\Users\\Miguel\\.julia\\dev\\Flight.jl\\src\\aircraft\\c172\\c172fbw\\control\\design\\c172fbw_lon.ipynb:1"
     ]
    }
   ],
   "source": [
    "nyquistplot(P_c2h; unit_circle = true, Ms_circles = [1.0])\n",
    "plot!(ylims = (-2,2), xlims = (-2,2))"
   ]
  },
  {
   "cell_type": "code",
   "execution_count": 67,
   "metadata": {},
   "outputs": [
    {
     "ename": "UndefVarError",
     "evalue": "UndefVarError: `P_c2h` not defined",
     "output_type": "error",
     "traceback": [
      "UndefVarError: `P_c2h` not defined\n",
      "\n",
      "Stacktrace:\n",
      " [1] top-level scope\n",
      "   @ c:\\Users\\Miguel\\.julia\\dev\\Flight.jl\\src\\aircraft\\c172\\c172fbw\\control\\design\\c172fbw_lon.ipynb:2"
     ]
    }
   ],
   "source": [
    "k_h2c = 0.2\n",
    "C_h2c = named_ss(ss(k_h2c), :C_h2c; u = :h_err, y = :climb_rate_sp);\n",
    "L_h2c = series(C_h2c, P_c2h);"
   ]
  },
  {
   "cell_type": "code",
   "execution_count": 68,
   "metadata": {},
   "outputs": [
    {
     "ename": "UndefVarError",
     "evalue": "UndefVarError: `L_h2c` not defined",
     "output_type": "error",
     "traceback": [
      "UndefVarError: `L_h2c` not defined\n",
      "\n",
      "Stacktrace:\n",
      " [1] top-level scope\n",
      "   @ c:\\Users\\Miguel\\.julia\\dev\\Flight.jl\\src\\aircraft\\c172\\c172fbw\\control\\design\\c172fbw_lon.ipynb:1"
     ]
    }
   ],
   "source": [
    "marginplot(L_h2c)"
   ]
  },
  {
   "cell_type": "code",
   "execution_count": 69,
   "metadata": {},
   "outputs": [
    {
     "ename": "UndefVarError",
     "evalue": "UndefVarError: `L_h2c` not defined",
     "output_type": "error",
     "traceback": [
      "UndefVarError: `L_h2c` not defined\n",
      "\n",
      "Stacktrace:\n",
      " [1] top-level scope\n",
      "   @ c:\\Users\\Miguel\\.julia\\dev\\Flight.jl\\src\\aircraft\\c172\\c172fbw\\control\\design\\c172fbw_lon.ipynb:1"
     ]
    }
   ],
   "source": [
    "nyquistplot(L_h2c; unit_circle = true, Ms_circles = [1.0])\n",
    "plot!(ylims = (-2,2), xlims = (-2,2))"
   ]
  },
  {
   "cell_type": "code",
   "execution_count": 70,
   "metadata": {},
   "outputs": [
    {
     "ename": "UndefVarError",
     "evalue": "UndefVarError: `P_c2h` not defined",
     "output_type": "error",
     "traceback": [
      "UndefVarError: `P_c2h` not defined\n",
      "\n",
      "Stacktrace:\n",
      " [1] top-level scope\n",
      "   @ c:\\Users\\Miguel\\.julia\\dev\\Flight.jl\\src\\aircraft\\c172\\c172fbw\\control\\design\\c172fbw_lon.ipynb:1"
     ]
    }
   ],
   "source": [
    "gangoffourplot(P_c2h, C_h2c)"
   ]
  }
 ],
 "metadata": {
  "kernelspec": {
   "display_name": "Julia 1.10.0",
   "language": "julia",
   "name": "julia-1.10"
  },
  "language_info": {
   "file_extension": ".jl",
   "mimetype": "application/julia",
   "name": "julia",
   "version": "1.10.0"
  },
  "orig_nbformat": 4
 },
 "nbformat": 4,
 "nbformat_minor": 2
}
