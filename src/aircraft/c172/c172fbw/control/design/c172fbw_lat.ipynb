{
 "cells": [
  {
   "cell_type": "code",
   "execution_count": 1,
   "metadata": {},
   "outputs": [],
   "source": [
    "using Flight.FlightCore.Systems\n",
    "using Flight.FlightCore.Plotting\n",
    "\n",
    "using Flight.FlightPhysics\n",
    "using Flight.FlightComponents\n",
    "using Flight.FlightAircraft.C172\n",
    "using Flight.FlightAircraft.C172FBW\n",
    "using Flight.FlightAircraft.C172FBW.FlightControl\n",
    "using Flight.FlightComponents.Control.Discrete: PIDParams\n",
    "using Flight.FlightComponents.Control.PIDOpt: Settings, Metrics, optimize_PID, build_PID, check_results\n",
    "\n",
    "using UnPack\n",
    "using ControlSystems\n",
    "using RobustAndOptimalControl\n",
    "using ComponentArrays\n",
    "using LinearAlgebra"
   ]
  },
  {
   "cell_type": "markdown",
   "metadata": {},
   "source": [
    "## 1. Stability Augmentation"
   ]
  },
  {
   "cell_type": "markdown",
   "metadata": {},
   "source": [
    "We start by taking a look at the linearized lateral model:"
   ]
  },
  {
   "cell_type": "code",
   "execution_count": 2,
   "metadata": {},
   "outputs": [
    {
     "data": {
      "text/plain": [
       "\u001b[0mComponentVector{Float64}(p = 0.0, r = 1.0002770254545765, ψ = 1.3081580954809074e-9, φ = -8.294400071674642e-6, v_x = -1.1414420617798425e-18, v_y = -3.6927682278764967e-9, β_filt = 0.0, ail_v = 0.0, ail_p = 0.0, rud_v = 0.0, rud_p = 0.0)"
      ]
     },
     "metadata": {},
     "output_type": "display_data"
    },
    {
     "data": {
      "text/plain": [
       "\u001b[0mComponentVector{Float64}(p = -5.220765832703034e-7, r = -2.3909657183990296e-6, ψ = 1.3081580954809074e-9, φ = 5.554732779696859e-8, v_x = 0.00018056471393279594, v_y = -7.123678585685411e-6, β_filt = 0.0, ail_v = 0.0, ail_p = 0.0, rud_v = 0.0, rud_p = 0.0)"
      ]
     },
     "metadata": {},
     "output_type": "display_data"
    },
    {
     "data": {
      "text/plain": [
       "\u001b[0mComponentVector{Float64}(p = 0.0, r = 0.0, ψ = 1.0, φ = 0.0, v_x = 0.0, v_y = 0.0, β_filt = 0.0, ail_v = 0.0, ail_p = 0.0, rud_v = 0.0, rud_p = 0.0, f_y = -1.1990778148174286e-8, β = 0.0, χ = 0.9999999999995453, aileron_cmd = 0.0, rudder_cmd = 0.0)"
      ]
     },
     "metadata": {},
     "output_type": "display_data"
    }
   ],
   "source": [
    "global_search = false\n",
    "\n",
    "ac = Cessna172FBW(NED()) |> System #linearization requires NED kinematics\n",
    "\n",
    "design_point = C172.TrimParameters()\n",
    "# design_point = C172.TrimParameters(EAS = 28)\n",
    "\n",
    "#complete lateral model\n",
    "lss_lat = Control.Continuous.LinearizedSS(ac, design_point; model = :lat);\n",
    "P_lat = named_ss(lss_lat);\n",
    "\n",
    "x_labels_lat = keys(lss_lat.x0) |> collect\n",
    "y_labels_lat = keys(lss_lat.y0) |> collect\n",
    "u_labels_lat = keys(lss_lat.u0) |> collect\n",
    "\n",
    "lss_lat.A[:ψ, :] |> display\n",
    "lss_lat.A[:, :ψ] |> display\n",
    "lss_lat.C[:, :ψ] |> display"
   ]
  },
  {
   "cell_type": "markdown",
   "metadata": {},
   "source": [
    "As one would expect, heading is nearly a pure integral of yaw rate. This will be a problem when designing a LQR tracker for which the choice of command variables involves non-zero steady state yaw rate. Since we cannot maintain constant heading with an arbitrary yaw rate, true static equilibrium will not exist and the block $H_x F^{-1} G$ in the feedforward gain matrix required for tracking such command variables will be singular. This would not be an issue if we picked for instance $\\chi$ and $\\beta$ as command variables, because true equilibrium exists for an arbitrary combination of the two. However, this is not an appealing choice, because we would like to be able to control the roll axis explicitly, rather than implicitly through $\\chi$.\n",
    "\n",
    "To handle this issue, we could partition the state and work with quasi-static equilibrium. However, since this is annoying, and the coupling of $\\psi$ into the remaining states is extremely weak, we can simply drop $\\psi$ from the state, design the LQR trackers on the reduced plant, and then connect them back to the full plant. "
   ]
  },
  {
   "cell_type": "code",
   "execution_count": 3,
   "metadata": {},
   "outputs": [],
   "source": [
    "x_labels = copy(x_labels_lat)\n",
    "y_labels = copy(y_labels_lat)\n",
    "u_labels = copy(u_labels_lat)\n",
    "\n",
    "x_labels = deleteat!(x_labels, findfirst(isequal(:ψ), x_labels))\n",
    "y_labels = deleteat!(y_labels, findfirst(isequal(:ψ), y_labels))\n",
    "\n",
    "#we should also remove χ because of its coupling to ψ\n",
    "y_labels = deleteat!(y_labels, findfirst(isequal(:χ), y_labels))\n",
    "\n",
    "lss_red = Control.Continuous.submodel(lss_lat; x = x_labels, u = u_labels, y = y_labels)\n",
    "P_red = named_ss(lss_red);"
   ]
  },
  {
   "cell_type": "code",
   "execution_count": 4,
   "metadata": {},
   "outputs": [
    {
     "name": "stdout",
     "output_type": "stream",
     "text": [
      "|        Pole        |   Damping     |   Frequency   |   Frequency   | Time Constant |\n",
      "|                    |    Ratio      |   (rad/sec)   |     (Hz)      |     (sec)     |\n",
      "+--------------------+---------------+---------------+---------------+---------------+\n",
      "| +8.87e-06          |  -1           |  8.87e-06     |  1.41e-06     |  -1.13e+05    |\n",
      "| -0.0214            |  1            |  0.0214       |  0.00341      |  46.7         |\n",
      "| -0.131             |  1            |  0.131        |  0.0208       |  7.65         |\n",
      "| -0.686  ±   2.69im |  0.247        |  2.77         |  0.442        |  1.46         |\n",
      "| -10.5              |  1            |  10.5         |  1.66         |  0.0956       |\n",
      "| -18.8   ±   25.1im |  0.6          |  31.4         |  5            |  0.0531       |\n",
      "| -18.8   ±   25.1im |  0.6          |  31.4         |  5            |  0.0531       |\n",
      "| -50                |  1            |  50           |  7.96         |  0.02         |\n",
      "|        Pole        |   Damping     |   Frequency   |   Frequency   | Time Constant |\n",
      "|                    |    Ratio      |   (rad/sec)   |     (Hz)      |     (sec)     |\n",
      "+--------------------+---------------+---------------+---------------+---------------+\n",
      "| -0.0214            |  1            |  0.0214       |  0.00341      |  46.7         |\n",
      "| -0.131             |  1            |  0.131        |  0.0208       |  7.65         |\n",
      "| -0.686  ±   2.69im |  0.247        |  2.77         |  0.442        |  1.46         |\n",
      "| -10.5              |  1            |  10.5         |  1.66         |  0.0956       |\n",
      "| -18.8   ±   25.1im |  0.6          |  31.4         |  5            |  0.0531       |\n",
      "| -18.8   ±   25.1im |  0.6          |  31.4         |  5            |  0.0531       |\n",
      "| -50                |  1            |  50           |  7.96         |  0.02         |\n"
     ]
    },
    {
     "data": {
      "text/plain": [
       "(iscontrollable = true, ranks = [10, 10, 10, 10, 10, 10, 10, 10, 10, 10], sigma_min = [0.004495011562276492, 14.173180838514225, 14.173180838514225, 14.173180838514225, 14.173180838514225, 0.8448024030616802, 0.47891324958434894, 0.47891324958434894, 0.09432187369760883, 0.14536969251937806])"
      ]
     },
     "metadata": {},
     "output_type": "display_data"
    }
   ],
   "source": [
    "dampreport(P_lat)\n",
    "dampreport(P_red)\n",
    "controllability(P_red)"
   ]
  },
  {
   "cell_type": "markdown",
   "metadata": {},
   "source": [
    "We see that removing $\\psi$ as a state eliminates an extremely slow pole, probably geodesy-related. The remaining poles are virtually unaffected. Also, it significantly improves the condition of the dynamics matrix:"
   ]
  },
  {
   "cell_type": "code",
   "execution_count": 5,
   "metadata": {},
   "outputs": [
    {
     "data": {
      "text/plain": [
       "9.646214034825184e8"
      ]
     },
     "metadata": {},
     "output_type": "display_data"
    },
    {
     "data": {
      "text/plain": [
       "101524.66452369448"
      ]
     },
     "metadata": {},
     "output_type": "display_data"
    }
   ],
   "source": [
    "cond(P_lat.A) |> display\n",
    "cond(P_red.A) |> display"
   ]
  },
  {
   "cell_type": "code",
   "execution_count": 6,
   "metadata": {},
   "outputs": [
    {
     "ename": "UndefVarError",
     "evalue": "UndefVarError: `XLat` not defined",
     "output_type": "error",
     "traceback": [
      "UndefVarError: `XLat` not defined\n",
      "\n",
      "Stacktrace:\n",
      " [1] getproperty(x::Module, f::Symbol)\n",
      "   @ Base .\\Base.jl:31\n",
      " [2] top-level scope\n",
      "   @ c:\\Users\\Miguel\\.julia\\dev\\Flight.jl\\src\\aircraft\\c172\\c172fbw\\control\\design\\c172fbw_lat.ipynb:3"
     ]
    }
   ],
   "source": [
    "#ensure consistency in component selection and ordering between our design model\n",
    "#and FBWv1 avionics implementation for state and control vectors\n",
    "@assert tuple(x_labels...) === propertynames(FlightControl.XLat())\n",
    "@assert tuple(u_labels...) === propertynames(FlightControl.ULat())\n",
    "\n",
    "x_trim = lss_red.x0\n",
    "u_trim = lss_red.u0\n",
    "\n",
    "n_x = length(x_labels)\n",
    "n_u = length(u_labels)"
   ]
  },
  {
   "cell_type": "markdown",
   "metadata": {},
   "source": [
    "### 1.1. Design A"
   ]
  },
  {
   "cell_type": "markdown",
   "metadata": {},
   "source": [
    "We first test a purely proportional LQR Tracker design. This requires no integral augmentation, so the feedback matrix can be determined directly from the open loop system's matrices."
   ]
  },
  {
   "cell_type": "code",
   "execution_count": 7,
   "metadata": {},
   "outputs": [
    {
     "ename": "UndefVarError",
     "evalue": "UndefVarError: `XLat` not defined",
     "output_type": "error",
     "traceback": [
      "UndefVarError: `XLat` not defined\n",
      "\n",
      "Stacktrace:\n",
      " [1] getproperty(x::Module, f::Symbol)\n",
      "   @ Base .\\Base.jl:31\n",
      " [2] top-level scope\n",
      "   @ c:\\Users\\Miguel\\.julia\\dev\\Flight.jl\\src\\aircraft\\c172\\c172fbw\\control\\design\\c172fbw_lat.ipynb:10"
     ]
    }
   ],
   "source": [
    "#useful signal labels for connections\n",
    "u_labels_fbk = Symbol.(string.(u_labels) .* \"_fbk\")\n",
    "u_labels_fwd = Symbol.(string.(u_labels) .* \"_fwd\")\n",
    "u_labels_sum = Symbol.(string.(u_labels) .* \"_sum\")\n",
    "\n",
    "@unpack v_x, v_y = lss_red.x0\n",
    "v_norm = norm([v_x, v_y])\n",
    "\n",
    "#weight matrices\n",
    "Q = FlightControl.XLat(p = 0, r = 0.1, φ = 0.1, v_x = 0/v_norm, v_y = 0/v_norm, β_filt = 0, ail_v = 0, ail_p = 0, rud_v = 0, rud_p = 0) |> diagm\n",
    "R = FlightControl.ULat(aileron_cmd = 0.1, rudder_cmd = 0.01) |> diagm\n",
    "\n",
    "#feedback gain matrix\n",
    "C_fbk = lqr(P_red, Q, R)\n",
    "C_fbk_ss = named_ss(ss(C_fbk); u = x_labels, y = u_labels_fbk)\n",
    "\n",
    "#summing junctions\n",
    "aileron_sum = sumblock(\"aileron_cmd_sum = aileron_cmd_fwd- aileron_cmd_fbk\")\n",
    "rudder_sum = sumblock(\"rudder_cmd_sum = rudder_cmd_fwd - rudder_cmd_fbk\")\n",
    "\n",
    "connections_fbk = vcat(\n",
    "    Pair.(x_labels, x_labels),\n",
    "    Pair.(u_labels_fbk, u_labels_fbk),\n",
    "    Pair.(u_labels_sum, u_labels),\n",
    "    )\n",
    "\n",
    "P_fbk = connect([P_red, aileron_sum, rudder_sum, C_fbk_ss], connections_fbk; w1 = u_labels_fwd, z1 = y_labels)\n",
    "\n",
    "dampreport(P_red)\n",
    "dampreport(P_fbk)"
   ]
  },
  {
   "cell_type": "code",
   "execution_count": 8,
   "metadata": {},
   "outputs": [
    {
     "ename": "UndefVarError",
     "evalue": "UndefVarError: `P_fbk` not defined",
     "output_type": "error",
     "traceback": [
      "UndefVarError: `P_fbk` not defined\n",
      "\n",
      "Stacktrace:\n",
      " [1] top-level scope\n",
      "   @ c:\\Users\\Miguel\\.julia\\dev\\Flight.jl\\src\\aircraft\\c172\\c172fbw\\control\\design\\c172fbw_lat.ipynb:1"
     ]
    }
   ],
   "source": [
    "a2a_fbk = P_fbk[:aileron_cmd, :aileron_cmd_fwd]\n",
    "a2p = P_red[:p, :aileron_cmd]\n",
    "a2p_fbk = P_fbk[:p, :aileron_cmd_fwd]\n",
    "a2φ = P_red[:φ, :aileron_cmd]\n",
    "a2φ_fbk = P_fbk[:φ, :aileron_cmd_fwd]\n",
    "step(a2p, 10) |> plot\n",
    "step(a2p_fbk, 10) |> plot!\n",
    "step(a2a_fbk, 10) |> plot!\n",
    "step(a2φ_fbk, 10) |> plot!\n",
    "# step(a2φ, 10) |> plot!"
   ]
  },
  {
   "cell_type": "code",
   "execution_count": 9,
   "metadata": {},
   "outputs": [
    {
     "ename": "UndefVarError",
     "evalue": "UndefVarError: `P_fbk` not defined",
     "output_type": "error",
     "traceback": [
      "UndefVarError: `P_fbk` not defined\n",
      "\n",
      "Stacktrace:\n",
      " [1] top-level scope\n",
      "   @ c:\\Users\\Miguel\\.julia\\dev\\Flight.jl\\src\\aircraft\\c172\\c172fbw\\control\\design\\c172fbw_lat.ipynb:2"
     ]
    }
   ],
   "source": [
    "a2r = P_red[:r, :aileron_cmd]\n",
    "a2r_fbk = P_fbk[:r, :aileron_cmd_fwd]\n",
    "step(a2r, 10) |> plot\n",
    "step(a2r_fbk, 10) |> plot!"
   ]
  },
  {
   "cell_type": "code",
   "execution_count": 10,
   "metadata": {},
   "outputs": [
    {
     "ename": "UndefVarError",
     "evalue": "UndefVarError: `P_fbk` not defined",
     "output_type": "error",
     "traceback": [
      "UndefVarError: `P_fbk` not defined\n",
      "\n",
      "Stacktrace:\n",
      " [1] top-level scope\n",
      "   @ c:\\Users\\Miguel\\.julia\\dev\\Flight.jl\\src\\aircraft\\c172\\c172fbw\\control\\design\\c172fbw_lat.ipynb:1"
     ]
    }
   ],
   "source": [
    "a2β_fbk = P_fbk[:β, :aileron_cmd_fwd]\n",
    "step(a2β_fbk, 10) |> plot"
   ]
  },
  {
   "cell_type": "code",
   "execution_count": 11,
   "metadata": {},
   "outputs": [
    {
     "ename": "UndefVarError",
     "evalue": "UndefVarError: `P_fbk` not defined",
     "output_type": "error",
     "traceback": [
      "UndefVarError: `P_fbk` not defined\n",
      "\n",
      "Stacktrace:\n",
      " [1] top-level scope\n",
      "   @ c:\\Users\\Miguel\\.julia\\dev\\Flight.jl\\src\\aircraft\\c172\\c172fbw\\control\\design\\c172fbw_lat.ipynb:1"
     ]
    }
   ],
   "source": [
    "a2f_fbk = P_fbk[:f_y, :aileron_cmd_fwd]\n",
    "step(a2f_fbk, 10) |> plot"
   ]
  },
  {
   "cell_type": "code",
   "execution_count": 12,
   "metadata": {},
   "outputs": [
    {
     "ename": "UndefVarError",
     "evalue": "UndefVarError: `P_fbk` not defined",
     "output_type": "error",
     "traceback": [
      "UndefVarError: `P_fbk` not defined\n",
      "\n",
      "Stacktrace:\n",
      " [1] top-level scope\n",
      "   @ c:\\Users\\Miguel\\.julia\\dev\\Flight.jl\\src\\aircraft\\c172\\c172fbw\\control\\design\\c172fbw_lat.ipynb:1"
     ]
    }
   ],
   "source": [
    "ail2rud_fbk = P_fbk[:rudder_cmd, :aileron_cmd_fwd]\n",
    "step(ail2rud_fbk, 10) |> plot"
   ]
  },
  {
   "cell_type": "markdown",
   "metadata": {},
   "source": [
    "Since bank angle is essentially a pure integral of roll rate, asymptotic equilibrium is only possible for a zero steady-state roll rate. Indeed, the closed-loop system's aileron to roll-rate step response goes to zero in the steady state. This indicates that selecting roll rate as a tracked variable would yield a (nearly) singular feedforward matrix.\n",
    "\n",
    "For an aileron command step input, aileron command output starts at 1, and then equilibrium is achieved with a small (although not zero) value. This means that aileron command isn't a good choice for a tracked variable either, because achieving unit steady-state output in the regulated system would require very large feedforward gains and would yield an extremely high initial actuator command, well beyond 1 (at which actuator is already saturated).\n",
    "\n",
    "What variables should then be selected for tracking? The only one we are interested in controlling explicitly is $\\beta$ (or alternatively lateral specific force, $f_y$). In most cases we want to maintain $\\beta = 0$ for turn coordination, but we might want to command non-zero values for cross-wind landing. If we select $\\beta$ as the only command variable, we will get a 2x1 feedforward matrix which will provide a combination of aileron and rudder that achieves the desired steady-state $\\beta$ (specifically, the optimal one in the least-squares sense). However, we obviously also want to retain roll control. But if we add an arbitrary external aileron command to that prescribed by the $\\beta$ feedforward, we will no longer achieve the desired steady-state $\\beta$ value.\n",
    "\n",
    "Looking at the closed-loop aileron to bank angle response, we see that it starts at zero and then stabilizes at a value close to 1. This suggests that $\\phi$ and $\\beta$ would make for a good combination of tracked variables. For $\\beta$, it is useful to add integral control. Now, once we have this MIMO system with $\\phi$ and $\\beta$ as inputs, we can add an external SISO loop to command roll rate, with the necessary compensation to achieve zero steady state error."
   ]
  },
  {
   "cell_type": "markdown",
   "metadata": {},
   "source": [
    "Now, we determine the feedforward gain matrix for commanding $\\varphi$ and $\\beta$. Following Stengel section 6.2:"
   ]
  },
  {
   "cell_type": "code",
   "execution_count": 13,
   "metadata": {},
   "outputs": [
    {
     "ename": "UndefVarError",
     "evalue": "UndefVarError: `ZLatPhiBeta` not defined",
     "output_type": "error",
     "traceback": [
      "UndefVarError: `ZLatPhiBeta` not defined\n",
      "\n",
      "Stacktrace:\n",
      " [1] getproperty(x::Module, f::Symbol)\n",
      "   @ Base .\\Base.jl:31\n",
      " [2] top-level scope\n",
      "   @ c:\\Users\\Miguel\\.julia\\dev\\Flight.jl\\src\\aircraft\\c172\\c172fbw\\control\\design\\c172fbw_lat.ipynb:3"
     ]
    }
   ],
   "source": [
    "#define command variables\n",
    "z_labels = [:φ, :β]\n",
    "@assert tuple(z_labels...) === propertynames(FlightControl.ZLatPhiBeta())\n",
    "z_labels_sp = Symbol.(string.(z_labels) .* \"_sp\")\n",
    "\n",
    "z_trim = lss_red.y0[z_labels]\n",
    "n_z = length(z_labels)\n",
    "\n",
    "F = lss_red.A\n",
    "G = lss_red.B\n",
    "H_x = lss_red.C[z_labels, :]\n",
    "H_u = lss_red.D[z_labels, :]\n",
    "\n",
    "A = [F G; H_x H_u]\n",
    "B = inv(A)\n",
    "B_12 = B[1:n_x, n_x+1:end]\n",
    "B_22 = B[n_x+1:end, n_x+1:end]\n",
    "C_fwd = B_22 + C_fbk * B_12\n",
    "C_fwd_ss = named_ss(ss(C_fwd), u = z_labels_sp, y = u_labels_fwd)\n",
    "\n",
    "display(z_labels)\n",
    "display(H_x)\n",
    "display(H_u)\n",
    "display(C_fwd)"
   ]
  },
  {
   "cell_type": "code",
   "execution_count": 14,
   "metadata": {},
   "outputs": [
    {
     "ename": "UndefVarError",
     "evalue": "UndefVarError: `C_fwd_ss` not defined",
     "output_type": "error",
     "traceback": [
      "UndefVarError: `C_fwd_ss` not defined\n",
      "\n",
      "Stacktrace:\n",
      " [1] top-level scope\n",
      "   @ c:\\Users\\Miguel\\.julia\\dev\\Flight.jl\\src\\aircraft\\c172\\c172fbw\\control\\design\\c172fbw_lat.ipynb:1"
     ]
    }
   ],
   "source": [
    "connections_fwd = Pair.(C_fwd_ss.y, C_fwd_ss.y)\n",
    "P_φβ = connect([C_fwd_ss, P_fbk], connections_fwd; w1 = z_labels_sp, z1 = P_fbk.y);"
   ]
  },
  {
   "cell_type": "code",
   "execution_count": 15,
   "metadata": {},
   "outputs": [
    {
     "ename": "UndefVarError",
     "evalue": "UndefVarError: `P_φβ` not defined",
     "output_type": "error",
     "traceback": [
      "UndefVarError: `P_φβ` not defined\n",
      "\n",
      "Stacktrace:\n",
      " [1] top-level scope\n",
      "   @ c:\\Users\\Miguel\\.julia\\dev\\Flight.jl\\src\\aircraft\\c172\\c172fbw\\control\\design\\c172fbw_lat.ipynb:1"
     ]
    }
   ],
   "source": [
    "φsp2φ_SAS = P_φβ[:φ, :φ_sp]\n",
    "φsp2β_SAS = P_φβ[:β, :φ_sp]\n",
    "φsp2ail_SAS = P_φβ[:aileron_cmd, :φ_sp]\n",
    "φsp2rud_SAS = P_φβ[:rudder_cmd, :φ_sp]\n",
    "step(φsp2φ_SAS, 10) |> plot\n",
    "step(φsp2ail_SAS, 10) |> plot!\n",
    "step(φsp2β_SAS, 10) |> plot!\n",
    "step(φsp2rud_SAS, 10) |> plot!"
   ]
  },
  {
   "cell_type": "code",
   "execution_count": 16,
   "metadata": {},
   "outputs": [
    {
     "ename": "UndefVarError",
     "evalue": "UndefVarError: `P_φβ` not defined",
     "output_type": "error",
     "traceback": [
      "UndefVarError: `P_φβ` not defined\n",
      "\n",
      "Stacktrace:\n",
      " [1] top-level scope\n",
      "   @ c:\\Users\\Miguel\\.julia\\dev\\Flight.jl\\src\\aircraft\\c172\\c172fbw\\control\\design\\c172fbw_lat.ipynb:1"
     ]
    }
   ],
   "source": [
    "βsp2β_SAS = P_φβ[:β, :β_sp]\n",
    "βsp2φ_SAS = P_φβ[:φ, :β_sp]\n",
    "βsp2rud_SAS = P_φβ[:rudder_cmd, :β_sp]\n",
    "βsp2ail_SAS = P_φβ[:aileron_cmd, :β_sp]\n",
    "step(βsp2β_SAS, 10) |> plot\n",
    "step(βsp2φ_SAS, 10) |> plot!\n",
    "step(βsp2rud_SAS, 10) |> plot!\n",
    "step(βsp2ail_SAS, 10) |> plot!"
   ]
  },
  {
   "cell_type": "markdown",
   "metadata": {},
   "source": [
    "Beautiful. Now that we know that $\\phi$ and $\\beta$ work well, we can repeat the design with added integral control in $\\beta$."
   ]
  },
  {
   "cell_type": "markdown",
   "metadata": {},
   "source": [
    "### 1.2. Design B (Integral $\\beta$ Control)"
   ]
  },
  {
   "cell_type": "code",
   "execution_count": 17,
   "metadata": {},
   "outputs": [
    {
     "ename": "UndefVarError",
     "evalue": "UndefVarError: `ZLatPhiBeta` not defined",
     "output_type": "error",
     "traceback": [
      "UndefVarError: `ZLatPhiBeta` not defined\n",
      "\n",
      "Stacktrace:\n",
      " [1] getproperty(x::Module, f::Symbol)\n",
      "   @ Base .\\Base.jl:31\n",
      " [2] top-level scope\n",
      "   @ c:\\Users\\Miguel\\.julia\\dev\\Flight.jl\\src\\aircraft\\c172\\c172fbw\\control\\design\\c172fbw_lat.ipynb:3"
     ]
    }
   ],
   "source": [
    "#define command variables\n",
    "z_labels = [:φ, :β]\n",
    "@assert tuple(z_labels...) === propertynames(FlightControl.ZLatPhiBeta())\n",
    "z_trim = lss_red.y0[z_labels]\n",
    "n_z = length(z_labels)"
   ]
  },
  {
   "cell_type": "code",
   "execution_count": 18,
   "metadata": {},
   "outputs": [
    {
     "data": {
      "text/plain": [
       "2×10 \u001b[0mComponentMatrix{Float64} with axes Axis(φ = 1, β = 2) × Axis(p = 1, r = 2, φ = 3, v_x = 4, v_y = 5, β_filt = 6, ail_v = 7, ail_p = 8, rud_v = 9, rud_p = 10)\n",
       " 0.0  0.0  1.0  0.0  0.0        0.0  0.0  0.0  0.0  0.0\n",
       " 0.0  0.0  0.0  0.0  0.0190216  0.0  0.0  0.0  0.0  0.0"
      ]
     },
     "metadata": {},
     "output_type": "display_data"
    },
    {
     "data": {
      "text/plain": [
       "2×2 \u001b[0mComponentMatrix{Float64} with axes Axis(φ = 1, β = 2) × Axis(aileron_cmd = 1, rudder_cmd = 2)\n",
       " 0.0  0.0\n",
       " 0.0  0.0"
      ]
     },
     "metadata": {},
     "output_type": "display_data"
    },
    {
     "data": {
      "text/plain": [
       "1×10 adjoint(::ComponentVector{Float64, Vector{Float64}, Tuple{Axis{(p = 1, r = 2, φ = 3, v_x = 4, v_y = 5, β_filt = 6, ail_v = 7, ail_p = 8, rud_v = 9, rud_p = 10)}}}) with eltype Float64 with indices Base.OneTo(1)×1:1:10:\n",
       " 0.0  0.0  0.0  0.0  0.0190216  0.0  0.0  0.0  0.0  0.0"
      ]
     },
     "metadata": {},
     "output_type": "display_data"
    },
    {
     "data": {
      "text/plain": [
       "1×2 adjoint(::ComponentVector{Float64, Vector{Float64}, Tuple{Axis{(aileron_cmd = 1, rudder_cmd = 2)}}}) with eltype Float64 with indices Base.OneTo(1)×1:1:2:\n",
       " 0.0  0.0"
      ]
     },
     "metadata": {},
     "output_type": "display_data"
    },
    {
     "ename": "UndefVarError",
     "evalue": "UndefVarError: `n_x` not defined",
     "output_type": "error",
     "traceback": [
      "UndefVarError: `n_x` not defined\n",
      "\n",
      "Stacktrace:\n",
      " [1] top-level scope\n",
      "   @ c:\\Users\\Miguel\\.julia\\dev\\Flight.jl\\src\\aircraft\\c172\\c172fbw\\control\\design\\c172fbw_lat.ipynb:18"
     ]
    }
   ],
   "source": [
    "F = lss_red.A\n",
    "G = lss_red.B\n",
    "Hx = lss_red.C[z_labels, :]\n",
    "Hu = lss_red.D[z_labels, :]\n",
    "display(Hx)\n",
    "display(Hu)\n",
    "\n",
    "#define the blocks corresponding to the subset of the command variables for\n",
    "#which integral compensation is required. in this case, only one of them (β).\n",
    "#Since the resulting blocks have only one row, we get vectors, which we need to\n",
    "#transpose to get the desired row matrices back.\n",
    "Hx_int = Hx[:β, :]'\n",
    "Hu_int = Hu[:β, :]'\n",
    "n_int, _ = size(Hx_int)\n",
    "display(Hx_int)\n",
    "display(Hu_int)\n",
    "\n",
    "F_aug = [F zeros(n_x, n_int); Hx_int zeros(n_int, n_int)]\n",
    "G_aug = [G; Hu_int]\n",
    "Hx_aug = [Hx zeros(n_z, n_int)]\n",
    "Hu_aug = Hu\n",
    "\n",
    "P_aug = ss(F_aug, G_aug, Hx_aug, Hu_aug)\n",
    "controllability(F_aug, G_aug)"
   ]
  },
  {
   "cell_type": "code",
   "execution_count": 19,
   "metadata": {},
   "outputs": [
    {
     "ename": "UndefVarError",
     "evalue": "UndefVarError: `ULat` not defined",
     "output_type": "error",
     "traceback": [
      "UndefVarError: `ULat` not defined\n",
      "\n",
      "Stacktrace:\n",
      " [1] getproperty(x::Module, f::Symbol)\n",
      "   @ Base .\\Base.jl:31\n",
      " [2] top-level scope\n",
      "   @ c:\\Users\\Miguel\\.julia\\dev\\Flight.jl\\src\\aircraft\\c172\\c172fbw\\control\\design\\c172fbw_lat.ipynb:6"
     ]
    }
   ],
   "source": [
    "@unpack v_x, v_y = lss_red.x0\n",
    "v_norm = norm([v_x, v_y])\n",
    "\n",
    "#weight matrices\n",
    "Q = ComponentVector(p = 0, r = 0.1, φ = 0.15, v_x = 0/v_norm, v_y = 0.1/v_norm, β_filt = 0, ail_v = 0, ail_p = 0, rud_v = 0, rud_p = 0, ξ_β = 0.001) |> diagm\n",
    "R = FlightControl.ULat(aileron_cmd = 0.1, rudder_cmd = 0.05) |> diagm\n",
    "\n",
    "#compute gain matrix\n",
    "C_aug = lqr(P_aug, Q, R)\n",
    "\n",
    "# quickly construct the closed-loop augmented system to check the resulting\n",
    "# eigenvalues, we'll do the connections properly later\n",
    "F_aug_cl = F_aug - G_aug * C_aug\n",
    "P_aug_cl = ss(F_aug_cl, G_aug, Hx_aug, Hu_aug)\n",
    "\n",
    "dampreport(P_aug)\n",
    "dampreport(P_aug_cl)"
   ]
  },
  {
   "cell_type": "code",
   "execution_count": 20,
   "metadata": {},
   "outputs": [
    {
     "ename": "UndefVarError",
     "evalue": "UndefVarError: `n_x` not defined",
     "output_type": "error",
     "traceback": [
      "UndefVarError: `n_x` not defined\n",
      "\n",
      "Stacktrace:\n",
      " [1] top-level scope\n",
      "   @ c:\\Users\\Miguel\\.julia\\dev\\Flight.jl\\src\\aircraft\\c172\\c172fbw\\control\\design\\c172fbw_lat.ipynb:3"
     ]
    }
   ],
   "source": [
    "A = [F G; Hx Hu]\n",
    "B = inv(A)\n",
    "B_12 = B[1:n_x, n_x+1:end]\n",
    "B_22 = B[n_x+1:end, n_x+1:end]\n",
    "\n",
    "#extract system state and integrator blocks from the feedback matrix\n",
    "C_x = C_aug[:, 1:n_x]\n",
    "C_ξ = C_aug[:, n_x+1:end]\n",
    "\n",
    "C_fbk = C_x\n",
    "C_fwd = B_22 + C_x * B_12\n",
    "C_int = ComponentMatrix(zeros(n_u, n_z), Axis(u_labels), Axis(z_labels))\n",
    "C_int[:, :β] .= C_ξ\n",
    "\n",
    "#some useful signal labels\n",
    "u_labels_fbk = Symbol.(string.(u_labels) .* \"_fbk\")\n",
    "u_labels_fwd = Symbol.(string.(u_labels) .* \"_fwd\")\n",
    "u_labels_sum = Symbol.(string.(u_labels) .* \"_sum\")\n",
    "u_labels_int_u = Symbol.(string.(u_labels) .* \"_int_u\")\n",
    "u_labels_int = Symbol.(string.(u_labels) .* \"_int\")\n",
    "u_labels_ξ = Symbol.(string.(u_labels) .* \"_ξ\")\n",
    "\n",
    "z_labels_sp = Symbol.(string.(z_labels) .* \"_sp\")\n",
    "z_labels_sp1 = Symbol.(string.(z_labels) .* \"_sp1\")\n",
    "z_labels_sp2 = Symbol.(string.(z_labels) .* \"_sp2\")\n",
    "z_labels_err = Symbol.(string.(z_labels) .* \"_err\")\n",
    "z_labels_sum = Symbol.(string.(z_labels) .* \"_sum\")\n",
    "z_labels_sp_fwd = Symbol.(string.(z_labels) .* \"_sp_fwd\")\n",
    "z_labels_sp_sum = Symbol.(string.(z_labels) .* \"_sp_sum\")\n",
    "\n",
    "#the integral gain matrix is constructed by padding C_ξ with zeros in those\n",
    "#columns corresponding to command variables without integral compensation\n",
    "C_fbk_ss = named_ss(ss(C_fbk), u = x_labels, y = u_labels_fbk)\n",
    "C_fwd_ss = named_ss(ss(C_fwd), u = z_labels_sp_fwd, y = u_labels_fwd)\n",
    "C_int_ss = named_ss(ss(C_int), u = z_labels_err, y = u_labels_int_u)\n",
    "\n",
    "int_ss = named_ss(ss(tf(1, [1,0])) .* I(2),\n",
    "                    x = u_labels_ξ,\n",
    "                    u = u_labels_int_u,\n",
    "                    y = u_labels_int);\n",
    "\n",
    "φ_err_sum = sumblock(\"φ_err = φ_sum - φ_sp_sum\")\n",
    "β_err_sum = sumblock(\"β_err = β_sum - β_sp_sum\")\n",
    "\n",
    "aileron_cmd_sum = sumblock(\"aileron_cmd_sum = aileron_cmd_fwd - aileron_cmd_fbk - aileron_cmd_int\")\n",
    "rudder_cmd_sum = sumblock(\"rudder_cmd_sum = rudder_cmd_fwd - rudder_cmd_fbk - rudder_cmd_int\")\n",
    "\n",
    "φ_sp_splitter = splitter(:φ_sp, 2)\n",
    "β_sp_splitter = splitter(:β_sp, 2)\n",
    "\n",
    "connections = vcat(\n",
    "    Pair.(x_labels, x_labels),\n",
    "    Pair.(z_labels, z_labels_sum),\n",
    "    Pair.(z_labels_sp1, z_labels_sp_sum),\n",
    "    Pair.(z_labels_sp2, z_labels_sp_fwd),\n",
    "    Pair.(z_labels_err, z_labels_err),\n",
    "    Pair.(u_labels_sum, u_labels),\n",
    "    Pair.(u_labels_fwd, u_labels_fwd),\n",
    "    Pair.(u_labels_fbk, u_labels_fbk),\n",
    "    Pair.(u_labels_int, u_labels_int),\n",
    "    Pair.(u_labels_int_u, u_labels_int_u),\n",
    "    )\n",
    "\n",
    "display(C_fbk_ss)\n",
    "display(C_fwd_ss)\n",
    "display(C_int_ss)"
   ]
  },
  {
   "cell_type": "markdown",
   "metadata": {},
   "source": [
    "Now, after designing the LQR tracker on the reduced plant, we connect it to the full lateral dynamics to get $\\psi$ and $\\chi$ back for later."
   ]
  },
  {
   "cell_type": "code",
   "execution_count": 21,
   "metadata": {},
   "outputs": [
    {
     "ename": "UndefVarError",
     "evalue": "UndefVarError: `int_ss` not defined",
     "output_type": "error",
     "traceback": [
      "UndefVarError: `int_ss` not defined\n",
      "\n",
      "Stacktrace:\n",
      " [1] top-level scope\n",
      "   @ c:\\Users\\Miguel\\.julia\\dev\\Flight.jl\\src\\aircraft\\c172\\c172fbw\\control\\design\\c172fbw_lat.ipynb:1"
     ]
    }
   ],
   "source": [
    "P_φβ = connect([P_lat, int_ss, C_fwd_ss, C_fbk_ss, C_int_ss,\n",
    "                φ_err_sum, β_err_sum,\n",
    "                aileron_cmd_sum, rudder_cmd_sum,\n",
    "                φ_sp_splitter, β_sp_splitter], connections;\n",
    "                w1 = z_labels_sp, z1 = y_labels_lat)\n",
    "\n",
    "dampreport(P_φβ)"
   ]
  },
  {
   "cell_type": "code",
   "execution_count": 22,
   "metadata": {},
   "outputs": [
    {
     "ename": "UndefVarError",
     "evalue": "UndefVarError: `P_φβ` not defined",
     "output_type": "error",
     "traceback": [
      "UndefVarError: `P_φβ` not defined\n",
      "\n",
      "Stacktrace:\n",
      " [1] top-level scope\n",
      "   @ c:\\Users\\Miguel\\.julia\\dev\\Flight.jl\\src\\aircraft\\c172\\c172fbw\\control\\design\\c172fbw_lat.ipynb:1"
     ]
    }
   ],
   "source": [
    "φsp2φ_φβ = P_φβ[:φ, :φ_sp]\n",
    "φsp2β_φβ = P_φβ[:β, :φ_sp]\n",
    "φsp2ail_φβ = P_φβ[:aileron_cmd, :φ_sp]\n",
    "φsp2rud_φβ = P_φβ[:rudder_cmd, :φ_sp]\n",
    "step(φsp2φ_φβ, 10) |> plot\n",
    "step(φsp2β_φβ, 10) |> plot!\n",
    "step(φsp2ail_φβ, 10) |> plot!\n",
    "step(φsp2rud_φβ, 10) |> plot!"
   ]
  },
  {
   "cell_type": "code",
   "execution_count": 23,
   "metadata": {},
   "outputs": [
    {
     "ename": "UndefVarError",
     "evalue": "UndefVarError: `P_φβ` not defined",
     "output_type": "error",
     "traceback": [
      "UndefVarError: `P_φβ` not defined\n",
      "\n",
      "Stacktrace:\n",
      " [1] top-level scope\n",
      "   @ c:\\Users\\Miguel\\.julia\\dev\\Flight.jl\\src\\aircraft\\c172\\c172fbw\\control\\design\\c172fbw_lat.ipynb:1"
     ]
    }
   ],
   "source": [
    "βsp2β_φβ = P_φβ[:β, :β_sp]\n",
    "βsp2φ_φβ = P_φβ[:φ, :β_sp]\n",
    "βsp2rud_φβ = P_φβ[:rudder_cmd, :β_sp]\n",
    "βsp2ail_φβ = P_φβ[:aileron_cmd, :β_sp]\n",
    "step(βsp2β_φβ, 10) |> plot\n",
    "step(βsp2φ_φβ, 10) |> plot!\n",
    "# step(βsp2rud_φβ, 10) |> plot!\n",
    "# step(βsp2ail_φβ, 10) |> plot!"
   ]
  },
  {
   "cell_type": "markdown",
   "metadata": {},
   "source": [
    "### 1.3. Design C (Integral $\\phi$ and $\\beta$ Control)"
   ]
  },
  {
   "cell_type": "code",
   "execution_count": 24,
   "metadata": {},
   "outputs": [
    {
     "ename": "UndefVarError",
     "evalue": "UndefVarError: `ZLatPhiBeta` not defined",
     "output_type": "error",
     "traceback": [
      "UndefVarError: `ZLatPhiBeta` not defined\n",
      "\n",
      "Stacktrace:\n",
      " [1] getproperty(x::Module, f::Symbol)\n",
      "   @ Base .\\Base.jl:31\n",
      " [2] top-level scope\n",
      "   @ c:\\Users\\Miguel\\.julia\\dev\\Flight.jl\\src\\aircraft\\c172\\c172fbw\\control\\design\\c172fbw_lat.ipynb:3"
     ]
    }
   ],
   "source": [
    "#define command variables\n",
    "z_labels = [:φ, :β]\n",
    "@assert tuple(z_labels...) === propertynames(FlightControl.ZLatPhiBeta())\n",
    "z_trim = lss_red.y0[z_labels]\n",
    "n_z = length(z_labels)"
   ]
  },
  {
   "cell_type": "code",
   "execution_count": 25,
   "metadata": {},
   "outputs": [
    {
     "data": {
      "text/plain": [
       "2×10 \u001b[0mComponentMatrix{Float64} with axes Axis(φ = 1, β = 2) × Axis(p = 1, r = 2, φ = 3, v_x = 4, v_y = 5, β_filt = 6, ail_v = 7, ail_p = 8, rud_v = 9, rud_p = 10)\n",
       " 0.0  0.0  1.0  0.0  0.0        0.0  0.0  0.0  0.0  0.0\n",
       " 0.0  0.0  0.0  0.0  0.0190216  0.0  0.0  0.0  0.0  0.0"
      ]
     },
     "metadata": {},
     "output_type": "display_data"
    },
    {
     "data": {
      "text/plain": [
       "2×2 \u001b[0mComponentMatrix{Float64} with axes Axis(φ = 1, β = 2) × Axis(aileron_cmd = 1, rudder_cmd = 2)\n",
       " 0.0  0.0\n",
       " 0.0  0.0"
      ]
     },
     "metadata": {},
     "output_type": "display_data"
    },
    {
     "data": {
      "text/plain": [
       "2×10 \u001b[0mComponentMatrix{Float64} with axes Axis(φ = 1, β = 2) × Axis(p = 1, r = 2, φ = 3, v_x = 4, v_y = 5, β_filt = 6, ail_v = 7, ail_p = 8, rud_v = 9, rud_p = 10)\n",
       " 0.0  0.0  1.0  0.0  0.0        0.0  0.0  0.0  0.0  0.0\n",
       " 0.0  0.0  0.0  0.0  0.0190216  0.0  0.0  0.0  0.0  0.0"
      ]
     },
     "metadata": {},
     "output_type": "display_data"
    },
    {
     "data": {
      "text/plain": [
       "2×2 \u001b[0mComponentMatrix{Float64} with axes Axis(φ = 1, β = 2) × Axis(aileron_cmd = 1, rudder_cmd = 2)\n",
       " 0.0  0.0\n",
       " 0.0  0.0"
      ]
     },
     "metadata": {},
     "output_type": "display_data"
    },
    {
     "ename": "UndefVarError",
     "evalue": "UndefVarError: `n_x` not defined",
     "output_type": "error",
     "traceback": [
      "UndefVarError: `n_x` not defined\n",
      "\n",
      "Stacktrace:\n",
      " [1] top-level scope\n",
      "   @ c:\\Users\\Miguel\\.julia\\dev\\Flight.jl\\src\\aircraft\\c172\\c172fbw\\control\\design\\c172fbw_lat.ipynb:16"
     ]
    }
   ],
   "source": [
    "F = lss_red.A\n",
    "G = lss_red.B\n",
    "Hx = lss_red.C[z_labels, :]\n",
    "Hu = lss_red.D[z_labels, :]\n",
    "display(Hx)\n",
    "display(Hu)\n",
    "\n",
    "#define the blocks corresponding to the subset of the command variables for\n",
    "#which integral compensation is required\n",
    "Hx_int = Hx[z_labels, :]\n",
    "Hu_int = Hu[z_labels, :]\n",
    "n_int, _ = size(Hx_int)\n",
    "display(Hx_int)\n",
    "display(Hu_int)\n",
    "\n",
    "F_aug = [F zeros(n_x, n_int); Hx_int zeros(n_int, n_int)]\n",
    "G_aug = [G; Hu_int]\n",
    "Hx_aug = [Hx zeros(n_z, n_int)]\n",
    "Hu_aug = Hu\n",
    "\n",
    "P_aug = ss(F_aug, G_aug, Hx_aug, Hu_aug)\n",
    "controllability(F_aug, G_aug)"
   ]
  },
  {
   "cell_type": "code",
   "execution_count": 26,
   "metadata": {},
   "outputs": [
    {
     "ename": "UndefVarError",
     "evalue": "UndefVarError: `ULat` not defined",
     "output_type": "error",
     "traceback": [
      "UndefVarError: `ULat` not defined\n",
      "\n",
      "Stacktrace:\n",
      " [1] getproperty(x::Module, f::Symbol)\n",
      "   @ Base .\\Base.jl:31\n",
      " [2] top-level scope\n",
      "   @ c:\\Users\\Miguel\\.julia\\dev\\Flight.jl\\src\\aircraft\\c172\\c172fbw\\control\\design\\c172fbw_lat.ipynb:6"
     ]
    }
   ],
   "source": [
    "@unpack v_x, v_y = lss_red.x0\n",
    "v_norm = norm([v_x, v_y])\n",
    "\n",
    "#weight matrices\n",
    "Q = ComponentVector(p = 0, r = 0.1, φ = 0.25, v_x = 0/v_norm, v_y = 0.1/v_norm, β_filt = 0, ail_v = 0, ail_p = 0, rud_v = 0, rud_p = 0, ξ_φ = 0.1, ξ_β = 0.001) |> diagm\n",
    "R = FlightControl.ULat(aileron_cmd = 0.05, rudder_cmd = 0.05) |> diagm\n",
    "\n",
    "#compute gain matrix\n",
    "C_aug = lqr(P_aug, Q, R)\n",
    "\n",
    "# quickly construct the closed-loop augmented system to check the resulting\n",
    "# eigenvalues, we'll do the connections properly later\n",
    "F_aug_cl = F_aug - G_aug * C_aug\n",
    "P_aug_cl = ss(F_aug_cl, G_aug, Hx_aug, Hu_aug)\n",
    "\n",
    "dampreport(P_aug)\n",
    "dampreport(P_aug_cl)"
   ]
  },
  {
   "cell_type": "code",
   "execution_count": 27,
   "metadata": {},
   "outputs": [
    {
     "ename": "UndefVarError",
     "evalue": "UndefVarError: `n_x` not defined",
     "output_type": "error",
     "traceback": [
      "UndefVarError: `n_x` not defined\n",
      "\n",
      "Stacktrace:\n",
      " [1] top-level scope\n",
      "   @ c:\\Users\\Miguel\\.julia\\dev\\Flight.jl\\src\\aircraft\\c172\\c172fbw\\control\\design\\c172fbw_lat.ipynb:3"
     ]
    }
   ],
   "source": [
    "A = [F G; Hx Hu]\n",
    "B = inv(A)\n",
    "B_12 = B[1:n_x, n_x+1:end]\n",
    "B_22 = B[n_x+1:end, n_x+1:end]\n",
    "\n",
    "#extract system state and integrator blocks from the feedback matrix\n",
    "C_x = C_aug[:, 1:n_x]\n",
    "C_ξ = C_aug[:, n_x+1:end]\n",
    "\n",
    "C_fbk = C_x\n",
    "C_fwd = B_22 + C_x * B_12\n",
    "C_int = C_ξ\n",
    "\n",
    "#some useful signal labels\n",
    "u_labels_fbk = Symbol.(string.(u_labels) .* \"_fbk\")\n",
    "u_labels_fwd = Symbol.(string.(u_labels) .* \"_fwd\")\n",
    "u_labels_sum = Symbol.(string.(u_labels) .* \"_sum\")\n",
    "u_labels_int_u = Symbol.(string.(u_labels) .* \"_int_u\")\n",
    "u_labels_int = Symbol.(string.(u_labels) .* \"_int\")\n",
    "u_labels_ξ = Symbol.(string.(u_labels) .* \"_ξ\")\n",
    "\n",
    "z_labels_sp = Symbol.(string.(z_labels) .* \"_sp\")\n",
    "z_labels_sp1 = Symbol.(string.(z_labels) .* \"_sp1\")\n",
    "z_labels_sp2 = Symbol.(string.(z_labels) .* \"_sp2\")\n",
    "z_labels_err = Symbol.(string.(z_labels) .* \"_err\")\n",
    "z_labels_sum = Symbol.(string.(z_labels) .* \"_sum\")\n",
    "z_labels_sp_fwd = Symbol.(string.(z_labels) .* \"_sp_fwd\")\n",
    "z_labels_sp_sum = Symbol.(string.(z_labels) .* \"_sp_sum\")\n",
    "\n",
    "#the integral gain matrix is constructed by padding C_ξ with zeros in those\n",
    "#columns corresponding to command variables without integral compensation\n",
    "C_fbk_ss = named_ss(ss(C_fbk), u = x_labels, y = u_labels_fbk)\n",
    "C_fwd_ss = named_ss(ss(C_fwd), u = z_labels_sp_fwd, y = u_labels_fwd)\n",
    "C_int_ss = named_ss(ss(C_int), u = z_labels_err, y = u_labels_int_u)\n",
    "\n",
    "int_ss = named_ss(ss(tf(1, [1,0])) .* I(2),\n",
    "                    x = u_labels_ξ,\n",
    "                    u = u_labels_int_u,\n",
    "                    y = u_labels_int);\n",
    "\n",
    "φ_err_sum = sumblock(\"φ_err = φ_sum - φ_sp_sum\")\n",
    "β_err_sum = sumblock(\"β_err = β_sum - β_sp_sum\")\n",
    "\n",
    "aileron_cmd_sum = sumblock(\"aileron_cmd_sum = aileron_cmd_fwd - aileron_cmd_fbk - aileron_cmd_int\")\n",
    "rudder_cmd_sum = sumblock(\"rudder_cmd_sum = rudder_cmd_fwd - rudder_cmd_fbk - rudder_cmd_int\")\n",
    "\n",
    "φ_sp_splitter = splitter(:φ_sp, 2)\n",
    "β_sp_splitter = splitter(:β_sp, 2)\n",
    "\n",
    "connections = vcat(\n",
    "    Pair.(x_labels, x_labels),\n",
    "    Pair.(z_labels, z_labels_sum),\n",
    "    Pair.(z_labels_sp1, z_labels_sp_sum),\n",
    "    Pair.(z_labels_sp2, z_labels_sp_fwd),\n",
    "    Pair.(z_labels_err, z_labels_err),\n",
    "    Pair.(u_labels_sum, u_labels),\n",
    "    Pair.(u_labels_fwd, u_labels_fwd),\n",
    "    Pair.(u_labels_fbk, u_labels_fbk),\n",
    "    Pair.(u_labels_int, u_labels_int),\n",
    "    Pair.(u_labels_int_u, u_labels_int_u),\n",
    "    )\n",
    "\n",
    "display(C_fbk_ss)\n",
    "display(C_fwd_ss)\n",
    "display(C_int_ss)"
   ]
  },
  {
   "cell_type": "markdown",
   "metadata": {},
   "source": [
    "Now, after designing the LQR tracker on the reduced plant, we connect it to the full lateral dynamics to get $\\psi$ and $\\chi$ back for later."
   ]
  },
  {
   "cell_type": "code",
   "execution_count": 28,
   "metadata": {},
   "outputs": [
    {
     "ename": "UndefVarError",
     "evalue": "UndefVarError: `int_ss` not defined",
     "output_type": "error",
     "traceback": [
      "UndefVarError: `int_ss` not defined\n",
      "\n",
      "Stacktrace:\n",
      " [1] top-level scope\n",
      "   @ c:\\Users\\Miguel\\.julia\\dev\\Flight.jl\\src\\aircraft\\c172\\c172fbw\\control\\design\\c172fbw_lat.ipynb:1"
     ]
    }
   ],
   "source": [
    "P_φβ = connect([P_lat, int_ss, C_fwd_ss, C_fbk_ss, C_int_ss,\n",
    "                φ_err_sum, β_err_sum,\n",
    "                aileron_cmd_sum, rudder_cmd_sum,\n",
    "                φ_sp_splitter, β_sp_splitter], connections;\n",
    "                w1 = z_labels_sp, z1 = y_labels_lat)\n",
    "\n",
    "dampreport(P_φβ)"
   ]
  },
  {
   "cell_type": "code",
   "execution_count": 29,
   "metadata": {},
   "outputs": [
    {
     "ename": "UndefVarError",
     "evalue": "UndefVarError: `P_φβ` not defined",
     "output_type": "error",
     "traceback": [
      "UndefVarError: `P_φβ` not defined\n",
      "\n",
      "Stacktrace:\n",
      " [1] top-level scope\n",
      "   @ c:\\Users\\Miguel\\.julia\\dev\\Flight.jl\\src\\aircraft\\c172\\c172fbw\\control\\design\\c172fbw_lat.ipynb:1"
     ]
    }
   ],
   "source": [
    "φsp2φ_φβ = P_φβ[:φ, :φ_sp]\n",
    "φsp2β_φβ = P_φβ[:β, :φ_sp]\n",
    "φsp2ail_φβ = P_φβ[:aileron_cmd, :φ_sp]\n",
    "φsp2rud_φβ = P_φβ[:rudder_cmd, :φ_sp]\n",
    "step(φsp2φ_φβ, 10) |> plot\n",
    "step(φsp2β_φβ, 10) |> plot!\n",
    "step(φsp2ail_φβ, 10) |> plot!\n",
    "step(φsp2rud_φβ, 10) |> plot!"
   ]
  },
  {
   "cell_type": "code",
   "execution_count": 30,
   "metadata": {},
   "outputs": [
    {
     "ename": "UndefVarError",
     "evalue": "UndefVarError: `P_φβ` not defined",
     "output_type": "error",
     "traceback": [
      "UndefVarError: `P_φβ` not defined\n",
      "\n",
      "Stacktrace:\n",
      " [1] top-level scope\n",
      "   @ c:\\Users\\Miguel\\.julia\\dev\\Flight.jl\\src\\aircraft\\c172\\c172fbw\\control\\design\\c172fbw_lat.ipynb:1"
     ]
    }
   ],
   "source": [
    "βsp2β_φβ = P_φβ[:β, :β_sp]\n",
    "βsp2φ_φβ = P_φβ[:φ, :β_sp]\n",
    "βsp2rud_φβ = P_φβ[:rudder_cmd, :β_sp]\n",
    "βsp2ail_φβ = P_φβ[:aileron_cmd, :β_sp]\n",
    "step(βsp2β_φβ, 10) |> plot\n",
    "step(βsp2φ_φβ, 10) |> plot!\n",
    "# step(βsp2rud_φβ, 10) |> plot!\n",
    "# step(βsp2ail_φβ, 10) |> plot!"
   ]
  },
  {
   "cell_type": "markdown",
   "metadata": {},
   "source": [
    "## 2. Roll Rate Control Augmentation"
   ]
  },
  {
   "cell_type": "markdown",
   "metadata": {},
   "source": [
    "We now design a roll rate CAS on top of the plant with $\\phi$ and $\\beta$ tracking. This will be a SISO loop connected to the $\\phi_{sp}$ input. That is, we will provide roll rate tracking via the bank angle set point. Clearly, one or more integrators will be needed."
   ]
  },
  {
   "cell_type": "code",
   "execution_count": 31,
   "metadata": {},
   "outputs": [
    {
     "ename": "UndefVarError",
     "evalue": "UndefVarError: `P_φβ` not defined",
     "output_type": "error",
     "traceback": [
      "UndefVarError: `P_φβ` not defined\n",
      "\n",
      "Stacktrace:\n",
      " [1] top-level scope\n",
      "   @ c:\\Users\\Miguel\\.julia\\dev\\Flight.jl\\src\\aircraft\\c172\\c172fbw\\control\\design\\c172fbw_lat.ipynb:1"
     ]
    }
   ],
   "source": [
    "P_φ2p = P_φβ[:p, :φ_sp];"
   ]
  },
  {
   "cell_type": "code",
   "execution_count": 32,
   "metadata": {},
   "outputs": [
    {
     "ename": "UndefVarError",
     "evalue": "UndefVarError: `P_φ2p` not defined",
     "output_type": "error",
     "traceback": [
      "UndefVarError: `P_φ2p` not defined\n",
      "\n",
      "Stacktrace:\n",
      " [1] top-level scope\n",
      "   @ c:\\Users\\Miguel\\.julia\\dev\\Flight.jl\\src\\aircraft\\c172\\c172fbw\\control\\design\\c172fbw_lat.ipynb:1"
     ]
    }
   ],
   "source": [
    "bodeplot(P_φ2p)"
   ]
  },
  {
   "cell_type": "code",
   "execution_count": 33,
   "metadata": {},
   "outputs": [
    {
     "ename": "UndefVarError",
     "evalue": "UndefVarError: `P_φ2p` not defined",
     "output_type": "error",
     "traceback": [
      "UndefVarError: `P_φ2p` not defined\n",
      "\n",
      "Stacktrace:\n",
      " [1] top-level scope\n",
      "   @ c:\\Users\\Miguel\\.julia\\dev\\Flight.jl\\src\\aircraft\\c172\\c172fbw\\control\\design\\c172fbw_lat.ipynb:1"
     ]
    }
   ],
   "source": [
    "nyquistplot(P_φ2p; unit_circle = true, Ms_circles = [1.0])\n",
    "plot!(ylims = (-2,2), xlims = (-2,2))"
   ]
  },
  {
   "cell_type": "code",
   "execution_count": 34,
   "metadata": {},
   "outputs": [
    {
     "ename": "UndefVarError",
     "evalue": "UndefVarError: `P_φ2p` not defined",
     "output_type": "error",
     "traceback": [
      "UndefVarError: `P_φ2p` not defined\n",
      "\n",
      "Stacktrace:\n",
      " [1] top-level scope\n",
      "   @ c:\\Users\\Miguel\\.julia\\dev\\Flight.jl\\src\\aircraft\\c172\\c172fbw\\control\\design\\c172fbw_lat.ipynb:2"
     ]
    }
   ],
   "source": [
    "p2φ_int = tf(1, [1, 0]) |> ss\n",
    "P_p2φ_opt = series(p2φ_int, ss(P_φ2p))\n",
    "\n",
    "t_sim_p2φ = 10\n",
    "lower_bounds = PIDParams(; k_p = 0.1, k_i = 0.0, k_d = 0.0, τ_f = 0.01)\n",
    "upper_bounds = PIDParams(; k_p = 10.0, k_i = 35.0, k_d = 1.5, τ_f = 0.01)\n",
    "settings = Settings(; t_sim = t_sim_p2φ, lower_bounds, upper_bounds)\n",
    "weights = Metrics(; Ms = 1, ∫e = 10, ef = 2, ∫u = 0.1, up = 0.00)\n",
    "params_0 = PIDParams(; k_p = 1.5, k_i = 3, k_d = 0.1, τ_f = 0.01)\n",
    "\n",
    "p2φ_results = optimize_PID(P_p2φ_opt; params_0, settings, weights, global_search)\n",
    "\n",
    "@unpack k_p, k_i, k_d, T_i, T_d = p2φ_results.params\n",
    "@unpack k_p, k_i, k_d, T_i, T_d = p2φ_results.params\n",
    "@show k_p, k_i, k_d, T_i, T_d\n",
    "@show p2φ_results.metrics\n",
    "@show p2φ_results.exit_flag"
   ]
  },
  {
   "cell_type": "code",
   "execution_count": 35,
   "metadata": {},
   "outputs": [
    {
     "ename": "UndefVarError",
     "evalue": "UndefVarError: `p2φ_results` not defined",
     "output_type": "error",
     "traceback": [
      "UndefVarError: `p2φ_results` not defined\n",
      "\n",
      "Stacktrace:\n",
      " [1] top-level scope\n",
      "   @ c:\\Users\\Miguel\\.julia\\dev\\Flight.jl\\src\\aircraft\\c172\\c172fbw\\control\\design\\c172fbw_lat.ipynb:1"
     ]
    }
   ],
   "source": [
    "p2φ_PID = build_PID(p2φ_results.params)\n",
    "C_p2φ = named_ss(series(p2φ_int, p2φ_PID), :C_p2φ; u = :p_err, y = :φ_sp)"
   ]
  },
  {
   "cell_type": "code",
   "execution_count": 36,
   "metadata": {},
   "outputs": [
    {
     "ename": "UndefVarError",
     "evalue": "UndefVarError: `C_p2φ` not defined",
     "output_type": "error",
     "traceback": [
      "UndefVarError: `C_p2φ` not defined\n",
      "\n",
      "Stacktrace:\n",
      " [1] top-level scope\n",
      "   @ c:\\Users\\Miguel\\.julia\\dev\\Flight.jl\\src\\aircraft\\c172\\c172fbw\\control\\design\\c172fbw_lat.ipynb:2"
     ]
    }
   ],
   "source": [
    "#steady-state error for a unit step input, now zero\n",
    "L_p2φ = series(C_p2φ, P_φ2p)\n",
    "\n",
    "T_p2φ = output_comp_sensitivity(P_φ2p, C_p2φ) #this is the closed loop transfer function\n",
    "T_p2φ_step = step(T_p2φ, t_sim_p2φ)\n",
    "stepinfo(T_p2φ_step) |> display\n",
    "T_p2φ_step |> plot"
   ]
  },
  {
   "cell_type": "code",
   "execution_count": 37,
   "metadata": {},
   "outputs": [
    {
     "ename": "UndefVarError",
     "evalue": "UndefVarError: `L_p2φ` not defined",
     "output_type": "error",
     "traceback": [
      "UndefVarError: `L_p2φ` not defined\n",
      "\n",
      "Stacktrace:\n",
      " [1] top-level scope\n",
      "   @ c:\\Users\\Miguel\\.julia\\dev\\Flight.jl\\src\\aircraft\\c172\\c172fbw\\control\\design\\c172fbw_lat.ipynb:1"
     ]
    }
   ],
   "source": [
    "marginplot(L_p2φ)"
   ]
  },
  {
   "cell_type": "code",
   "execution_count": 38,
   "metadata": {},
   "outputs": [
    {
     "ename": "UndefVarError",
     "evalue": "UndefVarError: `P_φ2p` not defined",
     "output_type": "error",
     "traceback": [
      "UndefVarError: `P_φ2p` not defined\n",
      "\n",
      "Stacktrace:\n",
      " [1] top-level scope\n",
      "   @ c:\\Users\\Miguel\\.julia\\dev\\Flight.jl\\src\\aircraft\\c172\\c172fbw\\control\\design\\c172fbw_lat.ipynb:1"
     ]
    }
   ],
   "source": [
    "gangoffourplot(P_φ2p, C_p2φ)"
   ]
  },
  {
   "cell_type": "code",
   "execution_count": 39,
   "metadata": {},
   "outputs": [
    {
     "ename": "UndefVarError",
     "evalue": "UndefVarError: `P_φβ` not defined",
     "output_type": "error",
     "traceback": [
      "UndefVarError: `P_φβ` not defined\n",
      "\n",
      "Stacktrace:\n",
      " [1] top-level scope\n",
      "   @ c:\\Users\\Miguel\\.julia\\dev\\Flight.jl\\src\\aircraft\\c172\\c172fbw\\control\\design\\c172fbw_lat.ipynb:2"
     ]
    }
   ],
   "source": [
    "p2φ_sum = sumblock(\"p_err = p_sp - p\")\n",
    "P_pβ = connect([P_φβ, p2φ_sum, C_p2φ], [:p_err=>:p_err, :p=>:p, :φ_sp=>:φ_sp], w1 = [:p_sp, :β_sp], z1 = P_φβ.y)\n",
    "\n",
    "#check we get the same response as with the SISO closed loop\n",
    "psp2p = P_pβ[:p, :p_sp]\n",
    "psp2β = P_pβ[:β, :p_sp]\n",
    "psp2a = P_pβ[:aileron_cmd, :p_sp]\n",
    "psp2r = P_pβ[:rudder_cmd, :p_sp]\n",
    "step(psp2p, t_sim_p2φ) |> plot\n",
    "step(psp2β, t_sim_p2φ) |> plot!\n",
    "step(psp2a, t_sim_p2φ) |> plot!\n",
    "step(psp2r, t_sim_p2φ) |> plot!"
   ]
  },
  {
   "cell_type": "markdown",
   "metadata": {},
   "source": [
    "To avoid transients on mode changes, we want the initial output of the roll rate loop to match the current value of the bank angle setpoint at the roll-yaw SAS input, $\\phi_{sp}$.\n",
    "\n",
    "Whenever roll rate mode is enabled after a mode change, we first reset both the integrator and the PID. Then we set PID integrator's state to the appropriate value to achieve the required $\\phi_{sp}$. We have:\n",
    "$$ y_{int} = 0 $$\n",
    "$$ y_{pid} = k_p y_{int} + k_i x_{i0} = k_i x_{i0} = \\phi_{sp} $$\n",
    "\n",
    "Therefore:\n",
    "$$x_{i0} = \\phi_{sp}/k_i$$"
   ]
  },
  {
   "cell_type": "markdown",
   "metadata": {},
   "source": [
    "## 3. Course Angle Tracker"
   ]
  },
  {
   "cell_type": "markdown",
   "metadata": {},
   "source": [
    "We start from the plant with embedded bank angle and sideslip control."
   ]
  },
  {
   "cell_type": "code",
   "execution_count": 40,
   "metadata": {},
   "outputs": [
    {
     "ename": "UndefVarError",
     "evalue": "UndefVarError: `P_φβ` not defined",
     "output_type": "error",
     "traceback": [
      "UndefVarError: `P_φβ` not defined\n",
      "\n",
      "Stacktrace:\n",
      " [1] top-level scope\n",
      "   @ c:\\Users\\Miguel\\.julia\\dev\\Flight.jl\\src\\aircraft\\c172\\c172fbw\\control\\design\\c172fbw_lat.ipynb:1"
     ]
    }
   ],
   "source": [
    "P_φ2χ = P_φβ[:χ, :φ_sp];\n",
    "bodeplot(P_φ2χ)\n",
    "step(P_φ2χ, 10) |> plot"
   ]
  },
  {
   "cell_type": "code",
   "execution_count": 41,
   "metadata": {},
   "outputs": [
    {
     "ename": "UndefVarError",
     "evalue": "UndefVarError: `P_φ2χ` not defined",
     "output_type": "error",
     "traceback": [
      "UndefVarError: `P_φ2χ` not defined\n",
      "\n",
      "Stacktrace:\n",
      " [1] top-level scope\n",
      "   @ c:\\Users\\Miguel\\.julia\\dev\\Flight.jl\\src\\aircraft\\c172\\c172fbw\\control\\design\\c172fbw_lat.ipynb:1"
     ]
    }
   ],
   "source": [
    "marginplot(P_φ2χ)"
   ]
  },
  {
   "cell_type": "code",
   "execution_count": 42,
   "metadata": {},
   "outputs": [
    {
     "ename": "UndefVarError",
     "evalue": "UndefVarError: `P_φ2χ` not defined",
     "output_type": "error",
     "traceback": [
      "UndefVarError: `P_φ2χ` not defined\n",
      "\n",
      "Stacktrace:\n",
      " [1] top-level scope\n",
      "   @ c:\\Users\\Miguel\\.julia\\dev\\Flight.jl\\src\\aircraft\\c172\\c172fbw\\control\\design\\c172fbw_lat.ipynb:1"
     ]
    }
   ],
   "source": [
    "nyquistplot(P_φ2χ; unit_circle = true, Ms_circles = [1.0])\n",
    "plot!(ylims = (-2,2), xlims = (-2,2))"
   ]
  },
  {
   "cell_type": "markdown",
   "metadata": {},
   "source": [
    "We can see that without compensation the loop transfer function is already type-1, that is, gain goes to infinity for zero frequency. This ensures zero steady-state error, but not in the presence of external disturbances (such as crosswind). For zero steady-state disturbances rejection we need integral compensation. The result is a type 2 open loop system."
   ]
  },
  {
   "cell_type": "code",
   "execution_count": 43,
   "metadata": {},
   "outputs": [
    {
     "ename": "UndefVarError",
     "evalue": "UndefVarError: `P_φ2χ` not defined",
     "output_type": "error",
     "traceback": [
      "UndefVarError: `P_φ2χ` not defined\n",
      "\n",
      "Stacktrace:\n",
      " [1] top-level scope\n",
      "   @ c:\\Users\\Miguel\\.julia\\dev\\Flight.jl\\src\\aircraft\\c172\\c172fbw\\control\\design\\c172fbw_lat.ipynb:8"
     ]
    }
   ],
   "source": [
    "t_sim_χ2φ = 30\n",
    "lower_bounds = PIDParams(; k_p = 0.1, k_i = 0.3, k_d = 0.0, τ_f = 0.01)\n",
    "upper_bounds = PIDParams(; k_p = 10.0, k_i = 0.3, k_d = 0.0, τ_f = 0.01)\n",
    "settings = Settings(; t_sim = t_sim_χ2φ, lower_bounds, upper_bounds)\n",
    "weights = Metrics(; Ms = 3, ∫e = 10, ef = 1, ∫u = 0.00, up = 0.01)\n",
    "params_0 = PIDParams(; k_p = 3., k_i = 0.3, k_d = 0.0, τ_f = 0.01)\n",
    "\n",
    "χ2φ_results = optimize_PID(P_φ2χ; params_0, settings, weights, global_search)\n",
    "χ2φ_PID = build_PID(χ2φ_results.params)\n",
    "C_χ2φ = named_ss(χ2φ_PID, :C_χ2φ; u = :χ_err, y = :φ_sp);\n",
    "\n",
    "@unpack k_p, k_i, k_d, T_i, T_d = χ2φ_results.params\n",
    "@show k_p, k_i, k_d, T_i, T_d\n",
    "@show χ2φ_results.metrics\n",
    "@show χ2φ_results.exit_flag"
   ]
  },
  {
   "cell_type": "code",
   "execution_count": 44,
   "metadata": {},
   "outputs": [
    {
     "ename": "UndefVarError",
     "evalue": "UndefVarError: `C_χ2φ` not defined",
     "output_type": "error",
     "traceback": [
      "UndefVarError: `C_χ2φ` not defined\n",
      "\n",
      "Stacktrace:\n",
      " [1] top-level scope\n",
      "   @ c:\\Users\\Miguel\\.julia\\dev\\Flight.jl\\src\\aircraft\\c172\\c172fbw\\control\\design\\c172fbw_lat.ipynb:1"
     ]
    }
   ],
   "source": [
    "L_χ2φ = series(C_χ2φ, P_φ2χ)\n",
    "nyquistplot(L_χ2φ, unit_circle = true, Ms_circles = [1.0])\n",
    "plot!(ylims = (-2,2), xlims = (-2,2))"
   ]
  },
  {
   "cell_type": "code",
   "execution_count": 45,
   "metadata": {},
   "outputs": [
    {
     "ename": "UndefVarError",
     "evalue": "UndefVarError: `L_χ2φ` not defined",
     "output_type": "error",
     "traceback": [
      "UndefVarError: `L_χ2φ` not defined\n",
      "\n",
      "Stacktrace:\n",
      " [1] top-level scope\n",
      "   @ c:\\Users\\Miguel\\.julia\\dev\\Flight.jl\\src\\aircraft\\c172\\c172fbw\\control\\design\\c172fbw_lat.ipynb:1"
     ]
    }
   ],
   "source": [
    "marginplot(L_χ2φ)"
   ]
  },
  {
   "cell_type": "markdown",
   "metadata": {},
   "source": [
    "Here we are particularly interested in the load disturbance to output transfer function P/(1+C). In order for the controller to be able to counter the effects of crosswind, this function needs to show low frequency roll-off. And indeed, forcing a nonzero integral term in the PID achieves this goal."
   ]
  },
  {
   "cell_type": "code",
   "execution_count": 46,
   "metadata": {},
   "outputs": [
    {
     "ename": "UndefVarError",
     "evalue": "UndefVarError: `P_φ2χ` not defined",
     "output_type": "error",
     "traceback": [
      "UndefVarError: `P_φ2χ` not defined\n",
      "\n",
      "Stacktrace:\n",
      " [1] top-level scope\n",
      "   @ c:\\Users\\Miguel\\.julia\\dev\\Flight.jl\\src\\aircraft\\c172\\c172fbw\\control\\design\\c172fbw_lat.ipynb:1"
     ]
    }
   ],
   "source": [
    "gangoffourplot(P_φ2χ, C_χ2φ)"
   ]
  },
  {
   "cell_type": "code",
   "execution_count": 47,
   "metadata": {},
   "outputs": [
    {
     "ename": "UndefVarError",
     "evalue": "UndefVarError: `P_φ2χ` not defined",
     "output_type": "error",
     "traceback": [
      "UndefVarError: `P_φ2χ` not defined\n",
      "\n",
      "Stacktrace:\n",
      " [1] top-level scope\n",
      "   @ c:\\Users\\Miguel\\.julia\\dev\\Flight.jl\\src\\aircraft\\c172\\c172fbw\\control\\design\\c172fbw_lat.ipynb:1"
     ]
    }
   ],
   "source": [
    "T_χ2φ = output_comp_sensitivity(P_φ2χ, C_χ2φ) #input to output response\n",
    "T_χ2φ_step = step(T_χ2φ, 2t_sim_χ2φ)\n",
    "stepinfo(T_χ2φ_step) |> display\n",
    "T_χ2φ_step |> plot"
   ]
  },
  {
   "cell_type": "markdown",
   "metadata": {},
   "source": [
    "The drawback of the forced inclusion of integral action is an undesirably large overshoot. However, for the step response it is also important to consider the input to control signal response, because obviously our bank angle demand will be limited. "
   ]
  },
  {
   "cell_type": "markdown",
   "metadata": {},
   "source": [
    "And in this case, saturation will work in our favor. For large initial step responses, it will halt integration before the integrator's state reaches the values predicted by the linear model. Therefore, the actual overshoot will be smaller."
   ]
  },
  {
   "cell_type": "code",
   "execution_count": 48,
   "metadata": {},
   "outputs": [
    {
     "ename": "UndefVarError",
     "evalue": "UndefVarError: `P_φ2χ` not defined",
     "output_type": "error",
     "traceback": [
      "UndefVarError: `P_φ2χ` not defined\n",
      "\n",
      "Stacktrace:\n",
      " [1] top-level scope\n",
      "   @ c:\\Users\\Miguel\\.julia\\dev\\Flight.jl\\src\\aircraft\\c172\\c172fbw\\control\\design\\c172fbw_lat.ipynb:1"
     ]
    }
   ],
   "source": [
    "CS_χ2φ = G_CS(P_φ2χ, C_χ2φ) #input to control signal response\n",
    "CS_χ2φ_step = step(CS_χ2φ, t_sim_χ2φ)\n",
    "CS_χ2φ_step |> plot!"
   ]
  },
  {
   "cell_type": "code",
   "execution_count": 49,
   "metadata": {},
   "outputs": [
    {
     "ename": "UndefVarError",
     "evalue": "UndefVarError: `P_φβ` not defined",
     "output_type": "error",
     "traceback": [
      "UndefVarError: `P_φβ` not defined\n",
      "\n",
      "Stacktrace:\n",
      " [1] top-level scope\n",
      "   @ c:\\Users\\Miguel\\.julia\\dev\\Flight.jl\\src\\aircraft\\c172\\c172fbw\\control\\design\\c172fbw_lat.ipynb:2"
     ]
    }
   ],
   "source": [
    "χ2φ_sum = sumblock(\"χ_err = χ_sp - χ\")\n",
    "P_χβ = connect([P_φβ, χ2φ_sum, C_χ2φ], [:χ_err=>:χ_err, :χ=>:χ, :φ_sp=>:φ_sp], w1 = [:χ_sp, :β_sp], z1 = P_φβ.y)\n",
    "\n",
    "#check we get the same response as with the SISO closed loop\n",
    "χsp2χ = P_χβ[:χ, :χ_sp]\n",
    "χsp2β = P_χβ[:β, :χ_sp]\n",
    "χsp2a = P_χβ[:aileron_cmd, :χ_sp]\n",
    "step(χsp2χ, t_sim_χ2φ) |> plot\n",
    "step(χsp2β, t_sim_χ2φ) |> plot!\n",
    "step(χsp2a, t_sim_χ2φ) |> plot!"
   ]
  },
  {
   "cell_type": "markdown",
   "metadata": {},
   "source": [
    "To avoid transients on mode changes, we want the initial output of the course angle loop to match the current value of the bank angle setpoint at the roll-yaw SAS input, $\\phi_{sp}$.\n",
    "\n",
    "Whenever $\\chi2\\phi$ is enabled after a mode change, we reset the PID. Then we set the PID integrator's state to the appropriate value to achieve the required $\\phi$. We have:\n",
    "$$ y_{pid} = k_p (\\chi_{sp} - \\chi) + k_i x_{i0} = k_i x_{i0} $$\n",
    "$$ \\phi_{sp} = y_{pid}$$\n",
    "\n",
    "Therefore:\n",
    "$$x_{i0} = y_{pid} / k_i = \\phi_{sp}/k_i = \\phi/k_i$$"
   ]
  }
 ],
 "metadata": {
  "kernelspec": {
   "display_name": "Julia 1.10.0",
   "language": "julia",
   "name": "julia-1.10"
  },
  "language_info": {
   "file_extension": ".jl",
   "mimetype": "application/julia",
   "name": "julia",
   "version": "1.10.0"
  },
  "orig_nbformat": 4
 },
 "nbformat": 4,
 "nbformat_minor": 2
}
