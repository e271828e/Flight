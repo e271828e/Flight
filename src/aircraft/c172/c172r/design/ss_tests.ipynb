{
 "cells": [
  {
   "cell_type": "code",
   "execution_count": 1,
   "metadata": {},
   "outputs": [],
   "source": [
    "using Flight.FlightCore.Systems\n",
    "using Flight.FlightCore.Plotting\n",
    "\n",
    "using Flight.FlightPhysics.Geodesy\n",
    "using Flight.FlightPhysics.Kinematics\n",
    "using Flight.FlightComponents.Aircraft\n",
    "using Flight.FlightComponents.Control\n",
    "using Flight.FlightAircraft.C172R\n",
    "using Flight.FlightAircraft.C172\n",
    "\n",
    "using UnPack\n",
    "using ControlSystems\n",
    "using RobustAndOptimalControl\n",
    "using ComponentArrays\n",
    "using LinearAlgebra"
   ]
  },
  {
   "cell_type": "code",
   "execution_count": 4,
   "metadata": {},
   "outputs": [
    {
     "data": {
      "text/plain": [
       "LinearStateSpace{5, 1, 4, ComponentVector{Float64, Vector{Float64}, Tuple{Axis{(q = 1, v_x = 2, v_z = 3, α_filt = 4, θ = 5)}}}, ComponentVector{Float64, Vector{Float64}, Tuple{Axis{(elevator = 1,)}}}, ComponentVector{Float64, Vector{Float64}, Tuple{Axis{(q = 1, θ = 2, α = 3, EAS = 4)}}}, ComponentMatrix{Float64, Matrix{Float64}, Tuple{Axis{(q = 1, v_x = 2, v_z = 3, α_filt = 4, θ = 5)}, Axis{(q = 1, v_x = 2, v_z = 3, α_filt = 4, θ = 5)}}}, ComponentMatrix{Float64, Matrix{Float64}, Tuple{Axis{(q = 1, v_x = 2, v_z = 3, α_filt = 4, θ = 5)}, Axis{(elevator = 1,)}}}, ComponentMatrix{Float64, Matrix{Float64}, Tuple{Axis{(q = 1, θ = 2, α = 3, EAS = 4)}, Axis{(q = 1, v_x = 2, v_z = 3, α_filt = 4, θ = 5)}}}, ComponentMatrix{Float64, Matrix{Float64}, Tuple{Axis{(q = 1, θ = 2, α = 3, EAS = 4)}, Axis{(elevator = 1,)}}}}((q = -8.525268370775242e-9, v_x = -1.8306764676097415e-6, v_z = -6.12739779654382e-7, α_filt = 0.0, θ = 0.0), (q = -6.626666458540626e-6, v_x = 41.880598801593656, v_z = 3.0240855057883658, α_filt = 0.07208221031078903, θ = 0.07208211794112226), (elevator = 0.0), (q = -6.626666458540626e-6, θ = 0.07208211794112226, α = 0.07208221031078903, EAS = 39.99999999999999), [-4.0938788989315364 0.25031057566678244 … 118.74578120872768 -3.6584495396452255e-6; -0.4766280149231221 -0.2254621771903162 … -74.24918722324715 -9.751795990188938; … ; 0.0 -0.08575902268237254 … -50.0 0.0; 0.9999987141015481 1.5740709684208347e-7 … 0.0 -2.2301240673189465e-14], [9.427519146233827; -6.385995985702365; … ; 0.0; 0.0;;], [1.0 0.0 … 0.0 0.0; 0.0 0.0 … 0.0 1.0; 0.0 -0.0017151804536474507 … 0.0 0.0; 0.0 0.9501422468582992 … 0.0 0.0], [0.0; 0.0; 0.0; 0.0;;], (q = -6.626666458540626e-6, v_x = 41.880598801593656, v_z = 3.0240855057883658, α_filt = 0.07208221031078903, θ = 0.07208211794112226), (q = -6.626666458540626e-6, θ = 0.07208211794112226, α = 0.07208221031078903, EAS = 39.99999999999999), (q = -6.626666458540626e-6, θ = 0.07208211794112226, α = 0.07208221031078903, EAS = 39.99999999999999), (q = -6.626666458540626e-6, v_x = 41.880598801593656, v_z = 3.0240855057883658, α_filt = 0.07208221031078903, θ = 0.07208211794112226), (elevator = 0.0))"
      ]
     },
     "metadata": {},
     "output_type": "display_data"
    }
   ],
   "source": [
    "ac = Cessna172RBase(NED()) |> System #linearization requires NED kinematics\n",
    "\n",
    "#same mass in all cases\n",
    "fwd_cg_pld = C172.PayloadU(m_pilot = 100, m_copilot = 100, m_baggage = 0)\n",
    "aft_cg_pld = C172.PayloadU(m_pilot = 50, m_copilot = 50, m_baggage = 100)\n",
    "mid_cg_pld = C172.PayloadU(m_pilot = 75, m_copilot = 75, m_baggage = 50)\n",
    "\n",
    "design_condition = C172.TrimParameters(\n",
    "    Ob = Geographic(LatLon(), HOrth(1000)),\n",
    "    EAS = 40.0,\n",
    "    γ_wOb_n = 0.0,\n",
    "    x_fuel = 0.5,\n",
    "    flaps = 0.0,\n",
    "    payload = mid_cg_pld)\n",
    "\n",
    "lss_lon = Control.LinearStateSpace(ac, design_condition; model = :lon);\n",
    "\n",
    "# nss_lon = named_ss(lss_lon);\n",
    "# nss_pitch = named_ss(lss_pitch);\n",
    "# lss_pitch.A[:θ, :]"
   ]
  },
  {
   "cell_type": "markdown",
   "metadata": {},
   "source": [
    "Let's start with a SIMO model describing pitch dynamics. We will only consider the elevator as a control input and drop the altitude and engine speed states. For simplicity, we will also drop the filtered AoA state. Although it has a significant effect on the short period mode, it doesn't change the structure of the problem."
   ]
  },
  {
   "cell_type": "code",
   "execution_count": 52,
   "metadata": {},
   "outputs": [
    {
     "name": "stdout",
     "output_type": "stream",
     "text": [
      "|        Pole        |   Damping     |   Frequency   |   Frequency   | Time Constant |\n",
      "|                    |    Ratio      |   (rad/sec)   |     (Hz)      |     (sec)     |\n",
      "+--------------------+---------------+---------------+---------------+---------------+\n",
      "| -0.0436 ±  0.312im |  0.138        |  0.315        |  0.0502       |  23           |\n",
      "| -3.44   ±   12.3im |  0.27         |  12.8         |  2.03         |  0.29         |\n"
     ]
    }
   ],
   "source": [
    "# x_labels_pitch = [:q, :v_x, :v_z, :α_filt, :θ]\n",
    "x_labels_pitch = [:q, :v_x, :v_z, :θ]\n",
    "u_labels_pitch = [:elevator]\n",
    "y_labels_pitch = [:q, :θ, :α, :EAS]\n",
    "lss_pitch = submodel(lss_lon; x = x_labels_pitch, u = u_labels_pitch, y = y_labels_pitch)\n",
    "nss_pitch = named_ss(lss_pitch)\n",
    "dampreport(nss_pitch)"
   ]
  },
  {
   "cell_type": "code",
   "execution_count": 98,
   "metadata": {},
   "outputs": [
    {
     "data": {
      "text/plain": [
       "(iscontrollable = true, ranks = [4, 4, 4, 4], sigma_min = [7.322654941169901, 7.322654941169901, 0.03085565865791449, 0.03085565865791449])"
      ]
     },
     "metadata": {},
     "output_type": "display_data"
    }
   ],
   "source": [
    "controllability(nss_pitch)"
   ]
  },
  {
   "cell_type": "markdown",
   "metadata": {},
   "source": [
    "Following Stengel's notation from section 6.2, here, $n=4$, $m=1$ and:"
   ]
  },
  {
   "cell_type": "code",
   "execution_count": 53,
   "metadata": {},
   "outputs": [
    {
     "data": {
      "text/plain": [
       "4×4 Matrix{Float64}:\n",
       " -4.09388    0.250311    -3.69306     -3.65845e-6\n",
       " -0.476628  -0.225462     2.43869     -9.7518\n",
       " 40.7319    -0.274284    -2.65489     -0.70414\n",
       "  0.999999   1.57407e-7   1.13659e-8  -2.23012e-14"
      ]
     },
     "metadata": {},
     "output_type": "display_data"
    },
    {
     "data": {
      "text/plain": [
       "4×1 Matrix{Float64}:\n",
       "  9.427519146233827\n",
       " -6.385995985702365\n",
       "  3.136085390848322\n",
       "  0.0"
      ]
     },
     "metadata": {},
     "output_type": "display_data"
    }
   ],
   "source": [
    "F = copy(nss_pitch.A)\n",
    "G = copy(nss_pitch.B)\n",
    "display(F)\n",
    "display(G)"
   ]
  },
  {
   "cell_type": "markdown",
   "metadata": {},
   "source": [
    "The last row of F indicates that $\\theta$ is an exact integral of $q$. Were it not for numerical error and curved Earth effects, this row would likely be [1, 0, 0, 0]. So we set:"
   ]
  },
  {
   "cell_type": "code",
   "execution_count": 70,
   "metadata": {},
   "outputs": [
    {
     "data": {
      "text/plain": [
       "4×4 Matrix{Float64}:\n",
       " -4.09388    0.250311  -3.69306  -3.65845e-6\n",
       " -0.476628  -0.225462   2.43869  -9.7518\n",
       " 40.7319    -0.274284  -2.65489  -0.70414\n",
       "  1.0        0.0        0.0       0.0"
      ]
     },
     "metadata": {},
     "output_type": "display_data"
    },
    {
     "data": {
      "text/plain": [
       "4011.831663090734"
      ]
     },
     "metadata": {},
     "output_type": "display_data"
    }
   ],
   "source": [
    "F[end, :] .= [1, 0, 0, 0]\n",
    "display(F)\n",
    "cond(F)"
   ]
  },
  {
   "cell_type": "markdown",
   "metadata": {},
   "source": [
    "We see that $F$ is not particularly ill-conditioned, so there are no invertibility issues. This makes sense. There are no redundant or fully decoupled states."
   ]
  },
  {
   "cell_type": "markdown",
   "metadata": {},
   "source": [
    "Now we need to define the matrix blocks that select the command vector. In this case, the command vector is simply $q$, so:"
   ]
  },
  {
   "cell_type": "code",
   "execution_count": 97,
   "metadata": {},
   "outputs": [
    {
     "data": {
      "text/plain": [
       "1×4 Matrix{Float64}:\n",
       " 1.0  0.0  0.0  0.0"
      ]
     },
     "metadata": {},
     "output_type": "display_data"
    }
   ],
   "source": [
    "H_x = nss_pitch.C[1, :]' |> collect\n",
    "H_u = 0.0\n",
    "display(H_x)"
   ]
  },
  {
   "cell_type": "markdown",
   "metadata": {},
   "source": [
    "With, $F$, $G$, $H_x$ and $H_u$ we construct matrix $A$:"
   ]
  },
  {
   "cell_type": "code",
   "execution_count": 72,
   "metadata": {},
   "outputs": [
    {
     "data": {
      "text/plain": [
       "5×5 Matrix{Float64}:\n",
       " -4.09388    0.250311  -3.69306  -3.65845e-6   9.42752\n",
       " -0.476628  -0.225462   2.43869  -9.7518      -6.386\n",
       " 40.7319    -0.274284  -2.65489  -0.70414      3.13609\n",
       "  1.0        0.0        0.0       0.0          0.0\n",
       "  1.0        0.0        0.0       0.0          0.0"
      ]
     },
     "metadata": {},
     "output_type": "display_data"
    },
    {
     "data": {
      "text/plain": [
       "5.335726251339051e34"
      ]
     },
     "metadata": {},
     "output_type": "display_data"
    }
   ],
   "source": [
    "A = [F G; H_x H_u]\n",
    "display(A)\n",
    "cond(A)"
   ]
  },
  {
   "cell_type": "markdown",
   "metadata": {},
   "source": [
    "As expected, $A$ is singular. Since $F$ is not, this must be because the term $-H_x F^{-1}G + H_u$ is singular. Indeed:"
   ]
  },
  {
   "cell_type": "code",
   "execution_count": 73,
   "metadata": {},
   "outputs": [
    {
     "data": {
      "text/plain": [
       "1×1 Matrix{Float64}:\n",
       " 0.0"
      ]
     },
     "metadata": {},
     "output_type": "display_data"
    }
   ],
   "source": [
    "display(-H_x * inv(F) * G .+ H_u)"
   ]
  },
  {
   "cell_type": "markdown",
   "metadata": {},
   "source": [
    "Thus, we have to work with a quasi-static equilibrium. We partition the state vector in two blocks, one of size $n_1=3$ containing $q$, $v_x$ and $v_y$, and the other of size $n_2=1$, containing $\\theta$. Then:"
   ]
  },
  {
   "cell_type": "code",
   "execution_count": 101,
   "metadata": {},
   "outputs": [
    {
     "data": {
      "text/plain": [
       "3×3 Matrix{Float64}:\n",
       " -4.09388    0.250311  -3.69306\n",
       " -0.476628  -0.225462   2.43869\n",
       " 40.7319    -0.274284  -2.65489"
      ]
     },
     "metadata": {},
     "output_type": "display_data"
    },
    {
     "data": {
      "text/plain": [
       "3×1 Matrix{Float64}:\n",
       " -3.6584495396452255e-6\n",
       " -9.751795990188938\n",
       " -0.7041396945986307"
      ]
     },
     "metadata": {},
     "output_type": "display_data"
    },
    {
     "data": {
      "text/plain": [
       "1×3 Matrix{Float64}:\n",
       " 1.0  0.0  0.0"
      ]
     },
     "metadata": {},
     "output_type": "display_data"
    },
    {
     "data": {
      "text/plain": [
       "1×1 Matrix{Float64}:\n",
       " 0.0"
      ]
     },
     "metadata": {},
     "output_type": "display_data"
    }
   ],
   "source": [
    "n_1 = 3\n",
    "n_2 = 1\n",
    "F_11 = F[1:n_1, 1:n_1]\n",
    "F_12 = F[1:n_1, n_1+1:end]\n",
    "F_21 = F[n_1+1:end, 1:n_1]\n",
    "F_22 = F[n_1+1:end, n_1+1:end]\n",
    "G_1 = G[1:n_1, :]\n",
    "G_2 = G[n_1+1, :]\n",
    "H_x1 = H_x[:, 1:n_1]\n",
    "H_x2 = H_x[:, n_1+1]\n",
    "\n",
    "display(F_11)\n",
    "display(F_12)\n",
    "display(F_21)\n",
    "display(F_22)"
   ]
  },
  {
   "cell_type": "markdown",
   "metadata": {},
   "source": [
    "Now we construct the matrix:"
   ]
  },
  {
   "cell_type": "code",
   "execution_count": 102,
   "metadata": {},
   "outputs": [
    {
     "data": {
      "text/plain": [
       "4×4 Matrix{Float64}:\n",
       "   0.0        0.0       0.0          1.0\n",
       " -17.2416   -24.9138    1.09876   -127.214\n",
       "   4.55512    6.24508  -0.976494    61.3992\n",
       "   2.34824    3.10789  -0.411697    27.864"
      ]
     },
     "metadata": {},
     "output_type": "display_data"
    }
   ],
   "source": [
    "A_red = [F_11 G_1; H_x1 H_u]\n",
    "B = inv(A_red)\n",
    "B_11 = B[1:n_1, 1:n_1]\n",
    "B_12 = B[1:n_1, n_1+1:end]\n",
    "B_21 = B[n_1+1:end, 1:n_1]\n",
    "B_22 = B[n_1+1:end, n_1+1:end]\n",
    "display(B)\n"
   ]
  }
 ],
 "metadata": {
  "kernelspec": {
   "display_name": "Julia 1.9.2",
   "language": "julia",
   "name": "julia-1.9"
  },
  "language_info": {
   "file_extension": ".jl",
   "mimetype": "application/julia",
   "name": "julia",
   "version": "1.9.2"
  }
 },
 "nbformat": 4,
 "nbformat_minor": 2
}
