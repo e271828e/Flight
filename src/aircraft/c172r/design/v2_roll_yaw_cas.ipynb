{
 "cells": [
  {
   "cell_type": "code",
   "execution_count": 1,
   "metadata": {},
   "outputs": [
    {
     "name": "stderr",
     "output_type": "stream",
     "text": [
      "\u001b[91m\u001b[1mERROR: \u001b[22m\u001b[39mLoadError: "
     ]
    },
    {
     "name": "stderr",
     "output_type": "stream",
     "text": [
      "syntax: \"c::PIDDiscrete{1} = PIDDiscrete{1}(k_p = 10, k_i = 25, k_d = 5, τ_d = 0.05)\" inside type definition is reserved around c:\\Users\\Miguel\\.julia\\dev\\Flight\\src\\aircraft\\c172r\\variants\\c172rv2.jl:144\n",
      "Stacktrace:\n",
      "  [1] top-level scope\n",
      "\u001b[90m    @\u001b[39m \u001b[90mc:\\Users\\Miguel\\.julia\\dev\\Flight\\src\\aircraft\\c172r\\variants\\\u001b[39m\u001b[90m\u001b[4mc172rv2.jl:144\u001b[24m\u001b[39m\n",
      "  [2] \u001b[0m\u001b[1minclude\u001b[22m\u001b[0m\u001b[1m(\u001b[22m\u001b[90mmod\u001b[39m::\u001b[0mModule, "
     ]
    },
    {
     "name": "stderr",
     "output_type": "stream",
     "text": [
      "\u001b[90m_path\u001b[39m::\u001b[0mString\u001b[0m\u001b[1m)\u001b[22m\n",
      "\u001b[90m    @\u001b[39m \u001b[90mBase\u001b[39m \u001b[90m.\\\u001b[39m\u001b[90m\u001b[4mBase.jl:457\u001b[24m\u001b[39m\n",
      "  [3] \u001b[0m\u001b[1minclude\u001b[22m\u001b[0m\u001b[1m(\u001b[22m\u001b[90mx\u001b[39m::\u001b[0mString\u001b[0m\u001b[1m)\u001b[22m\n",
      "\u001b[90m    @\u001b[39m \u001b[35mFlight.FlightAircraft.C172R\u001b[39m \u001b[90mc:\\Users\\Miguel\\.julia\\dev\\Flight\\src\\aircraft\\c172r\\\u001b[39m\u001b[90m\u001b[4mc172r.jl:1\u001b[24m\u001b[39m\n",
      "  [4] top-level scope\n",
      "\u001b[90m    @\u001b[39m \u001b[90mc:\\Users\\Miguel\\.julia\\dev\\Flight\\src\\aircraft\\c172r\\\u001b[39m\u001b[90m\u001b[4mc172r.jl:8\u001b[24m\u001b[39m\n",
      "  [5] \u001b[0m\u001b[1minclude\u001b[22m\u001b[0m\u001b[1m(\u001b[22m\u001b[90mmod\u001b[39m::\u001b[0mModule, \u001b[90m_path\u001b[39m::\u001b[0mString\u001b[0m\u001b[1m)\u001b[22m\n",
      "\u001b[90m    @\u001b[39m \u001b[90mBase\u001b[39m \u001b[90m.\\\u001b[39m\u001b[90m\u001b[4mBase.jl:457\u001b[24m\u001b[39m\n",
      "  [6] \u001b[0m\u001b[1minclude\u001b[22m\u001b[0m\u001b[1m(\u001b[22m\u001b[90mx\u001b[39m::\u001b[0mString\u001b[0m\u001b[1m)\u001b[22m\n",
      "\u001b[90m    @\u001b[39m \u001b[35mFlight.FlightAircraft\u001b[39m \u001b[90mc:\\Users\\Miguel\\.julia\\dev\\Flight\\src\\aircraft\\\u001b[39m\u001b[90m\u001b[4mFlightAircraft.jl:1\u001b[24m\u001b[39m\n",
      "  [7] top-level scope\n",
      "\u001b[90m    @\u001b[39m \u001b[90mc:\\Users\\Miguel\\.julia\\dev\\Flight\\src\\aircraft\\\u001b[39m\u001b[90m\u001b[4mFlightAircraft.jl:5\u001b[24m\u001b[39m\n",
      "  [8] \u001b[0m\u001b[1minclude\u001b[22m\u001b[0m\u001b[1m(\u001b[22m\u001b[90mmod\u001b[39m::\u001b[0mModule, \u001b[90m_path\u001b[39m::\u001b[0mString\u001b[0m\u001b[1m)\u001b[22m\n",
      "\u001b[90m    @\u001b[39m \u001b[90mBase\u001b[39m \u001b[90m.\\\u001b[39m\u001b[90m\u001b[4mBase.jl:457\u001b[24m\u001b[39m\n",
      "  [9] \u001b[0m\u001b[1minclude\u001b[22m\u001b[0m\u001b[1m(\u001b[22m\u001b[90mx\u001b[39m::\u001b[0mString\u001b[0m\u001b[1m)\u001b[22m\n",
      "\u001b[90m    @\u001b[39m \u001b[35mFlight\u001b[39m \u001b[90mc:\\Users\\Miguel\\.julia\\dev\\Flight\\src\\\u001b[39m\u001b[90m\u001b[4mFlight.jl:1\u001b[24m\u001b[39m\n",
      " [10] top-level scope\n",
      "\u001b[90m    @\u001b[39m \u001b[90mc:\\Users\\Miguel\\.julia\\dev\\Flight\\src\\\u001b[39m\u001b[90m\u001b[4mFlight.jl:8\u001b[24m\u001b[39m\n",
      " [11] \u001b[0m\u001b[1minclude\u001b[22m\n",
      "\u001b[90m    @\u001b[39m \u001b[90m.\\\u001b[39m\u001b[90m\u001b[4mBase.jl:457\u001b[24m\u001b[39m\u001b[90m [inlined]\u001b[39m\n",
      " [12] \u001b[0m\u001b[1minclude_package_for_output\u001b[22m\u001b[0m\u001b[1m(\u001b[22m\u001b[90mpkg\u001b[39m::\u001b[0mBase.PkgId, \u001b[90minput\u001b[39m::\u001b[0mString, \u001b[90mdepot_path\u001b[39m::\u001b[0mVector\u001b[90m{String}\u001b[39m, \u001b[90mdl_load_path\u001b[39m::\u001b[0mVector\u001b[90m{String}\u001b[39m, \u001b[90mload_path\u001b[39m::\u001b[0mVector\u001b[90m{String}\u001b[39m, \u001b[90mconcrete_deps\u001b[39m::\u001b[0mVector\u001b[90m{Pair{Base.PkgId, UInt128}}\u001b[39m, \u001b[90msource\u001b[39m::\u001b[0mString\u001b[0m\u001b[1m)\u001b[22m\n",
      "\u001b[90m    @\u001b[39m \u001b[90mBase\u001b[39m \u001b[90m.\\\u001b[39m\u001b[90m\u001b[4mloading.jl:2049\u001b[24m\u001b[39m\n",
      " [13] top-level scope\n",
      "\u001b[90m    @\u001b[39m \u001b[90m\u001b[4mstdin:3\u001b[24m\u001b[39m\n",
      "in expression starting at c:\\Users\\Miguel\\.julia\\dev\\Flight\\src\\aircraft\\c172r\\variants\\c172rv2.jl:1\n",
      "in expression starting at c:\\Users\\Miguel\\.julia\\dev\\Flight\\src\\aircraft\\c172r\\c172r.jl:1\n",
      "in expression starting at c:\\Users\\Miguel\\.julia\\dev\\Flight\\src\\aircraft\\FlightAircraft.jl:1\n",
      "in expression starting at c:\\Users\\Miguel\\.julia\\dev\\Flight\\src\\Flight.jl:1\n",
      "in expression starting at stdin:3\n"
     ]
    },
    {
     "ename": "ErrorException",
     "evalue": "Failed to precompile Flight [e329eb8f-69f3-4234-a468-5e3889a58643] to \"C:\\\\Users\\\\Miguel\\\\.julia\\\\compiled\\\\v1.9\\\\Flight\\\\jl_426.tmp\".",
     "output_type": "error",
     "traceback": [
      "Failed to precompile Flight [e329eb8f-69f3-4234-a468-5e3889a58643] to \"C:\\\\Users\\\\Miguel\\\\.julia\\\\compiled\\\\v1.9\\\\Flight\\\\jl_426.tmp\".\n",
      "\n",
      "Stacktrace:\n",
      "  [1] error(s::String)\n",
      "    @ Base .\\error.jl:35\n",
      "  [2] compilecache(pkg::Base.PkgId, path::String, internal_stderr::IO, internal_stdout::IO, keep_loaded_modules::Bool)\n",
      "    @ Base .\\loading.jl:2300\n",
      "  [3] compilecache\n",
      "    @ .\\loading.jl:2167 [inlined]\n",
      "  [4] _require(pkg::Base.PkgId, env::String)\n",
      "    @ Base .\\loading.jl:1805\n",
      "  [5] _require_prelocked(uuidkey::Base.PkgId, env::String)\n",
      "    @ Base .\\loading.jl:1660\n",
      "  [6] macro expansion\n",
      "    @ .\\loading.jl:1648 [inlined]\n",
      "  [7] macro expansion\n",
      "    @ .\\lock.jl:267 [inlined]\n",
      "  [8] require(into::Module, mod::Symbol)\n",
      "    @ Base .\\loading.jl:1611\n",
      "  [9] eval\n",
      "    @ .\\boot.jl:370 [inlined]\n",
      " [10] include_string(mapexpr::typeof(REPL.softscope), mod::Module, code::String, filename::String)\n",
      "    @ Base .\\loading.jl:1903\n",
      " [11] #invokelatest#2\n",
      "    @ .\\essentials.jl:816 [inlined]\n",
      " [12] invokelatest\n",
      "    @ .\\essentials.jl:813 [inlined]\n",
      " [13] (::VSCodeServer.var\"#198#199\"{VSCodeServer.NotebookRunCellArguments, String})()\n",
      "    @ VSCodeServer c:\\Users\\Miguel\\.vscode\\extensions\\julialang.language-julia-1.47.2\\scripts\\packages\\VSCodeServer\\src\\serve_notebook.jl:19\n",
      " [14] withpath(f::VSCodeServer.var\"#198#199\"{VSCodeServer.NotebookRunCellArguments, String}, path::String)\n",
      "    @ VSCodeServer c:\\Users\\Miguel\\.vscode\\extensions\\julialang.language-julia-1.47.2\\scripts\\packages\\VSCodeServer\\src\\repl.jl:249\n",
      " [15] notebook_runcell_request(conn::VSCodeServer.JSONRPC.JSONRPCEndpoint{Base.PipeEndpoint, Base.PipeEndpoint}, params::VSCodeServer.NotebookRunCellArguments)\n",
      "    @ VSCodeServer c:\\Users\\Miguel\\.vscode\\extensions\\julialang.language-julia-1.47.2\\scripts\\packages\\VSCodeServer\\src\\serve_notebook.jl:13\n",
      " [16] dispatch_msg(x::VSCodeServer.JSONRPC.JSONRPCEndpoint{Base.PipeEndpoint, Base.PipeEndpoint}, dispatcher::VSCodeServer.JSONRPC.MsgDispatcher, msg::Dict{String, Any})\n",
      "    @ VSCodeServer.JSONRPC c:\\Users\\Miguel\\.vscode\\extensions\\julialang.language-julia-1.47.2\\scripts\\packages\\JSONRPC\\src\\typed.jl:67\n",
      " [17] serve_notebook(pipename::String, outputchannel_logger::Base.CoreLogging.SimpleLogger; crashreporting_pipename::String)\n",
      "    @ VSCodeServer c:\\Users\\Miguel\\.vscode\\extensions\\julialang.language-julia-1.47.2\\scripts\\packages\\VSCodeServer\\src\\serve_notebook.jl:139\n",
      " [18] top-level scope\n",
      "    @ c:\\Users\\Miguel\\.vscode\\extensions\\julialang.language-julia-1.47.2\\scripts\\notebook\\notebook.jl:32"
     ]
    }
   ],
   "source": [
    "using Flight.FlightCore.Systems\n",
    "using Flight.FlightCore.Plotting\n",
    "\n",
    "using Flight.FlightPhysics.Geodesy\n",
    "using Flight.FlightPhysics.Kinematics\n",
    "\n",
    "using Flight.FlightComponents.Aircraft\n",
    "\n",
    "using Flight.FlightAircraft.C172R\n",
    "\n",
    "using ControlSystems"
   ]
  },
  {
   "cell_type": "code",
   "execution_count": 2,
   "metadata": {},
   "outputs": [
    {
     "ename": "UndefVarError",
     "evalue": "UndefVarError: `NED` not defined",
     "output_type": "error",
     "traceback": [
      "UndefVarError: `NED` not defined\n",
      "\n",
      "Stacktrace:\n",
      " [1] top-level scope\n",
      "   @ c:\\Users\\Miguel\\.julia\\dev\\Flight\\src\\aircraft\\c172r\\design\\v2_roll_yaw_cas.ipynb:1"
     ]
    }
   ],
   "source": [
    "ac = Cessna172Rv0(NED()) |> System #linearization requires NED kinematics\n",
    "ac.u.airframe.pld.m_pilot = 75\n",
    "ac.u.airframe.pld.m_copilot = 75\n",
    "ac.u.airframe.pld.m_lpass = 0\n",
    "ac.u.airframe.pld.m_rpass = 0\n",
    "ac.u.airframe.pld.m_baggage = 0\n",
    "\n",
    "trim_params = C172Rv0.TrimParameters(\n",
    "    loc = LatLon(),\n",
    "    h = HOrth(1000),\n",
    "    ψ_nb = 0.0,\n",
    "    TAS = 40.0,\n",
    "    γ_wOb_n = 0.0,\n",
    "    ψ_lb_dot = 0.00,\n",
    "    θ_lb_dot = 0.0,\n",
    "    β_a = 0.0,\n",
    "    fuel = 1,\n",
    "    mixture = 0.5,\n",
    "    flaps = 0.0)\n",
    "\n",
    "lm = Aircraft.linearize!(ac; trim_params)"
   ]
  },
  {
   "cell_type": "markdown",
   "metadata": {},
   "source": [
    "## Lateral Dynamics"
   ]
  },
  {
   "cell_type": "code",
   "execution_count": 3,
   "metadata": {},
   "outputs": [
    {
     "ename": "UndefVarError",
     "evalue": "UndefVarError: `lm` not defined",
     "output_type": "error",
     "traceback": [
      "UndefVarError: `lm` not defined\n",
      "\n",
      "Stacktrace:\n",
      " [1] top-level scope\n",
      "   @ c:\\Users\\Miguel\\.julia\\dev\\Flight\\src\\aircraft\\c172r\\design\\v2_roll_yaw_cas.ipynb:1"
     ]
    }
   ],
   "source": [
    "lat_dyn = filter(lm;\n",
    "    u = (:aileron, :rudder),\n",
    "    x = (:v_y, :φ, :p, :r, :β_filt),\n",
    "    y = (:p, :r, :φ, :ψ, :β, :f_y))\n",
    "\n",
    "lat_dyn_ss = lat_dyn |> ss\n",
    "lat_dyn_tf = lat_dyn_ss |> tf"
   ]
  },
  {
   "cell_type": "markdown",
   "metadata": {},
   "source": [
    "### Roll Dynamics"
   ]
  },
  {
   "cell_type": "code",
   "execution_count": 4,
   "metadata": {},
   "outputs": [
    {
     "ename": "UndefVarError",
     "evalue": "UndefVarError: `lat_dyn` not defined",
     "output_type": "error",
     "traceback": [
      "UndefVarError: `lat_dyn` not defined\n",
      "\n",
      "Stacktrace:\n",
      " [1] top-level scope\n",
      "   @ c:\\Users\\Miguel\\.julia\\dev\\Flight\\src\\aircraft\\c172r\\design\\v2_roll_yaw_cas.ipynb:1"
     ]
    }
   ],
   "source": [
    "roll_dyn = filter(lat_dyn;\n",
    "    u = (:aileron,),\n",
    "    y = (:p,))\n",
    "\n",
    "roll_dyn_ss = roll_dyn |> ss\n",
    "roll_dyn_tf = roll_dyn_ss |> tf\n",
    "@show zpk(roll_dyn_tf)"
   ]
  },
  {
   "cell_type": "code",
   "execution_count": 5,
   "metadata": {},
   "outputs": [
    {
     "ename": "UndefVarError",
     "evalue": "UndefVarError: `minreal` not defined",
     "output_type": "error",
     "traceback": [
      "UndefVarError: `minreal` not defined\n",
      "\n",
      "Stacktrace:\n",
      " [1] top-level scope\n",
      "   @ c:\\Users\\Miguel\\.julia\\dev\\Flight\\src\\aircraft\\c172r\\design\\v2_roll_yaw_cas.ipynb:10"
     ]
    }
   ],
   "source": [
    "#there is a natural pole-zero near-cancellations. it is in the right half plane,\n",
    "#but its time constant is extremely slow. since they are natural (not achieved\n",
    "#through compensation), we can probably simplify them. they likely represent\n",
    "#nearly uncontrollable states, because the pole is insensitive to feedforward\n",
    "#compensation. this pole-zero pair disappears when v_y is omitted from the\n",
    "#lateral dynamics, so it may represent the intuitive notion that v_y is not\n",
    "#really controllable in a conventional aircraft! it is not mathematical, exact\n",
    "#uncontrollability (which would result in exact pole-zero cancellation), but\n",
    "#practical uncontrollability\n",
    "a2p = minreal(roll_dyn_tf, 1e-2) \n",
    "@show zpk(a2p)\n",
    "\n",
    "#output error transfer function for a unit feedback closed loop\n",
    "err_a2p = 1/(1+a2p)\n",
    "@show zpk(err_a2p)\n",
    "#steady state error of the closed loop system for a unit step input\n",
    "@show err_a2p(0)\n",
    "step(err_a2p, 10) |> plot\n"
   ]
  },
  {
   "cell_type": "code",
   "execution_count": 6,
   "metadata": {},
   "outputs": [
    {
     "ename": "UndefVarError",
     "evalue": "UndefVarError: `tf` not defined",
     "output_type": "error",
     "traceback": [
      "UndefVarError: `tf` not defined\n",
      "\n",
      "Stacktrace:\n",
      " [1] top-level scope\n",
      "   @ c:\\Users\\Miguel\\.julia\\dev\\Flight\\src\\aircraft\\c172r\\design\\v2_roll_yaw_cas.ipynb:6"
     ]
    }
   ],
   "source": [
    "#define a PID compensator\n",
    "k_p = 0.5\n",
    "k_i = 10\n",
    "k_d = 0.05\n",
    "τ_d = 0.05\n",
    "p_cmp = k_p + k_i * tf(1, [1,0]) + k_d * tf([1, 0], [τ_d, 1])\n",
    "    \n",
    "c_a2p = series(p_cmp, a2p)\n",
    "err_c_a2p = 1/(1+c_a2p)\n",
    "@show zpk(err_c_a2p);\n",
    "marginplot(c_a2p)\n",
    "# nyquistplot(c_a2p)"
   ]
  },
  {
   "cell_type": "code",
   "execution_count": 7,
   "metadata": {},
   "outputs": [
    {
     "ename": "UndefVarError",
     "evalue": "UndefVarError: `err_c_a2p` not defined",
     "output_type": "error",
     "traceback": [
      "UndefVarError: `err_c_a2p` not defined\n",
      "\n",
      "Stacktrace:\n",
      " [1] top-level scope\n",
      "   @ c:\\Users\\Miguel\\.julia\\dev\\Flight\\src\\aircraft\\c172r\\design\\v2_roll_yaw_cas.ipynb:1"
     ]
    }
   ],
   "source": [
    "step(err_c_a2p, 10) |> plot"
   ]
  },
  {
   "cell_type": "markdown",
   "metadata": {},
   "source": [
    "Let's check the response we get from the full plant, without the zero-pole simplification"
   ]
  },
  {
   "cell_type": "code",
   "execution_count": 8,
   "metadata": {},
   "outputs": [
    {
     "ename": "UndefVarError",
     "evalue": "UndefVarError: `series` not defined",
     "output_type": "error",
     "traceback": [
      "UndefVarError: `series` not defined\n",
      "\n",
      "Stacktrace:\n",
      " [1] top-level scope\n",
      "   @ c:\\Users\\Miguel\\.julia\\dev\\Flight\\src\\aircraft\\c172r\\design\\v2_roll_yaw_cas.ipynb:1"
     ]
    }
   ],
   "source": [
    "c_roll_dyn = series(p_cmp, roll_dyn_tf)\n",
    "\n",
    "err_c_roll_dyn = 1/(1+c_roll_dyn)\n",
    "@show zpk(err_c_roll_dyn)\n",
    "# @show err_c_yaw_dyn(0)\n",
    "\n",
    "# marginplot(c_yaw_dyn)"
   ]
  },
  {
   "cell_type": "code",
   "execution_count": 9,
   "metadata": {},
   "outputs": [
    {
     "ename": "UndefVarError",
     "evalue": "UndefVarError: `err_c_roll_dyn` not defined",
     "output_type": "error",
     "traceback": [
      "UndefVarError: `err_c_roll_dyn` not defined\n",
      "\n",
      "Stacktrace:\n",
      " [1] top-level scope\n",
      "   @ c:\\Users\\Miguel\\.julia\\dev\\Flight\\src\\aircraft\\c172r\\design\\v2_roll_yaw_cas.ipynb:1"
     ]
    }
   ],
   "source": [
    "step(err_c_roll_dyn, 10) |> plot"
   ]
  },
  {
   "cell_type": "markdown",
   "metadata": {},
   "source": [
    "Now we have a SISO compensator design for p, let's use it to close the loop in the MIMO plant and make sure we get the expected response. The lat_dyn MIMO system has two inputs, aileron input u_a and rudder input u_r. Our SISO compensator receives p_err as an input and outputs u_a. So the MIMO version of our SISO compensator, which will be placed upstream of the MIMO plant, must receive p_err and u_r as inputs and output u_a and u_r. Therefore, it must apply the SISO compensator to p_err to obtain u_a and let u_r pass through unchanged to the plant by applying an unit gain to it. This is achieved as follows:"
   ]
  },
  {
   "cell_type": "code",
   "execution_count": 10,
   "metadata": {},
   "outputs": [
    {
     "ename": "UndefVarError",
     "evalue": "UndefVarError: `p_cmp` not defined",
     "output_type": "error",
     "traceback": [
      "UndefVarError: `p_cmp` not defined\n",
      "\n",
      "Stacktrace:\n",
      " [1] top-level scope\n",
      "   @ c:\\Users\\Miguel\\.julia\\dev\\Flight\\src\\aircraft\\c172r\\design\\v2_roll_yaw_cas.ipynb:3"
     ]
    }
   ],
   "source": [
    "#create a diagonal MIMO system from the roll rate compensator and a unit\n",
    "#transfer function\n",
    "p_cmp_MIMO = append(p_cmp, tf(1)) |> ss #and convert to ss before concatenation"
   ]
  },
  {
   "cell_type": "code",
   "execution_count": 11,
   "metadata": {},
   "outputs": [
    {
     "ename": "UndefVarError",
     "evalue": "UndefVarError: `series` not defined",
     "output_type": "error",
     "traceback": [
      "UndefVarError: `series` not defined\n",
      "\n",
      "Stacktrace:\n",
      " [1] top-level scope\n",
      "   @ c:\\Users\\Miguel\\.julia\\dev\\Flight\\src\\aircraft\\c172r\\design\\v2_roll_yaw_cas.ipynb:1"
     ]
    }
   ],
   "source": [
    "p_cmp_lat_dyn = series(p_cmp_MIMO, lat_dyn_ss) #equivalent to long_dyn_ss * q_comp_MIMO (in the product notation, the second system goes first)"
   ]
  },
  {
   "cell_type": "markdown",
   "metadata": {},
   "source": [
    "The setpoint vector to be applied to the complete closed-loop MIMO system is r = [p_cmd, u_r]. The input to the MIMO compensator must be e = [p_err, u_r] = r - f = [p_cmd, u_r] - [p, 0]. So the feedback vector we need is f = [p, 0]. To construct this from the 6-output vector of lat_dyn, we need a matrix gain that premultiplies this output vector and produces a 2-component vector [p, 0]. This will be a 2x6 matrix with all entries set to zero except [1, 1] (the nonzero output p goes in the first component, and p is the first element in lat_dyn's output vector)"
   ]
  },
  {
   "cell_type": "code",
   "execution_count": 12,
   "metadata": {},
   "outputs": [
    {
     "ename": "UndefVarError",
     "evalue": "UndefVarError: `ss` not defined",
     "output_type": "error",
     "traceback": [
      "UndefVarError: `ss` not defined\n",
      "\n",
      "Stacktrace:\n",
      " [1] top-level scope\n",
      "   @ c:\\Users\\Miguel\\.julia\\dev\\Flight\\src\\aircraft\\c172r\\design\\v2_roll_yaw_cas.ipynb:3"
     ]
    }
   ],
   "source": [
    "K_p = zeros(2, 6)\n",
    "K_p[1,1] = 1\n",
    "K_p_ss = ss(K_p) #creates a ss with no dynamics and K_select as feedthrough\n",
    "\n",
    "#now create a feedback loop with K in the feedback path\n",
    "p_cmp_lat_dyn_cl = feedback(p_cmp_lat_dyn, K_p_ss)\n",
    "\n",
    "#now extract the resulting closed-loop roll demand to roll rate transfer function \n",
    "p_cl_MIMO = (p_cmp_lat_dyn_cl |> tf)[1,1]\n",
    "\n",
    "#make sure the zpk data matches that of the SISO closed loop TF\n",
    "@show zpk(p_cl_MIMO)\n",
    "\n",
    "#check step response\n",
    "step(p_cl_MIMO, 10) |> plot\n"
   ]
  },
  {
   "cell_type": "markdown",
   "metadata": {},
   "source": [
    "### Turn Coordination"
   ]
  },
  {
   "cell_type": "markdown",
   "metadata": {},
   "source": [
    "First we focus on turn coordination. the plan is to design a SISO turn coordinator, ignoring the roll - yaw coupling for the moment. the result will be a SISO compensator with β_err as input and u_r as output. we embed it in a MIMO compensator that applies the SISO compensator to β_err and lets u_a pass through unchanged, and connect it upstream of the lateral dynamics plant. the result is then a plant with β_dmd and u_a as inputs.\n",
    "\n",
    "From this updated plant, in a second step, we design a SISO roll rate controller with p_err as input and u_a as output. we embed it in a MIMO compensator that has p_err and β_dmd as inputs and u_a and β_dmd as outputs. of course, since roll and yaw are coupled, adding this second controller will alter the β to u_r response that resulted from the previous design, so we will have to check whether it is still satisfactory. if not, further iterations might be required.\n",
    "\n",
    "Once the sequential design is done, we can encapsulate both SISO controllers in a single MIMO controller with a decoupled internal structure.\n",
    "\n",
    "Maybe start with roll control. Because it looks like we can't deal with the unstable pole with a rudder input"
   ]
  },
  {
   "cell_type": "code",
   "execution_count": 13,
   "metadata": {},
   "outputs": [
    {
     "ename": "UndefVarError",
     "evalue": "UndefVarError: `lat_dyn` not defined",
     "output_type": "error",
     "traceback": [
      "UndefVarError: `lat_dyn` not defined\n",
      "\n",
      "Stacktrace:\n",
      " [1] top-level scope\n",
      "   @ c:\\Users\\Miguel\\.julia\\dev\\Flight\\src\\aircraft\\c172r\\design\\v2_roll_yaw_cas.ipynb:1"
     ]
    }
   ],
   "source": [
    "yaw_dyn = filter(lat_dyn;\n",
    "    u = (:rudder,),\n",
    "    y = (:β,))\n",
    "\n",
    "yaw_dyn_ss = yaw_dyn |> ss\n",
    "yaw_dyn_tf = yaw_dyn_ss |> tf\n",
    "@show zpk(yaw_dyn_tf)"
   ]
  },
  {
   "cell_type": "code",
   "execution_count": 14,
   "metadata": {},
   "outputs": [
    {
     "ename": "UndefVarError",
     "evalue": "UndefVarError: `minreal` not defined",
     "output_type": "error",
     "traceback": [
      "UndefVarError: `minreal` not defined\n",
      "\n",
      "Stacktrace:\n",
      " [1] top-level scope\n",
      "   @ c:\\Users\\Miguel\\.julia\\dev\\Flight\\src\\aircraft\\c172r\\design\\v2_roll_yaw_cas.ipynb:2"
     ]
    }
   ],
   "source": [
    "#get rid of natural zero-pole near-cancellation\n",
    "r2β = minreal(yaw_dyn_tf, 1e-1)\n",
    "@show zpk(r2β)\n",
    "\n",
    "#the first thing we notice is that the DC gain is negative. this makes sense,\n",
    "#given that we have: act.rudder↑ -> aero.r↓ -> yaw↑ -> β↓. therefore, the first\n",
    "#thing we need in the forward path is a sign change.\n",
    "c1 = tf(-1)\n",
    "c1_r2β = series(c1, r2β)\n",
    "@show zpk(c1_r2β)\n",
    "\n",
    "#output error transfer function for a unit feedback closed loop\n",
    "err_c1_r2β = 1/(1+c1_r2β)\n",
    "# @show zpk(err_c1_r2β)\n",
    "@show err_c1_r2β(0)\n",
    "step(err_c1_r2β, 10) |> plot\n",
    "#this is type 0 system, so we will need an integrator in the feedforward path\n"
   ]
  },
  {
   "cell_type": "code",
   "execution_count": 15,
   "metadata": {},
   "outputs": [
    {
     "ename": "UndefVarError",
     "evalue": "UndefVarError: `tf` not defined",
     "output_type": "error",
     "traceback": [
      "UndefVarError: `tf` not defined\n",
      "\n",
      "Stacktrace:\n",
      " [1] top-level scope\n",
      "   @ c:\\Users\\Miguel\\.julia\\dev\\Flight\\src\\aircraft\\c172r\\design\\v2_roll_yaw_cas.ipynb:6"
     ]
    }
   ],
   "source": [
    "#define a PID\n",
    "k_p = 10\n",
    "k_i = 25\n",
    "k_d = 5\n",
    "τ_d = 0.05\n",
    "c2 = k_p + k_i * tf(1, [1,0]) + k_d * tf([1, 0], [τ_d, 1])\n",
    "\n",
    "#the compensator is the PID chained with the sign inversion\n",
    "β_cmp = series(c1, c2)\n",
    "    \n",
    "c_r2β = series(β_cmp, r2β)\n",
    "\n",
    "err_c_r2β = 1/(1+c_r2β)\n",
    "# @show zpk(err_c2_c1_r2β)\n",
    "@show err_c_r2β(0)\n",
    "\n",
    "marginplot(c_r2β)"
   ]
  },
  {
   "cell_type": "code",
   "execution_count": 16,
   "metadata": {},
   "outputs": [
    {
     "ename": "UndefVarError",
     "evalue": "UndefVarError: `err_c_r2β` not defined",
     "output_type": "error",
     "traceback": [
      "UndefVarError: `err_c_r2β` not defined\n",
      "\n",
      "Stacktrace:\n",
      " [1] top-level scope\n",
      "   @ c:\\Users\\Miguel\\.julia\\dev\\Flight\\src\\aircraft\\c172r\\design\\v2_roll_yaw_cas.ipynb:1"
     ]
    }
   ],
   "source": [
    "step(err_c_r2β, 10) |> plot"
   ]
  },
  {
   "cell_type": "markdown",
   "metadata": {},
   "source": [
    "Let's check the response we get from the full plant, without the zero-pole simplification"
   ]
  },
  {
   "cell_type": "code",
   "execution_count": 17,
   "metadata": {},
   "outputs": [
    {
     "ename": "UndefVarError",
     "evalue": "UndefVarError: `series` not defined",
     "output_type": "error",
     "traceback": [
      "UndefVarError: `series` not defined\n",
      "\n",
      "Stacktrace:\n",
      " [1] top-level scope\n",
      "   @ c:\\Users\\Miguel\\.julia\\dev\\Flight\\src\\aircraft\\c172r\\design\\v2_roll_yaw_cas.ipynb:1"
     ]
    }
   ],
   "source": [
    "c_yaw_dyn = series(β_cmp, yaw_dyn_tf)\n",
    "\n",
    "err_c_yaw_dyn = 1/(1+c_yaw_dyn)\n",
    "@show zpk(err_c_yaw_dyn)\n",
    "# @show err_c_yaw_dyn(0)\n",
    "\n",
    "# marginplot(c_yaw_dyn)"
   ]
  },
  {
   "cell_type": "code",
   "execution_count": 18,
   "metadata": {},
   "outputs": [
    {
     "ename": "UndefVarError",
     "evalue": "UndefVarError: `err_c_yaw_dyn` not defined",
     "output_type": "error",
     "traceback": [
      "UndefVarError: `err_c_yaw_dyn` not defined\n",
      "\n",
      "Stacktrace:\n",
      " [1] top-level scope\n",
      "   @ c:\\Users\\Miguel\\.julia\\dev\\Flight\\src\\aircraft\\c172r\\design\\v2_roll_yaw_cas.ipynb:1"
     ]
    }
   ],
   "source": [
    "step(err_c_yaw_dyn, 10) |> plot"
   ]
  },
  {
   "cell_type": "markdown",
   "metadata": {},
   "source": [
    "As expected, it is quite similar, except for a slowly creeping divergence due to the slow unstable pole, which we haven't dealt with and is less exactly cancelled than in the roll dynamics."
   ]
  },
  {
   "cell_type": "markdown",
   "metadata": {},
   "source": [
    "Now we have a SISO compensator design for $\\beta$, let's use it to close the loop in the MIMO plant and make sure we get the expected response. The lat_dyn MIMO system has two inputs, aileron input u_a and rudder input u_r. Our SISO compensator receives $e_{\\beta}$ as an input and outputs u_r. So the MIMO version of our SISO compensator, which will be placed upstream of the MIMO plant, must receive u_a and beta_err as inputs and output u_a and u_r. Therefore, it must let u_a pass through unchanged to the plant by applying an unit gain to it, and apply the SISO compensator to beta_err to obtain u_r. This is achieved as follows:"
   ]
  },
  {
   "cell_type": "code",
   "execution_count": 19,
   "metadata": {},
   "outputs": [
    {
     "ename": "UndefVarError",
     "evalue": "UndefVarError: `tf` not defined",
     "output_type": "error",
     "traceback": [
      "UndefVarError: `tf` not defined\n",
      "\n",
      "Stacktrace:\n",
      " [1] top-level scope\n",
      "   @ c:\\Users\\Miguel\\.julia\\dev\\Flight\\src\\aircraft\\c172r\\design\\v2_roll_yaw_cas.ipynb:2"
     ]
    }
   ],
   "source": [
    "#create a diagonal MIMO system from a unit TF and the beta compensator\n",
    "β_cmp_MIMO = append(tf(1), β_cmp) |> ss #and convert to ss before concatenation"
   ]
  },
  {
   "cell_type": "code",
   "execution_count": 20,
   "metadata": {},
   "outputs": [
    {
     "ename": "UndefVarError",
     "evalue": "UndefVarError: `series` not defined",
     "output_type": "error",
     "traceback": [
      "UndefVarError: `series` not defined\n",
      "\n",
      "Stacktrace:\n",
      " [1] top-level scope\n",
      "   @ c:\\Users\\Miguel\\.julia\\dev\\Flight\\src\\aircraft\\c172r\\design\\v2_roll_yaw_cas.ipynb:1"
     ]
    }
   ],
   "source": [
    "β_cmp_lat_dyn = series(β_cmp_MIMO, lat_dyn_ss) #equivalent to long_dyn_ss * q_comp_MIMO (in the product notation, the second system goes first)"
   ]
  },
  {
   "cell_type": "markdown",
   "metadata": {},
   "source": [
    "The setpoint vector to be applied to the complete closed-loop MIMO system is r = [u_a, beta_cmd]. The input to the MIMO compensator must be e = [u_a, beta_err] = r - f = [u_a, beta_cmd] - [0, beta]. So the feedback vector we need is f = [0, beta]. To construct this from the 6-output vector of lat_dyn, we need a matrix gain that premultiplies this output vector and produces a 2-component vector [0, beta]. This will be a 2x6 matrix with all entries set to zero except [2, 5] (the nonzero output beta goes in the second output component, and beta is the 5th element in lat_dyn's output vector)"
   ]
  },
  {
   "cell_type": "code",
   "execution_count": 21,
   "metadata": {},
   "outputs": [
    {
     "ename": "UndefVarError",
     "evalue": "UndefVarError: `ss` not defined",
     "output_type": "error",
     "traceback": [
      "UndefVarError: `ss` not defined\n",
      "\n",
      "Stacktrace:\n",
      " [1] top-level scope\n",
      "   @ c:\\Users\\Miguel\\.julia\\dev\\Flight\\src\\aircraft\\c172r\\design\\v2_roll_yaw_cas.ipynb:3"
     ]
    }
   ],
   "source": [
    "K_β = zeros(2, 6)\n",
    "K_β[2,5] = 1\n",
    "K_β_ss = ss(K_β) #creates a ss with no dynamics and K_select as feedthrough\n",
    "\n",
    "#now create a feedback loop with K in the feedback path\n",
    "β_cmp_lat_dyn_cl = feedback(β_cmp_lat_dyn, K_β_ss)\n",
    "\n",
    "#now extract the resulting closed-loop beta demand to beta transfer function \n",
    "β_cl_MIMO = (β_cmp_lat_dyn_cl |> tf)[5,2]\n",
    "\n",
    "#make sure the zpk data matches that of the SISO closed loop TF\n",
    "@show zpk(β_cl_MIMO)\n",
    "\n",
    "#check step response\n",
    "step(β_cl_MIMO, 10) |> plot\n"
   ]
  },
  {
   "cell_type": "markdown",
   "metadata": {},
   "source": [
    "### Roll control and turn coordination"
   ]
  },
  {
   "cell_type": "code",
   "execution_count": 22,
   "metadata": {},
   "outputs": [
    {
     "ename": "UndefVarError",
     "evalue": "UndefVarError: `append` not defined",
     "output_type": "error",
     "traceback": [
      "UndefVarError: `append` not defined\n",
      "\n",
      "Stacktrace:\n",
      " [1] top-level scope\n",
      "   @ c:\\Users\\Miguel\\.julia\\dev\\Flight\\src\\aircraft\\c172r\\design\\v2_roll_yaw_cas.ipynb:2"
     ]
    }
   ],
   "source": [
    "#create a diagonal MIMO system from both compensators\n",
    "pβ_cmp_MIMO = append(p_cmp, β_cmp) |> ss #and convert to ss before concatenation"
   ]
  },
  {
   "cell_type": "code",
   "execution_count": 23,
   "metadata": {},
   "outputs": [
    {
     "ename": "UndefVarError",
     "evalue": "UndefVarError: `series` not defined",
     "output_type": "error",
     "traceback": [
      "UndefVarError: `series` not defined\n",
      "\n",
      "Stacktrace:\n",
      " [1] top-level scope\n",
      "   @ c:\\Users\\Miguel\\.julia\\dev\\Flight\\src\\aircraft\\c172r\\design\\v2_roll_yaw_cas.ipynb:1"
     ]
    }
   ],
   "source": [
    "pβ_cmp_lat_dyn = series(pβ_cmp_MIMO, lat_dyn_ss) #equivalent to long_dyn_ss * q_comp_MIMO (in the product notation, the second system goes first)"
   ]
  },
  {
   "cell_type": "code",
   "execution_count": 24,
   "metadata": {},
   "outputs": [
    {
     "ename": "UndefVarError",
     "evalue": "UndefVarError: `ss` not defined",
     "output_type": "error",
     "traceback": [
      "UndefVarError: `ss` not defined\n",
      "\n",
      "Stacktrace:\n",
      " [1] top-level scope\n",
      "   @ c:\\Users\\Miguel\\.julia\\dev\\Flight\\src\\aircraft\\c172r\\design\\v2_roll_yaw_cas.ipynb:4"
     ]
    }
   ],
   "source": [
    "K_pβ = zeros(2, 6)\n",
    "K_pβ[1,1] = 1\n",
    "K_pβ[2,5] = 1\n",
    "K_pβ_ss = ss(K_pβ) #creates a ss with no dynamics and K_select as feedthrough\n",
    "\n",
    "#now create a feedback loop with K in the feedback path\n",
    "pβ_cmp_lat_dyn_cl = feedback(pβ_cmp_lat_dyn, K_pβ_ss)\n",
    "\n",
    "#now extract the resulting closed-loop SISO transfer functions\n",
    "p_cl_MIMO = (pβ_cmp_lat_dyn_cl |> tf)[1,1] #input 1 to output 1\n",
    "β_cl_MIMO = (pβ_cmp_lat_dyn_cl |> tf)[5,2] #input 2 to output 5\n",
    "\n",
    "#make sure the zpk data matches that of the SISO closed loop TF\n",
    "@show zpk(p_cl_MIMO)\n",
    "@show zpk(β_cl_MIMO)"
   ]
  },
  {
   "cell_type": "markdown",
   "metadata": {},
   "source": [
    "From the closed loop transfer functions, we see that with both controllers are implemented and operating in parallel as a MIMO compensator, the slow unstable pole is nearly perfectly cancelled in the full lateral dynamics!"
   ]
  },
  {
   "cell_type": "code",
   "execution_count": 25,
   "metadata": {},
   "outputs": [
    {
     "ename": "UndefVarError",
     "evalue": "UndefVarError: `p_cl_MIMO` not defined",
     "output_type": "error",
     "traceback": [
      "UndefVarError: `p_cl_MIMO` not defined\n",
      "\n",
      "Stacktrace:\n",
      " [1] top-level scope\n",
      "   @ c:\\Users\\Miguel\\.julia\\dev\\Flight\\src\\aircraft\\c172r\\design\\v2_roll_yaw_cas.ipynb:2"
     ]
    }
   ],
   "source": [
    "#check roll rate demand step response\n",
    "step(p_cl_MIMO, 10) |> plot"
   ]
  },
  {
   "cell_type": "code",
   "execution_count": 26,
   "metadata": {},
   "outputs": [
    {
     "ename": "UndefVarError",
     "evalue": "UndefVarError: `β_cl_MIMO` not defined",
     "output_type": "error",
     "traceback": [
      "UndefVarError: `β_cl_MIMO` not defined\n",
      "\n",
      "Stacktrace:\n",
      " [1] top-level scope\n",
      "   @ c:\\Users\\Miguel\\.julia\\dev\\Flight\\src\\aircraft\\c172r\\design\\v2_roll_yaw_cas.ipynb:2"
     ]
    }
   ],
   "source": [
    "#check β demand step response\n",
    "step(β_cl_MIMO, 10) |> plot"
   ]
  }
 ],
 "metadata": {
  "kernelspec": {
   "display_name": "Julia 1.9.2",
   "language": "julia",
   "name": "julia-1.9"
  },
  "language_info": {
   "file_extension": ".jl",
   "mimetype": "application/julia",
   "name": "julia",
   "version": "1.9.2"
  },
  "orig_nbformat": 4
 },
 "nbformat": 4,
 "nbformat_minor": 2
}
