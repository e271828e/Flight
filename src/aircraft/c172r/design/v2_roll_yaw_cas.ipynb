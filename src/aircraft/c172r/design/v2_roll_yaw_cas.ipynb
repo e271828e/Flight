{
 "cells": [
  {
   "cell_type": "code",
   "execution_count": 1,
   "metadata": {},
   "outputs": [],
   "source": [
    "using Flight.FlightCore.Systems\n",
    "using Flight.FlightCore.Plotting\n",
    "\n",
    "using Flight.FlightPhysics.Geodesy\n",
    "using Flight.FlightPhysics.Kinematics\n",
    "\n",
    "using Flight.FlightComponents.Aircraft\n",
    "\n",
    "using Flight.FlightAircraft.C172R\n",
    "\n",
    "using ControlSystems"
   ]
  },
  {
   "cell_type": "code",
   "execution_count": 2,
   "metadata": {},
   "outputs": [
    {
     "ename": "ErrorException",
     "evalue": "type Nothing has no field airframe",
     "output_type": "error",
     "traceback": [
      "type Nothing has no field airframe\n",
      "\n",
      "Stacktrace:\n",
      " [1] getproperty(x::Nothing, f::Symbol)\n",
      "   @ Base .\\Base.jl:37\n",
      " [2] top-level scope\n",
      "   @ c:\\Users\\Miguel\\.julia\\dev\\Flight\\src\\aircraft\\c172r\\design\\v2_roll_yaw_cas.ipynb:2"
     ]
    }
   ],
   "source": [
    "ac = Cessna172Rv0(NED()) |> System #linearization requires NED kinematics\n",
    "ac.airframe.pld.u.m_pilot = 75\n",
    "ac.airframe.pld.u.m_copilot = 75\n",
    "ac.airframe.pld.u.m_lpass = 0\n",
    "ac.airframe.pld.u.m_rpass = 0\n",
    "ac.airframe.pld.u.m_baggage = 0\n",
    "\n",
    "trim_params = C172Rv0.TrimParameters(\n",
    "    loc = LatLon(),\n",
    "    h = HOrth(1000),\n",
    "    ψ_nb = 0.0,\n",
    "    TAS = 40.0,\n",
    "    γ_wOb_n = 0.0,\n",
    "    ψ_lb_dot = 0.00,\n",
    "    θ_lb_dot = 0.0,\n",
    "    β_a = 0.0,\n",
    "    fuel = 1,\n",
    "    mixture = 0.5,\n",
    "    flaps = 0.0)\n",
    "\n",
    "lm = Aircraft.linearize!(ac; trim_params)"
   ]
  },
  {
   "cell_type": "markdown",
   "metadata": {},
   "source": [
    "## Lateral Dynamics"
   ]
  },
  {
   "cell_type": "code",
   "execution_count": 3,
   "metadata": {},
   "outputs": [
    {
     "ename": "UndefVarError",
     "evalue": "UndefVarError: `lm` not defined",
     "output_type": "error",
     "traceback": [
      "UndefVarError: `lm` not defined\n",
      "\n",
      "Stacktrace:\n",
      " [1] top-level scope\n",
      "   @ c:\\Users\\Miguel\\.julia\\dev\\Flight\\src\\aircraft\\c172r\\design\\v2_roll_yaw_cas.ipynb:1"
     ]
    }
   ],
   "source": [
    "lat_dyn = filter(lm;\n",
    "    u = (:aileron, :rudder),\n",
    "    x = (:v_y, :φ, :p, :r, :β_filt),\n",
    "    y = (:p, :r, :φ, :ψ, :β, :f_y))\n",
    "\n",
    "lat_dyn_ss = lat_dyn |> ss\n",
    "lat_dyn_tf = lat_dyn_ss |> tf"
   ]
  },
  {
   "cell_type": "markdown",
   "metadata": {},
   "source": [
    "### Roll Dynamics"
   ]
  },
  {
   "cell_type": "code",
   "execution_count": 4,
   "metadata": {},
   "outputs": [
    {
     "ename": "UndefVarError",
     "evalue": "UndefVarError: `lat_dyn` not defined",
     "output_type": "error",
     "traceback": [
      "UndefVarError: `lat_dyn` not defined\n",
      "\n",
      "Stacktrace:\n",
      " [1] top-level scope\n",
      "   @ c:\\Users\\Miguel\\.julia\\dev\\Flight\\src\\aircraft\\c172r\\design\\v2_roll_yaw_cas.ipynb:1"
     ]
    }
   ],
   "source": [
    "roll_dyn = filter(lat_dyn;\n",
    "    u = (:aileron,),\n",
    "    y = (:p,))\n",
    "\n",
    "roll_dyn_ss = roll_dyn |> ss\n",
    "roll_dyn_tf = roll_dyn_ss |> tf\n",
    "@show zpk(roll_dyn_tf)"
   ]
  },
  {
   "cell_type": "code",
   "execution_count": 5,
   "metadata": {},
   "outputs": [
    {
     "ename": "UndefVarError",
     "evalue": "UndefVarError: `roll_dyn_tf` not defined",
     "output_type": "error",
     "traceback": [
      "UndefVarError: `roll_dyn_tf` not defined\n",
      "\n",
      "Stacktrace:\n",
      " [1] top-level scope\n",
      "   @ c:\\Users\\Miguel\\.julia\\dev\\Flight\\src\\aircraft\\c172r\\design\\v2_roll_yaw_cas.ipynb:10"
     ]
    }
   ],
   "source": [
    "#there is a natural pole-zero near-cancellations. it is in the right half plane,\n",
    "#but its time constant is extremely slow. since they are natural (not achieved\n",
    "#through compensation), we can probably simplify them. they likely represent\n",
    "#nearly uncontrollable states, because the pole is insensitive to feedforward\n",
    "#compensation. this pole-zero pair disappears when v_y is omitted from the\n",
    "#lateral dynamics, so it may represent the intuitive notion that v_y is not\n",
    "#really controllable in a conventional aircraft! it is not mathematical, exact\n",
    "#uncontrollability (which would result in exact pole-zero cancellation), but\n",
    "#practical uncontrollability\n",
    "a2p = minreal(roll_dyn_tf, 1e-2) \n",
    "@show zpk(a2p)\n",
    "\n",
    "#output error transfer function for a unit feedback closed loop\n",
    "err_a2p = 1/(1+a2p)\n",
    "#ensure there are no unstable poles in the closed loop system so we can apply the final value theorem\n",
    "@show poles(err_a2p)\n",
    "\n",
    "#steady state error of the closed loop system for a unit step input\n",
    "@show err_a2p(0)\n",
    "step(err_a2p, 10) |> plot\n"
   ]
  },
  {
   "cell_type": "code",
   "execution_count": 6,
   "metadata": {},
   "outputs": [
    {
     "ename": "UndefVarError",
     "evalue": "UndefVarError: `a2p` not defined",
     "output_type": "error",
     "traceback": [
      "UndefVarError: `a2p` not defined\n",
      "\n",
      "Stacktrace:\n",
      " [1] top-level scope\n",
      "   @ c:\\Users\\Miguel\\.julia\\dev\\Flight\\src\\aircraft\\c172r\\design\\v2_roll_yaw_cas.ipynb:8"
     ]
    }
   ],
   "source": [
    "#define a PID compensator\n",
    "k_p = 0.5\n",
    "k_i = 10\n",
    "k_d = 0.05\n",
    "τ_d = 0.05\n",
    "p_cmp = k_p + k_i * tf(1, [1,0]) + k_d * tf([1, 0], [τ_d, 1])\n",
    "    \n",
    "c_a2p = series(p_cmp, a2p)\n",
    "err_c_a2p = 1/(1+c_a2p)\n",
    "@show zpk(err_c_a2p);\n",
    "marginplot(c_a2p)\n",
    "# nyquistplot(c_a2p)"
   ]
  },
  {
   "cell_type": "code",
   "execution_count": 7,
   "metadata": {},
   "outputs": [
    {
     "ename": "UndefVarError",
     "evalue": "UndefVarError: `err_c_a2p` not defined",
     "output_type": "error",
     "traceback": [
      "UndefVarError: `err_c_a2p` not defined\n",
      "\n",
      "Stacktrace:\n",
      " [1] top-level scope\n",
      "   @ c:\\Users\\Miguel\\.julia\\dev\\Flight\\src\\aircraft\\c172r\\design\\v2_roll_yaw_cas.ipynb:1"
     ]
    }
   ],
   "source": [
    "step(err_c_a2p, 10) |> plot"
   ]
  },
  {
   "cell_type": "markdown",
   "metadata": {},
   "source": [
    "Let's check the response we get from the full plant, without the zero-pole simplification"
   ]
  },
  {
   "cell_type": "code",
   "execution_count": 8,
   "metadata": {},
   "outputs": [
    {
     "ename": "UndefVarError",
     "evalue": "UndefVarError: `roll_dyn_tf` not defined",
     "output_type": "error",
     "traceback": [
      "UndefVarError: `roll_dyn_tf` not defined\n",
      "\n",
      "Stacktrace:\n",
      " [1] top-level scope\n",
      "   @ c:\\Users\\Miguel\\.julia\\dev\\Flight\\src\\aircraft\\c172r\\design\\v2_roll_yaw_cas.ipynb:1"
     ]
    }
   ],
   "source": [
    "c_roll_dyn = series(p_cmp, roll_dyn_tf)\n",
    "\n",
    "err_c_roll_dyn = 1/(1+c_roll_dyn)\n",
    "@show zpk(err_c_roll_dyn)\n",
    "# @show err_c_yaw_dyn(0)\n",
    "\n",
    "# marginplot(c_yaw_dyn)"
   ]
  },
  {
   "cell_type": "code",
   "execution_count": 9,
   "metadata": {},
   "outputs": [
    {
     "ename": "UndefVarError",
     "evalue": "UndefVarError: `err_c_roll_dyn` not defined",
     "output_type": "error",
     "traceback": [
      "UndefVarError: `err_c_roll_dyn` not defined\n",
      "\n",
      "Stacktrace:\n",
      " [1] top-level scope\n",
      "   @ c:\\Users\\Miguel\\.julia\\dev\\Flight\\src\\aircraft\\c172r\\design\\v2_roll_yaw_cas.ipynb:1"
     ]
    }
   ],
   "source": [
    "step(err_c_roll_dyn, 10) |> plot"
   ]
  },
  {
   "cell_type": "markdown",
   "metadata": {},
   "source": [
    "Now we have a SISO compensator design for p, let's use it to close the loop in the MIMO plant and make sure we get the expected response. The lat_dyn MIMO system has two inputs, aileron input u_a and rudder input u_r. Our SISO compensator receives p_err as an input and outputs u_a. So the MIMO version of our SISO compensator, which will be placed upstream of the MIMO plant, must receive p_err and u_r as inputs and output u_a and u_r. Therefore, it must apply the SISO compensator to p_err to obtain u_a and let u_r pass through unchanged to the plant by applying an unit gain to it. This is achieved as follows:"
   ]
  },
  {
   "cell_type": "code",
   "execution_count": 10,
   "metadata": {},
   "outputs": [
    {
     "data": {
      "text/plain": [
       "StateSpace{Continuous, Float64}\n",
       "A = \n",
       " 0.0    8.0\n",
       " 0.0  -20.0\n",
       "B = \n",
       " 0.0  0.0\n",
       " 4.0  0.0\n",
       "C = \n",
       " 6.25  -2.500000000000001\n",
       " 0.0    0.0\n",
       "D = \n",
       " 1.5000000000000002  0.0\n",
       " 0.0                 1.0\n",
       "\n",
       "Continuous-time state-space model"
      ]
     },
     "metadata": {},
     "output_type": "display_data"
    }
   ],
   "source": [
    "#create a diagonal MIMO system from the roll rate compensator and a unit\n",
    "#transfer function\n",
    "p_cmp_MIMO = append(p_cmp, tf(1)) |> ss #and convert to ss before concatenation"
   ]
  },
  {
   "cell_type": "code",
   "execution_count": 11,
   "metadata": {},
   "outputs": [
    {
     "ename": "UndefVarError",
     "evalue": "UndefVarError: `lat_dyn_ss` not defined",
     "output_type": "error",
     "traceback": [
      "UndefVarError: `lat_dyn_ss` not defined\n",
      "\n",
      "Stacktrace:\n",
      " [1] top-level scope\n",
      "   @ c:\\Users\\Miguel\\.julia\\dev\\Flight\\src\\aircraft\\c172r\\design\\v2_roll_yaw_cas.ipynb:1"
     ]
    }
   ],
   "source": [
    "p_cmp_lat_dyn = series(p_cmp_MIMO, lat_dyn_ss) #equivalent to long_dyn_ss * q_comp_MIMO (in the product notation, the second system goes first)"
   ]
  },
  {
   "cell_type": "markdown",
   "metadata": {},
   "source": [
    "The setpoint vector to be applied to the complete closed-loop MIMO system is r = [p_cmd, u_r]. The input to the MIMO compensator must be e = [p_err, u_r] = r - f = [p_cmd, u_r] - [p, 0]. So the feedback vector we need is f = [p, 0]. To construct this from the 6-output vector of lat_dyn, we need a matrix gain that premultiplies this output vector and produces a 2-component vector [p, 0]. This will be a 2x6 matrix with all entries set to zero except [1, 1] (the nonzero output p goes in the first component, and p is the first element in lat_dyn's output vector)"
   ]
  },
  {
   "cell_type": "code",
   "execution_count": 12,
   "metadata": {},
   "outputs": [
    {
     "ename": "UndefVarError",
     "evalue": "UndefVarError: `p_cmp_lat_dyn` not defined",
     "output_type": "error",
     "traceback": [
      "UndefVarError: `p_cmp_lat_dyn` not defined\n",
      "\n",
      "Stacktrace:\n",
      " [1] top-level scope\n",
      "   @ c:\\Users\\Miguel\\.julia\\dev\\Flight\\src\\aircraft\\c172r\\design\\v2_roll_yaw_cas.ipynb:6"
     ]
    }
   ],
   "source": [
    "K_p = zeros(2, 6)\n",
    "K_p[1,1] = 1\n",
    "K_p_ss = ss(K_p) #creates a ss with no dynamics and K_select as feedthrough\n",
    "\n",
    "#now create a feedback loop with K in the feedback path\n",
    "p_cmp_lat_dyn_cl = feedback(p_cmp_lat_dyn, K_p_ss)\n",
    "\n",
    "#now extract the resulting closed-loop roll demand to roll rate transfer function \n",
    "p_cl_MIMO = (p_cmp_lat_dyn_cl |> tf)[1,1]\n",
    "\n",
    "#make sure the zpk data matches that of the SISO closed loop TF\n",
    "@show zpk(p_cl_MIMO)\n",
    "\n",
    "#check step response\n",
    "step(p_cl_MIMO, 10) |> plot\n"
   ]
  },
  {
   "cell_type": "markdown",
   "metadata": {},
   "source": [
    "### Turn Coordination"
   ]
  },
  {
   "cell_type": "markdown",
   "metadata": {},
   "source": [
    "Now we focus on turn coordination. The plan is to design a SISO turn coordinator, ignoring the roll - yaw coupling for the moment. The result will be a SISO compensator with β_err as input and u_r as output. We embed it in a MIMO compensator that applies the SISO compensator to β_err and lets u_a pass through unchanged, and connect it upstream of the lateral dynamics plant. The result is then a plant with β_dmd and u_a as inputs."
   ]
  },
  {
   "cell_type": "code",
   "execution_count": 13,
   "metadata": {},
   "outputs": [
    {
     "ename": "UndefVarError",
     "evalue": "UndefVarError: `lat_dyn` not defined",
     "output_type": "error",
     "traceback": [
      "UndefVarError: `lat_dyn` not defined\n",
      "\n",
      "Stacktrace:\n",
      " [1] top-level scope\n",
      "   @ c:\\Users\\Miguel\\.julia\\dev\\Flight\\src\\aircraft\\c172r\\design\\v2_roll_yaw_cas.ipynb:1"
     ]
    }
   ],
   "source": [
    "yaw_dyn = filter(lat_dyn;\n",
    "    u = (:rudder,),\n",
    "    y = (:β,))\n",
    "\n",
    "yaw_dyn_ss = yaw_dyn |> ss\n",
    "yaw_dyn_tf = yaw_dyn_ss |> tf\n",
    "@show zpk(yaw_dyn_tf)"
   ]
  },
  {
   "cell_type": "code",
   "execution_count": 14,
   "metadata": {},
   "outputs": [
    {
     "ename": "UndefVarError",
     "evalue": "UndefVarError: `yaw_dyn_tf` not defined",
     "output_type": "error",
     "traceback": [
      "UndefVarError: `yaw_dyn_tf` not defined\n",
      "\n",
      "Stacktrace:\n",
      " [1] top-level scope\n",
      "   @ c:\\Users\\Miguel\\.julia\\dev\\Flight\\src\\aircraft\\c172r\\design\\v2_roll_yaw_cas.ipynb:2"
     ]
    }
   ],
   "source": [
    "#get rid of natural zero-pole near-cancellation\n",
    "r2β = minreal(yaw_dyn_tf, 1e-1)\n",
    "@show zpk(r2β)\n",
    "\n",
    "#the first thing we notice is that the DC gain is negative. this makes sense,\n",
    "#given that we have: act.rudder↑ -> aero.r↓ -> yaw↑ -> β↓. therefore, the first\n",
    "#thing we need in the forward path is a sign change.\n",
    "c1 = tf(-1)\n",
    "c1_r2β = series(c1, r2β)\n",
    "@show zpk(c1_r2β)\n",
    "\n",
    "#output error transfer function for a unit feedback closed loop\n",
    "err_c1_r2β = 1/(1+c1_r2β)\n",
    "#ensure there are no unstable poles in the closed loop system so we can apply the final value theorem\n",
    "@show zpk(err_c1_r2β)\n",
    "\n",
    "@show err_c1_r2β(0)\n",
    "step(err_c1_r2β, 10) |> plot\n",
    "#this is type 0 system, so we will need an integrator in the feedforward path\n"
   ]
  },
  {
   "cell_type": "code",
   "execution_count": 15,
   "metadata": {},
   "outputs": [
    {
     "ename": "UndefVarError",
     "evalue": "UndefVarError: `c1` not defined",
     "output_type": "error",
     "traceback": [
      "UndefVarError: `c1` not defined\n",
      "\n",
      "Stacktrace:\n",
      " [1] top-level scope\n",
      "   @ c:\\Users\\Miguel\\.julia\\dev\\Flight\\src\\aircraft\\c172r\\design\\v2_roll_yaw_cas.ipynb:9"
     ]
    }
   ],
   "source": [
    "#define a PID\n",
    "k_p = 10\n",
    "k_i = 25\n",
    "k_d = 5\n",
    "τ_d = 0.05\n",
    "c2 = k_p + k_i * tf(1, [1,0]) + k_d * tf([1, 0], [τ_d, 1])\n",
    "\n",
    "#the compensator is the PID chained with the sign inversion\n",
    "β_cmp = series(c1, c2)\n",
    "    \n",
    "c_r2β = series(β_cmp, r2β)\n",
    "\n",
    "err_c_r2β = 1/(1+c_r2β)\n",
    "# @show zpk(err_c2_c1_r2β)\n",
    "@show err_c_r2β(0)\n",
    "\n",
    "marginplot(c_r2β)"
   ]
  },
  {
   "cell_type": "code",
   "execution_count": 16,
   "metadata": {},
   "outputs": [
    {
     "ename": "UndefVarError",
     "evalue": "UndefVarError: `err_c_r2β` not defined",
     "output_type": "error",
     "traceback": [
      "UndefVarError: `err_c_r2β` not defined\n",
      "\n",
      "Stacktrace:\n",
      " [1] top-level scope\n",
      "   @ c:\\Users\\Miguel\\.julia\\dev\\Flight\\src\\aircraft\\c172r\\design\\v2_roll_yaw_cas.ipynb:1"
     ]
    }
   ],
   "source": [
    "step(err_c_r2β, 10) |> plot"
   ]
  },
  {
   "cell_type": "markdown",
   "metadata": {},
   "source": [
    "Let's check the response we get from the full plant, without the zero-pole simplification"
   ]
  },
  {
   "cell_type": "code",
   "execution_count": 17,
   "metadata": {},
   "outputs": [
    {
     "ename": "UndefVarError",
     "evalue": "UndefVarError: `β_cmp` not defined",
     "output_type": "error",
     "traceback": [
      "UndefVarError: `β_cmp` not defined\n",
      "\n",
      "Stacktrace:\n",
      " [1] top-level scope\n",
      "   @ c:\\Users\\Miguel\\.julia\\dev\\Flight\\src\\aircraft\\c172r\\design\\v2_roll_yaw_cas.ipynb:1"
     ]
    }
   ],
   "source": [
    "c_yaw_dyn = series(β_cmp, yaw_dyn_tf)\n",
    "\n",
    "err_c_yaw_dyn = 1/(1+c_yaw_dyn)\n",
    "@show zpk(err_c_yaw_dyn)\n",
    "# @show err_c_yaw_dyn(0)\n",
    "\n",
    "# marginplot(c_yaw_dyn)"
   ]
  },
  {
   "cell_type": "code",
   "execution_count": 18,
   "metadata": {},
   "outputs": [
    {
     "ename": "UndefVarError",
     "evalue": "UndefVarError: `err_c_yaw_dyn` not defined",
     "output_type": "error",
     "traceback": [
      "UndefVarError: `err_c_yaw_dyn` not defined\n",
      "\n",
      "Stacktrace:\n",
      " [1] top-level scope\n",
      "   @ c:\\Users\\Miguel\\.julia\\dev\\Flight\\src\\aircraft\\c172r\\design\\v2_roll_yaw_cas.ipynb:1"
     ]
    }
   ],
   "source": [
    "step(err_c_yaw_dyn, 10) |> plot"
   ]
  },
  {
   "cell_type": "markdown",
   "metadata": {},
   "source": [
    "As expected, it is quite similar, except for a slowly creeping divergence due to the slow unstable pole, which we haven't dealt with and is less exactly cancelled than in the roll dynamics."
   ]
  },
  {
   "cell_type": "markdown",
   "metadata": {},
   "source": [
    "Now we have a SISO compensator design for $\\beta$, let's use it to close the loop in the MIMO plant and make sure we get the expected response. The lat_dyn MIMO system has two inputs, aileron input u_a and rudder input u_r. Our SISO compensator receives $e_{\\beta}$ as an input and outputs u_r. So the MIMO version of our SISO compensator, which will be placed upstream of the MIMO plant, must receive u_a and beta_err as inputs and output u_a and u_r. Therefore, it must let u_a pass through unchanged to the plant by applying an unit gain to it, and apply the SISO compensator to beta_err to obtain u_r. This is achieved as follows:"
   ]
  },
  {
   "cell_type": "code",
   "execution_count": 19,
   "metadata": {},
   "outputs": [
    {
     "ename": "UndefVarError",
     "evalue": "UndefVarError: `β_cmp` not defined",
     "output_type": "error",
     "traceback": [
      "UndefVarError: `β_cmp` not defined\n",
      "\n",
      "Stacktrace:\n",
      " [1] top-level scope\n",
      "   @ c:\\Users\\Miguel\\.julia\\dev\\Flight\\src\\aircraft\\c172r\\design\\v2_roll_yaw_cas.ipynb:2"
     ]
    }
   ],
   "source": [
    "#create a diagonal MIMO system from a unit TF and the beta compensator\n",
    "β_cmp_MIMO = append(tf(1), β_cmp) |> ss #and convert to ss before concatenation"
   ]
  },
  {
   "cell_type": "code",
   "execution_count": 20,
   "metadata": {},
   "outputs": [
    {
     "ename": "UndefVarError",
     "evalue": "UndefVarError: `β_cmp_MIMO` not defined",
     "output_type": "error",
     "traceback": [
      "UndefVarError: `β_cmp_MIMO` not defined\n",
      "\n",
      "Stacktrace:\n",
      " [1] top-level scope\n",
      "   @ c:\\Users\\Miguel\\.julia\\dev\\Flight\\src\\aircraft\\c172r\\design\\v2_roll_yaw_cas.ipynb:1"
     ]
    }
   ],
   "source": [
    "β_cmp_lat_dyn = series(β_cmp_MIMO, lat_dyn_ss) #equivalent to long_dyn_ss * q_comp_MIMO (in the product notation, the second system goes first)"
   ]
  },
  {
   "cell_type": "markdown",
   "metadata": {},
   "source": [
    "The setpoint vector to be applied to the complete closed-loop MIMO system is r = [u_a, beta_cmd]. The input to the MIMO compensator must be e = [u_a, beta_err] = r - f = [u_a, beta_cmd] - [0, beta]. So the feedback vector we need is f = [0, beta]. To construct this from the 6-output vector of lat_dyn, we need a matrix gain that premultiplies this output vector and produces a 2-component vector [0, beta]. This will be a 2x6 matrix with all entries set to zero except [2, 5] (the nonzero output beta goes in the second output component, and beta is the 5th element in lat_dyn's output vector)"
   ]
  },
  {
   "cell_type": "code",
   "execution_count": 21,
   "metadata": {},
   "outputs": [
    {
     "ename": "UndefVarError",
     "evalue": "UndefVarError: `β_cmp_lat_dyn` not defined",
     "output_type": "error",
     "traceback": [
      "UndefVarError: `β_cmp_lat_dyn` not defined\n",
      "\n",
      "Stacktrace:\n",
      " [1] top-level scope\n",
      "   @ c:\\Users\\Miguel\\.julia\\dev\\Flight\\src\\aircraft\\c172r\\design\\v2_roll_yaw_cas.ipynb:6"
     ]
    }
   ],
   "source": [
    "K_β = zeros(2, 6)\n",
    "K_β[2,5] = 1\n",
    "K_β_ss = ss(K_β) #creates a ss with no dynamics and K_select as feedthrough\n",
    "\n",
    "#now create a feedback loop with K in the feedback path\n",
    "β_cmp_lat_dyn_cl = feedback(β_cmp_lat_dyn, K_β_ss)\n",
    "\n",
    "#now extract the resulting closed-loop beta demand to beta transfer function \n",
    "β_cl_MIMO = β_cmp_lat_dyn_cl[5,2]\n",
    "\n",
    "#make sure the zpk data matches that of the SISO closed loop TF\n",
    "@show zpk(β_cl_MIMO)\n",
    "\n",
    "#check step response\n",
    "step(β_cl_MIMO, 10) |> plot\n"
   ]
  },
  {
   "cell_type": "markdown",
   "metadata": {},
   "source": [
    "### Roll control and turn coordination"
   ]
  },
  {
   "cell_type": "code",
   "execution_count": 22,
   "metadata": {},
   "outputs": [
    {
     "ename": "UndefVarError",
     "evalue": "UndefVarError: `β_cmp` not defined",
     "output_type": "error",
     "traceback": [
      "UndefVarError: `β_cmp` not defined\n",
      "\n",
      "Stacktrace:\n",
      " [1] top-level scope\n",
      "   @ c:\\Users\\Miguel\\.julia\\dev\\Flight\\src\\aircraft\\c172r\\design\\v2_roll_yaw_cas.ipynb:2"
     ]
    }
   ],
   "source": [
    "#create a diagonal MIMO system from both compensators\n",
    "pβ_cmp_MIMO = append(p_cmp, β_cmp) |> ss #and convert to ss before concatenation"
   ]
  },
  {
   "cell_type": "code",
   "execution_count": 23,
   "metadata": {},
   "outputs": [
    {
     "ename": "UndefVarError",
     "evalue": "UndefVarError: `pβ_cmp_MIMO` not defined",
     "output_type": "error",
     "traceback": [
      "UndefVarError: `pβ_cmp_MIMO` not defined\n",
      "\n",
      "Stacktrace:\n",
      " [1] top-level scope\n",
      "   @ c:\\Users\\Miguel\\.julia\\dev\\Flight\\src\\aircraft\\c172r\\design\\v2_roll_yaw_cas.ipynb:1"
     ]
    }
   ],
   "source": [
    "pβ_cmp_lat_dyn = series(pβ_cmp_MIMO, lat_dyn_ss) #equivalent to long_dyn_ss * q_comp_MIMO (in the product notation, the second system goes first)"
   ]
  },
  {
   "cell_type": "code",
   "execution_count": 24,
   "metadata": {},
   "outputs": [
    {
     "ename": "UndefVarError",
     "evalue": "UndefVarError: `pβ_cmp_lat_dyn` not defined",
     "output_type": "error",
     "traceback": [
      "UndefVarError: `pβ_cmp_lat_dyn` not defined\n",
      "\n",
      "Stacktrace:\n",
      " [1] top-level scope\n",
      "   @ c:\\Users\\Miguel\\.julia\\dev\\Flight\\src\\aircraft\\c172r\\design\\v2_roll_yaw_cas.ipynb:7"
     ]
    }
   ],
   "source": [
    "K_pβ = zeros(2, 6)\n",
    "K_pβ[1,1] = 1 #assigns p to the first component\n",
    "K_pβ[2,5] = 1 #assigns β to the second component\n",
    "K_pβ_ss = ss(K_pβ) #creates a ss with no dynamics and K_pβ as feedthrough; this selects p and β as our feedback vector\n",
    "\n",
    "#now create a feedback loop with K in the feedback path\n",
    "pβ_cmp_lat_dyn_cl = feedback(pβ_cmp_lat_dyn, K_pβ_ss)\n",
    "\n",
    "#now extract the resulting closed-loop SISO transfer functions from the MIMO system\n",
    "p_cl_MIMO = pβ_cmp_lat_dyn_cl[1,1] #input 1 to output 1\n",
    "β_cl_MIMO = pβ_cmp_lat_dyn_cl[5,2] #input 2 to output 5\n",
    "\n",
    "#check that the zpk data matches that of the SISO closed loop TF\n",
    "@show zpk(p_cl_MIMO)\n",
    "@show zpk(β_cl_MIMO)"
   ]
  },
  {
   "cell_type": "markdown",
   "metadata": {},
   "source": [
    "From the closed loop transfer functions, we see that with both controllers are implemented and operating in parallel as a MIMO compensator, the slow unstable pole is nearly perfectly cancelled in the full lateral dynamics!"
   ]
  },
  {
   "cell_type": "code",
   "execution_count": 25,
   "metadata": {},
   "outputs": [
    {
     "ename": "UndefVarError",
     "evalue": "UndefVarError: `p_cl_MIMO` not defined",
     "output_type": "error",
     "traceback": [
      "UndefVarError: `p_cl_MIMO` not defined\n",
      "\n",
      "Stacktrace:\n",
      " [1] top-level scope\n",
      "   @ c:\\Users\\Miguel\\.julia\\dev\\Flight\\src\\aircraft\\c172r\\design\\v2_roll_yaw_cas.ipynb:2"
     ]
    }
   ],
   "source": [
    "#check roll rate demand step response\n",
    "step(p_cl_MIMO, 10) |> plot"
   ]
  },
  {
   "cell_type": "code",
   "execution_count": 26,
   "metadata": {},
   "outputs": [
    {
     "ename": "UndefVarError",
     "evalue": "UndefVarError: `β_cl_MIMO` not defined",
     "output_type": "error",
     "traceback": [
      "UndefVarError: `β_cl_MIMO` not defined\n",
      "\n",
      "Stacktrace:\n",
      " [1] top-level scope\n",
      "   @ c:\\Users\\Miguel\\.julia\\dev\\Flight\\src\\aircraft\\c172r\\design\\v2_roll_yaw_cas.ipynb:2"
     ]
    }
   ],
   "source": [
    "#check β demand step response\n",
    "step(β_cl_MIMO, 10) |> plot"
   ]
  },
  {
   "cell_type": "markdown",
   "metadata": {},
   "source": [
    "### Bank angle control"
   ]
  },
  {
   "cell_type": "markdown",
   "metadata": {},
   "source": [
    "We start from the closed-loop lateral dynamics augmented with roll rate control and turn compensation. This is a MIMO\n",
    "system with inputs $p$ and $\\beta$, and the same outputs $p, r, \\phi, \\psi, \\beta, f_y$ as the original open-loop\n",
    "system. We are interested in the response from input 1 to output 3. This will be our open loop SISO system:"
   ]
  },
  {
   "cell_type": "code",
   "execution_count": 27,
   "metadata": {},
   "outputs": [
    {
     "ename": "UndefVarError",
     "evalue": "UndefVarError: `pβ_cmp_lat_dyn_cl` not defined",
     "output_type": "error",
     "traceback": [
      "UndefVarError: `pβ_cmp_lat_dyn_cl` not defined\n",
      "\n",
      "Stacktrace:\n",
      " [1] top-level scope\n",
      "   @ c:\\Users\\Miguel\\.julia\\dev\\Flight\\src\\aircraft\\c172r\\design\\v2_roll_yaw_cas.ipynb:1"
     ]
    }
   ],
   "source": [
    "p2φ = pβ_cmp_lat_dyn_cl[3, 1] |> tf\n",
    "@show zpk(p2φ)\n",
    "\n",
    "#output error transfer function for a unit feedback closed loop\n",
    "err_p2φ = 1/(1+p2φ)\n",
    "\n",
    "#ensure there are no unstable poles in the closed loop system so we can apply the final value theorem\n",
    "@show poles(err_p2φ) \n",
    "\n",
    "#steady state error of the closed loop system for a unit step input\n",
    "@show err_p2φ(0)\n",
    "step(err_p2φ, 10) |> plot"
   ]
  },
  {
   "cell_type": "markdown",
   "metadata": {},
   "source": [
    "If the open loop response from input $p_{cmd}$ to output $\\phi$ contained a pure integrator, this would be a type 1 system, and therefore we would get exactly zero steady state error. However, the plant is not a kinematic system, and due to the system's dynamics, instead of a pure integrator we have a very slow unstable pole (due to the spiral mode) in the open loop transfer function. While the unity feedback stabilizes the system, it does not achieve zero steady state error. For this, we would need integral action in the compensator. In practice, the steady state error achievable with pure proportional action while keeping reasonable phase margins is acceptable."
   ]
  },
  {
   "cell_type": "code",
   "execution_count": 28,
   "metadata": {},
   "outputs": [
    {
     "ename": "UndefVarError",
     "evalue": "UndefVarError: `p2φ` not defined",
     "output_type": "error",
     "traceback": [
      "UndefVarError: `p2φ` not defined\n",
      "\n",
      "Stacktrace:\n",
      " [1] top-level scope\n",
      "   @ c:\\Users\\Miguel\\.julia\\dev\\Flight\\src\\aircraft\\c172r\\design\\v2_roll_yaw_cas.ipynb:8"
     ]
    }
   ],
   "source": [
    "#define a PID compensator\n",
    "k_p = 4\n",
    "k_i = 0 #2 #0\n",
    "k_d = 0 #0.35 #0\n",
    "τ_d = 0.05\n",
    "φ_cmp = (k_p + k_i * tf(1, [1,0]) + k_d * tf([1, 0], [τ_d, 1])) |> ss\n",
    "    \n",
    "c_p2φ = series(φ_cmp, p2φ)\n",
    "err_c_p2φ = 1/(1+c_p2φ)\n",
    "\n",
    "#check that the error transfer function for the unit feedback closed loop system is stable\n",
    "@show poles(err_c_p2φ);\n",
    "@show tf(err_c_p2φ)(0)\n",
    "\n",
    "# setPlotScale(\"dB\")\n",
    "marginplot(c_p2φ)\n",
    "# nyquistplot(c_a2p)"
   ]
  },
  {
   "cell_type": "code",
   "execution_count": 29,
   "metadata": {},
   "outputs": [
    {
     "ename": "UndefVarError",
     "evalue": "UndefVarError: `err_c_p2φ` not defined",
     "output_type": "error",
     "traceback": [
      "UndefVarError: `err_c_p2φ` not defined\n",
      "\n",
      "Stacktrace:\n",
      " [1] top-level scope\n",
      "   @ c:\\Users\\Miguel\\.julia\\dev\\Flight\\src\\aircraft\\c172r\\design\\v2_roll_yaw_cas.ipynb:1"
     ]
    }
   ],
   "source": [
    "step(err_c_p2φ, 10) |> stepinfo"
   ]
  },
  {
   "cell_type": "code",
   "execution_count": 30,
   "metadata": {},
   "outputs": [
    {
     "ename": "UndefVarError",
     "evalue": "UndefVarError: `err_c_p2φ` not defined",
     "output_type": "error",
     "traceback": [
      "UndefVarError: `err_c_p2φ` not defined\n",
      "\n",
      "Stacktrace:\n",
      " [1] top-level scope\n",
      "   @ c:\\Users\\Miguel\\.julia\\dev\\Flight\\src\\aircraft\\c172r\\design\\v2_roll_yaw_cas.ipynb:1"
     ]
    }
   ],
   "source": [
    "step(err_c_p2φ, 10) |> plot"
   ]
  },
  {
   "cell_type": "markdown",
   "metadata": {},
   "source": [
    "Now we have a SISO compensator design for $\\phi$, let's use it to close the loop in the MIMO plant and make sure we get the expected response. The augmented MIMO system has two inputs, p command p_cmd and beta command beta_cmd. Our SISO compensator receives $\\phi_{cmd}$ as an input and outputs $p_{cmd}$. So the MIMO version of our SISO compensator, which will be placed upstream of the MIMO plant, must receive phi_err and beta_cmd as inputs and output p_cmd and beta_cmd. Therefore, it must apply the SISO compensator to phi_err to obtain p_cmd and let beta_cmd pass through unchanged to the plant by applying an unit gain to it. This is achieved as follows:"
   ]
  },
  {
   "cell_type": "code",
   "execution_count": 31,
   "metadata": {},
   "outputs": [
    {
     "data": {
      "text/plain": [
       "StateSpace{Continuous, Float64}\n",
       "D = \n",
       " 4.0  0.0\n",
       " 0.0  1.0\n",
       "\n",
       "Continuous-time state-space model"
      ]
     },
     "metadata": {},
     "output_type": "display_data"
    }
   ],
   "source": [
    "#create a diagonal MIMO system from the bank angle compensator and a unit\n",
    "#transfer function\n",
    "φ_cmp_MIMO = append(φ_cmp, tf(1)) |> ss #and convert to ss before concatenation"
   ]
  },
  {
   "cell_type": "code",
   "execution_count": 32,
   "metadata": {},
   "outputs": [
    {
     "ename": "UndefVarError",
     "evalue": "UndefVarError: `pβ_cmp_lat_dyn_cl` not defined",
     "output_type": "error",
     "traceback": [
      "UndefVarError: `pβ_cmp_lat_dyn_cl` not defined\n",
      "\n",
      "Stacktrace:\n",
      " [1] top-level scope\n",
      "   @ c:\\Users\\Miguel\\.julia\\dev\\Flight\\src\\aircraft\\c172r\\design\\v2_roll_yaw_cas.ipynb:1"
     ]
    }
   ],
   "source": [
    "φ_cmp_lat_dyn = series(φ_cmp_MIMO, pβ_cmp_lat_dyn_cl) #equivalent to long_dyn_ss * q_comp_MIMO (in the product notation, the second system goes first)"
   ]
  },
  {
   "cell_type": "markdown",
   "metadata": {},
   "source": [
    "The setpoint vector to be applied to the complete closed-loop MIMO system is r = [phi_cmd, beta_cmd]. The input to the MIMO compensator must be e = [phi_err, beta_cmd] = r - f = [phi_cmd, beta_cmd] - [phi, 0]. So the feedback vector we need is f = [phi, 0]. To construct this from the 6-output vector of lat_dyn, we need a matrix gain that premultiplies this output vector and produces a 2-component vector [phi, 0]. This will be a 2x6 matrix with all entries set to zero except [1, 1] (the nonzero output phi goes in the first component, and phi is the third element in the MIMO plant output vector)"
   ]
  },
  {
   "cell_type": "code",
   "execution_count": 33,
   "metadata": {},
   "outputs": [
    {
     "ename": "UndefVarError",
     "evalue": "UndefVarError: `φ_cmp_lat_dyn` not defined",
     "output_type": "error",
     "traceback": [
      "UndefVarError: `φ_cmp_lat_dyn` not defined\n",
      "\n",
      "Stacktrace:\n",
      " [1] top-level scope\n",
      "   @ c:\\Users\\Miguel\\.julia\\dev\\Flight\\src\\aircraft\\c172r\\design\\v2_roll_yaw_cas.ipynb:6"
     ]
    }
   ],
   "source": [
    "K_φ = zeros(2, 6)\n",
    "K_φ[1,3] = 1\n",
    "K_φ_ss = ss(K_φ) #creates a ss with no dynamics and K_select as feedthrough\n",
    "\n",
    "#now create a feedback loop with K in the feedback path\n",
    "φ_cmp_lat_dyn_cl = feedback(φ_cmp_lat_dyn, K_φ_ss)\n",
    "\n",
    "#now extract the resulting closed-loop phi demand to phi transfer function \n",
    "φ_cl_MIMO = φ_cmp_lat_dyn_cl[3, 1] |> tf\n",
    "\n",
    "#make sure the zpk data matches that of the SISO closed loop TF\n",
    "@show zpk(φ_cl_MIMO)\n",
    "\n",
    "#check step response\n",
    "step(φ_cl_MIMO, 10) |> plot\n",
    "step(φ_cl_MIMO, 10) |> stepinfo\n"
   ]
  }
 ],
 "metadata": {
  "kernelspec": {
   "display_name": "Julia 1.9.2",
   "language": "julia",
   "name": "julia-1.9"
  },
  "language_info": {
   "file_extension": ".jl",
   "mimetype": "application/julia",
   "name": "julia",
   "version": "1.9.2"
  },
  "orig_nbformat": 4
 },
 "nbformat": 4,
 "nbformat_minor": 2
}
