{
 "cells": [
  {
   "cell_type": "code",
   "execution_count": null,
   "metadata": {},
   "outputs": [],
   "source": [
    "using Flight.FlightCore.Systems\n",
    "using Flight.FlightCore.Plotting\n",
    "\n",
    "using Flight.FlightPhysics.Geodesy\n",
    "using Flight.FlightPhysics.Kinematics\n",
    "\n",
    "using Flight.FlightComponents.Aircraft\n",
    "\n",
    "using Flight.FlightAircraft.C172R\n",
    "\n",
    "using ControlSystems"
   ]
  },
  {
   "cell_type": "code",
   "execution_count": null,
   "metadata": {},
   "outputs": [],
   "source": [
    "ac = Cessna172Rv0(NED()) |> System #linearization requires NED kinematics\n",
    "ac.u.airframe.pld.m_pilot = 75\n",
    "ac.u.airframe.pld.m_copilot = 75\n",
    "ac.u.airframe.pld.m_lpass = 0\n",
    "ac.u.airframe.pld.m_rpass = 0\n",
    "ac.u.airframe.pld.m_baggage = 0\n",
    "\n",
    "trim_params = C172Rv0.TrimParameters(\n",
    "    loc = LatLon(),\n",
    "    h = HOrth(1000),\n",
    "    ψ_nb = 0.0,\n",
    "    TAS = 40.0,\n",
    "    γ_wOb_n = 0.0,\n",
    "    ψ_lb_dot = 0.00,\n",
    "    θ_lb_dot = 0.0,\n",
    "    β_a = 0.0,\n",
    "    fuel = 1,\n",
    "    mixture = 0.5,\n",
    "    flaps = 0.0)\n",
    "\n",
    "lm = Aircraft.linearize!(ac; trim_params)"
   ]
  },
  {
   "cell_type": "markdown",
   "metadata": {},
   "source": [
    "### Longitudinal Dynamics"
   ]
  },
  {
   "cell_type": "code",
   "execution_count": null,
   "metadata": {},
   "outputs": [],
   "source": [
    "long_dyn = filter(lm;\n",
    "    u = (:elevator, :throttle),\n",
    "    x = (:v_x, :v_z, :θ, :q, :α_filt, :ω_eng),\n",
    "    y = (:q, :θ, :α, :TAS, :f_x, :f_z, :ω_eng))\n",
    "\n",
    "long_dyn_ss = long_dyn |> ss\n",
    "long_dyn_tf = long_dyn_ss |> tf\n",
    "\n",
    "#we can reduce the model further for CAS by omitting omega_eng and throttle\n",
    "pitch_dyn = filter(lm; u = (:elevator,),\n",
    "    x = (:v_x, :v_z, :θ, :q, :α_filt),\n",
    "    y = (:q, :θ, :α, :TAS))\n",
    "\n",
    "pitch_dyn_ss = pitch_dyn |> ss\n",
    "pitch_dyn_tf = pitch_dyn_ss |> tf\n"
   ]
  },
  {
   "cell_type": "code",
   "execution_count": null,
   "metadata": {},
   "outputs": [],
   "source": [
    "#extract the elevator to q transfer function\n",
    "e2q = long_dyn_tf[1,1]\n",
    "@show zpk(e2q)\n",
    "\n",
    "#the open loop TF is type 0, but with a zero almost at the origin, so in\n",
    "#practice it has nearly derivative action. we can see that the steady state\n",
    "#error for a step input is nearly 1, that is, the output falls back almost to\n",
    "#zero\n",
    "err_e2q = 1/(1+e2q)\n",
    "@show zpk(err_e2q)\n",
    "@show err_e2q(0)\n",
    "\n",
    "#therefore, although adding a pure integrator will in theory yield a type 1\n",
    "#system (and zero steady state error for step inputs), in practice (for\n",
    "#reasonable time windows) it will still behave as a type 0. so, in addition to\n",
    "#this integrator we can expect to require some more integral action in the\n",
    "#feedforward path for satisfactory response.\n"
   ]
  },
  {
   "cell_type": "code",
   "execution_count": null,
   "metadata": {},
   "outputs": [],
   "source": [
    "#we can start by trying a PID in series with the pure integrator previously\n",
    "#indicated. rather than aiming for minimum steady state error (since the outward\n",
    "#θ loop doesn't really care for that), we want reasonable stability margins\n",
    "\n",
    "# k_p = 10\n",
    "# k_i = 20\n",
    "# k_d = 0.5\n",
    "k_p = 4\n",
    "k_i = 35\n",
    "k_d = 0.6\n",
    "q_comp = series(k_p + k_i * tf(1, [1,0]) + k_d * tf([1, 0], [0.05, 1]), tf(1, [1, 0]))\n",
    "    \n",
    "e2q_c = series(q_comp, e2q)\n",
    "e2q_c = minreal(e2q_c, 1e-3)\n",
    "@show zpk(e2q_c)\n",
    "\n",
    "#error transfer function (setpoint - plant output)\n",
    "e2q_c_err = 1/(1+e2q_c)\n",
    "#the steady state error for a given test input is the final value of the ETF for\n",
    "#that input. applying the final value theorem, the final value for a step input\n",
    "#is found simply by settng s=0. therefore:\n",
    "@show ss_err_step = e2q_c_err(0)\n",
    "\n",
    "#and for a ramp input:\n",
    "@show ss_err_ramp = (tf(1, [1, 0]) * e2q_c_err)(0)\n",
    "\n",
    "marginplot(e2q_c)\n"
   ]
  },
  {
   "cell_type": "code",
   "execution_count": null,
   "metadata": {},
   "outputs": [],
   "source": [
    "cl = feedback(e2q_c, 1)\n",
    "@show zpk(cl)\n",
    "@show poles(cl)\n",
    "# bodeplot(cl)\n",
    "step(cl, 10) |> plot"
   ]
  },
  {
   "attachments": {},
   "cell_type": "markdown",
   "metadata": {},
   "source": [
    "Now we have a SISO compensator design for q, let's use it to close the loop in the MIMO plant. The long_dyn MIMO system has two inputs, elevator input u_e and throttle input u_t. Our SISO compensator receives q_err as an input and outputs u_e. So the MIMO version of our SISO compensator, which will be placed upstream of the MIMO plant, must receive q_err and u_t as inputs and output u_e and u_t. Therefore, it must apply the SISO compensator to q_err to obtain u_e and let u_t pass through unchanged to the plant by applying an unit gain to it. This is achieved as follows:"
   ]
  },
  {
   "cell_type": "code",
   "execution_count": null,
   "metadata": {},
   "outputs": [],
   "source": [
    "#create a diagonal MIMO system from the pitch rate compensator and a unit\n",
    "#transfer function\n",
    "q_comp_MIMO = append(q_comp, tf(1)) |> ss #and convert to ss before concatenation"
   ]
  },
  {
   "cell_type": "code",
   "execution_count": null,
   "metadata": {},
   "outputs": [],
   "source": [
    "q_comp_long_dyn = series(q_comp_MIMO, long_dyn_ss) #equivalent to long_dyn_ss * q_comp_MIMO (in the product notation, the second system goes first)"
   ]
  },
  {
   "attachments": {},
   "cell_type": "markdown",
   "metadata": {},
   "source": [
    "The setpoint vector to be applied to the closed-loop MIMO system is r = [q_cmd, u_t]. The input to the MIMO compensator must be e = [q_err, u_t] = r - f = [q_cmd, u_t] - [q, 0]. So we need a matrix gain that premultiplies the 7-component output vector of long_dyn, and produces a 2-component vector [q, 0]. This will be a 2x7 matrix with all entries set to zero except [1, 1] (the nonzero output goes in the first component, and q is the first element in long_dyn's output vector)"
   ]
  },
  {
   "cell_type": "code",
   "execution_count": null,
   "metadata": {},
   "outputs": [],
   "source": [
    "K_q = zeros(2, 7)\n",
    "K_q[1,1] = 1\n",
    "K_q_ss = ss(K_q) #creates a ss with no dynamics and K_select as feedthrough\n",
    "\n",
    "#now create a feedback loop with K in the feedback path\n",
    "q_comp_long_dyn_cl = feedback(q_comp_long_dyn, K_q_ss)\n",
    "\n",
    "#this is similar, but NOT equivalent: it uses unit feedback, which means that\n",
    "#the whole 7 component output vector from q_comp_long_dyn is fed back, and then\n",
    "#multiplied by K_ss (and so reduced to 2 components) in the feedforward path\n",
    "#before entering the compensator. this yields a 7 input closed loop system, of\n",
    "#which only the two first inputs actually do anything (the others get discarded\n",
    "# when they pass through K) q_comp_long_dyn_cl = feedback(series(K_ss,\n",
    "# q_comp_long_dyn))\n",
    "\n",
    "e2q_cl_MIMO = (q_comp_long_dyn_cl |> tf)[1,1]\n",
    "\n",
    "#make sure the zpk data matches that of the SISO closed loop TF\n",
    "@show zpk(e2q_cl_MIMO)\n",
    "\n",
    "#check step response\n",
    "step(e2q_cl_MIMO, 10) |> plot\n"
   ]
  },
  {
   "cell_type": "code",
   "execution_count": null,
   "metadata": {},
   "outputs": [],
   "source": [
    "#let's see what we could achieve if we had an actuator in the loop with a 5Hz time constant\n",
    "k_p = 4\n",
    "k_i = 8\n",
    "k_d = 0.3\n",
    "τ_d = 0.02\n",
    "q_comp = tf(1, [1, 0]) * (k_p + k_i * tf(1, [1,0]) + k_d * tf([1, 0], [τ_d, 1]))\n",
    "act = tf(1, [0.2, 1])\n",
    "    \n",
    "e2q_c = q_comp * act * e2q\n",
    "e2q_c = minreal(e2q_c, 1e-3)\n",
    "@show zpk(e2q_c)\n",
    "e2q_c_err = 1/(1+e2q_c)\n",
    "#the steady state error for a given test input is the final value of the ETF for\n",
    "#that input. applying the final value theorem, the final value for a step input\n",
    "#is found simply by settng s=0. therefore:\n",
    "@show ss_err_step = e2q_c_err(0)\n",
    "\n",
    "\n",
    "marginplot(e2q_c)\n",
    "# rlocusplot(e2q_c)\n",
    "# nyquistplot(e2q_c)\n",
    "# bodeplot(act)\n"
   ]
  },
  {
   "cell_type": "code",
   "execution_count": null,
   "metadata": {},
   "outputs": [],
   "source": [
    "cl = feedback(e2q_c, 1)\n",
    "step(cl, 10) |> plot"
   ]
  },
  {
   "cell_type": "markdown",
   "metadata": {},
   "source": [
    "### $\\Theta$ Control"
   ]
  },
  {
   "cell_type": "markdown",
   "metadata": {},
   "source": [
    "Returning now to the longitudinal dynamics with q feedback, we have a MIMO plant with two inputs, q_cmd and u_t, and the same initial seven outputs (q, θ...). We can now retrieve the open loop response from the first input (q_cmd) to the second output ($\\theta$) as:"
   ]
  },
  {
   "cell_type": "code",
   "execution_count": null,
   "metadata": {},
   "outputs": [],
   "source": [
    "#the previous closed loop MIMO plant with q_cmd as its first input is our\n",
    "#starting plant for this design\n",
    "q2θ = q_comp_long_dyn_cl[2, 1] #no need to transform to TF first\n",
    "@show zpk(q2θ)"
   ]
  },
  {
   "cell_type": "code",
   "execution_count": null,
   "metadata": {},
   "outputs": [],
   "source": [
    "err_q2θ = 1/(1+tf(q2θ)) \n",
    "@show err_q2θ(0) #steady state error for a step input\n",
    "#we can see this is essentially a type 1 transfer function. we can achieve zero\n",
    "#steady state error for a step input just with proportional control"
   ]
  },
  {
   "cell_type": "code",
   "execution_count": null,
   "metadata": {},
   "outputs": [],
   "source": [
    "k_θ = 2.8\n",
    "θ_cmp = ss(k_θ)\n",
    "    \n",
    "c_q2θ = series(θ_cmp, q2θ)\n",
    "c_q2θ = minreal(c_q2θ, 1e-3)\n",
    "@show zpk(c_q2θ)\n",
    "\n",
    "marginplot(c_q2θ)"
   ]
  },
  {
   "cell_type": "code",
   "execution_count": null,
   "metadata": {},
   "outputs": [],
   "source": [
    "cl = feedback(c_q2θ, 1)\n",
    "step(cl, 10) |> plot"
   ]
  },
  {
   "cell_type": "markdown",
   "metadata": {},
   "source": [
    "The design is satisfactory, let's build the MIMO system as before."
   ]
  },
  {
   "cell_type": "code",
   "execution_count": null,
   "metadata": {},
   "outputs": [],
   "source": [
    "#create a diagonal MIMO system from the theta compensator and a unit transfer\n",
    "#function\n",
    "θ_cmp_MIMO = append(θ_cmp, tf(1)) |> ss #and convert to ss before concatenation\n",
    "θ_cmp_q_cmp_long_dyn = series(θ_cmp_MIMO, q_comp_long_dyn_cl)"
   ]
  },
  {
   "cell_type": "code",
   "execution_count": null,
   "metadata": {},
   "outputs": [],
   "source": [
    "K_θ = zeros(2, 7)\n",
    "K_θ[1,2] = 1 #extracts the second output vector component and puts it in the first component\n",
    "K_θ_ss = ss(K_θ) #creates a ss with no dynamics and K_select as feedthrough\n",
    "\n",
    "#now create a feedback loop with K in the feedback path\n",
    "θ_cmp_q_cmp_long_dyn_cl = feedback(θ_cmp_q_cmp_long_dyn, K_θ_ss)\n",
    "\n",
    "θ_cl_MIMO = θ_cmp_q_cmp_long_dyn_cl[2,1]\n",
    "\n",
    "#make sure the zpk data matches that of the SISO closed loop TF\n",
    "@show zpk(θ_cl_MIMO)\n",
    "\n",
    "#check step response\n",
    "step(θ_cl_MIMO, 10) |> plot\n"
   ]
  }
 ],
 "metadata": {
  "kernelspec": {
   "display_name": "Julia 1.9.2",
   "language": "julia",
   "name": "julia-1.9"
  },
  "language_info": {
   "file_extension": ".jl",
   "mimetype": "application/julia",
   "name": "julia",
   "version": "1.9.2"
  },
  "orig_nbformat": 4
 },
 "nbformat": 4,
 "nbformat_minor": 2
}
