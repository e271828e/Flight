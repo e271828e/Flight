{
 "cells": [
  {
   "cell_type": "code",
   "execution_count": 1,
   "metadata": {},
   "outputs": [],
   "source": [
    "using Flight"
   ]
  },
  {
   "cell_type": "code",
   "execution_count": 82,
   "metadata": {},
   "outputs": [
    {
     "data": {
      "text/plain": [
       "LinearStateSpace{16, 4, 17, ComponentArrays.ComponentVector{Float64, Vector{Float64}, Tuple{ComponentArrays.Axis{(ψ = 1, θ = 2, φ = 3, ϕ = 4, λ = 5, h = 6, p = 7, q = 8, r = 9, v_x = 10, v_y = 11, v_z = 12, α_filt = 13, β_filt = 14, ω_eng = 15, fuel = 16)}}}, ComponentArrays.ComponentVector{Float64, Vector{Float64}, Tuple{ComponentArrays.Axis{(throttle = 1, aileron = 2, elevator = 3, rudder = 4)}}}, ComponentArrays.ComponentVector{Float64, Vector{Float64}, Tuple{ComponentArrays.Axis{(ψ = 1, θ = 2, φ = 3, ϕ = 4, λ = 5, h = 6, p = 7, q = 8, r = 9, TAS = 10, α = 11, β = 12, f_x = 13, f_y = 14, f_z = 15, ω_eng = 16, m_fuel = 17)}}}, ComponentArrays.ComponentMatrix{Float64, Matrix{Float64}, Tuple{ComponentArrays.Axis{(ψ = 1, θ = 2, φ = 3, ϕ = 4, λ = 5, h = 6, p = 7, q = 8, r = 9, v_x = 10, v_y = 11, v_z = 12, α_filt = 13, β_filt = 14, ω_eng = 15, fuel = 16)}, ComponentArrays.Axis{(ψ = 1, θ = 2, φ = 3, ϕ = 4, λ = 5, h = 6, p = 7, q = 8, r = 9, v_x = 10, v_y = 11, v_z = 12, α_filt = 13, β_filt = 14, ω_eng = 15, fuel = 16)}}}, ComponentArrays.ComponentMatrix{Float64, ComponentArrays.ComponentMatrix{Float64, Matrix{Float64}, Tuple{ComponentArrays.FlatAxis, ComponentArrays.Axis{(throttle = 1, aileron = 2, elevator = 3, rudder = 4)}}}, Tuple{ComponentArrays.Axis{(ψ = 1, θ = 2, φ = 3, ϕ = 4, λ = 5, h = 6, p = 7, q = 8, r = 9, v_x = 10, v_y = 11, v_z = 12, α_filt = 13, β_filt = 14, ω_eng = 15, fuel = 16)}, ComponentArrays.Axis{(throttle = 1, aileron = 2, elevator = 3, rudder = 4)}}}, ComponentArrays.ComponentMatrix{Float64, ComponentArrays.ComponentMatrix{Float64, Matrix{Float64}, Tuple{ComponentArrays.Axis{(ψ = 1, θ = 2, φ = 3, ϕ = 4, λ = 5, h = 6, p = 7, q = 8, r = 9, TAS = 10, α = 11, β = 12, f_x = 13, f_y = 14, f_z = 15, ω_eng = 16, m_fuel = 17)}, ComponentArrays.FlatAxis}}, Tuple{ComponentArrays.Axis{(ψ = 1, θ = 2, φ = 3, ϕ = 4, λ = 5, h = 6, p = 7, q = 8, r = 9, TAS = 10, α = 11, β = 12, f_x = 13, f_y = 14, f_z = 15, ω_eng = 16, m_fuel = 17)}, ComponentArrays.Axis{(ψ = 1, θ = 2, φ = 3, ϕ = 4, λ = 5, h = 6, p = 7, q = 8, r = 9, v_x = 10, v_y = 11, v_z = 12, α_filt = 13, β_filt = 14, ω_eng = 15, fuel = 16)}}}, ComponentArrays.ComponentMatrix{Float64, Matrix{Float64}, Tuple{ComponentArrays.Axis{(ψ = 1, θ = 2, φ = 3, ϕ = 4, λ = 5, h = 6, p = 7, q = 8, r = 9, TAS = 10, α = 11, β = 12, f_x = 13, f_y = 14, f_z = 15, ω_eng = 16, m_fuel = 17)}, ComponentArrays.Axis{(throttle = 1, aileron = 2, elevator = 3, rudder = 4)}}}}((ψ = 0.0, θ = 0.0, φ = 0.0, ϕ = 6.312676430755364e-6, λ = -9.566560576054125e-10, h = -1.3322676295501878e-15, p = 8.215906225857397e-9, q = -2.3684146707734907e-8, r = -4.2943617960762246e-8, v_x = -2.227035510313438e-7, v_y = 2.5678187701567277e-6, v_z = 1.1397991034537993e-6, α_filt = 2.7755575615628914e-16, β_filt = 1.3010426069826053e-18, ω_eng = 7.556669580870741e-6, fuel = -4.298667783445288e-5), (ψ = 0.0, θ = 0.08561171298659943, φ = 0.0017842509486882458, ϕ = 0.0, λ = 0.0, h = 1017.1620006561279, p = -9.53152357477025e-10, q = -6.312666528346285e-6, r = 1.1181592110805385e-8, v_x = 39.85350173895568, v_y = 2.6020852139652106e-18, v_z = 3.420292259889023, α_filt = 0.08561184859652844, β_filt = 0.0, ω_eng = 216.48101882576267, fuel = 0.5), (throttle = 0.6107599949709629, aileron = 0.0, elevator = 0.0, rudder = 0.0), (ψ = 0.0, θ = 0.08561171298659943, φ = 0.0017842509486882458, ϕ = 0.0, λ = 0.0, h = 1017.1620006561279, p = -9.53152357477025e-10, q = -6.312666528346285e-6, r = 1.1181592110805385e-8, TAS = 40.0, α = 0.08561184859652846, β = 6.505213034913026e-20, f_x = 0.8359978384373595, f_y = -0.017378045424257284, f_z = -9.741111088900187, ω_eng = 216.48101882576267, m_fuel = 56.7), [3.6261909816387636e-9 9.566560168063193e-10 … 0.0 0.0; 6.457131226750008e-12 -5.220295714283785e-14 … 0.0 0.0; … ; 0.0 0.0 … -8.62871435815466 0.0; 0.0 0.0 … -2.528153205080376e-7 0.0], [0.0 0.0 0.0 0.0; 0.0 0.0 0.0 0.0; … ; 1146.115575517927 0.0 0.0 0.0; -4.319015260989545e-5 0.0 0.0 0.0], [1.0000000000001363 0.0 … 0.0 0.0; 9.313225746154785e-10 1.0 … 0.0 0.0; … ; 0.0 0.0 … 0.9999999964922724 0.0; 0.0 0.0 … 0.0 113.40000009536743], [0.0 0.0 0.0 0.0; 0.0 0.0 0.0 0.0; … ; 0.0 0.0 0.0 0.0; 0.0 0.0 0.0 0.0], (ψ = 0.0, θ = 0.08561171298659943, φ = 0.0017842509486882458, ϕ = 0.0, λ = 0.0, h = 1017.1620006561279, p = -9.53152357477025e-10, q = -6.312666528346285e-6, r = 1.1181592110805385e-8, v_x = 39.85350173895568, v_y = 2.6020852139652106e-18, v_z = 3.420292259889023, α_filt = 0.08561184859652844, β_filt = 0.0, ω_eng = 216.48101882576267, fuel = 0.5), (ψ = 0.0, θ = 0.08561171298659943, φ = 0.0017842509486882458, ϕ = 0.0, λ = 0.0, h = 1017.1620006561279, p = -9.53152357477025e-10, q = -6.312666528346285e-6, r = 1.1181592110805385e-8, TAS = 40.0, α = 0.08561184859652846, β = 6.505213034913026e-20, f_x = 0.8359978384373595, f_y = -0.017378045424257284, f_z = -9.741111088900187, ω_eng = 216.48101882576267, m_fuel = 56.7), (ψ = 0.0, θ = 0.08561171298659943, φ = 0.0017842509486882458, ϕ = 0.0, λ = 0.0, h = 1017.1620006561279, p = -9.53152357477025e-10, q = -6.312666528346285e-6, r = 1.1181592110805385e-8, TAS = 40.0, α = 0.08561184859652846, β = 6.505213034913026e-20, f_x = 0.8359978384373595, f_y = -0.017378045424257284, f_z = -9.741111088900187, ω_eng = 216.48101882576267, m_fuel = 56.7), (ψ = 0.0, θ = 0.08561171298659943, φ = 0.0017842509486882458, ϕ = 0.0, λ = 0.0, h = 1017.1620006561279, p = -9.53152357477025e-10, q = -6.312666528346285e-6, r = 1.1181592110805385e-8, v_x = 39.85350173895568, v_y = 2.6020852139652106e-18, v_z = 3.420292259889023, α_filt = 0.08561184859652844, β_filt = 0.0, ω_eng = 216.48101882576267, fuel = 0.5), (throttle = 0.6107599949709629, aileron = 0.0, elevator = 0.0, rudder = 0.0))"
      ]
     },
     "metadata": {},
     "output_type": "display_data"
    }
   ],
   "source": [
    "ac = Cessna172Rv0(NED()) |> System #must use NED kinematics\n",
    "trim_params = C172Rv0.TrimParameters(\n",
    "    loc = LatLon(),\n",
    "    h = HOrth(1000),\n",
    "    ψ_nb = 0.0,\n",
    "    TAS = 40.0,\n",
    "    γ_wOb_n = 0.0,\n",
    "    ψ_lb_dot = 0.00,\n",
    "    θ_lb_dot = 0.0,\n",
    "    β_a = 0.0,\n",
    "    fuel = 0.5,\n",
    "    mixture = 0.5,\n",
    "    flaps = 0.0)\n",
    "\n",
    "lm = linearize!(ac; trim_params)\n"
   ]
  },
  {
   "cell_type": "code",
   "execution_count": 83,
   "metadata": {},
   "outputs": [
    {
     "data": {
      "text/plain": [
       "LinearStateSpace{6, 2, 7, ComponentArrays.ComponentVector{Float64, Vector{Float64}, Tuple{ComponentArrays.Axis{(v_x = 1, v_z = 2, θ = 3, q = 4, α_filt = 5, ω_eng = 6)}}}, ComponentArrays.ComponentVector{Float64, Vector{Float64}, Tuple{ComponentArrays.Axis{(elevator = 1, throttle = 2)}}}, ComponentArrays.ComponentVector{Float64, Vector{Float64}, Tuple{ComponentArrays.Axis{(TAS = 1, α = 2, θ = 3, q = 4, f_x = 5, f_z = 6, ω_eng = 7)}}}, ComponentArrays.ComponentMatrix{Float64, Matrix{Float64}, Tuple{ComponentArrays.Axis{(v_x = 1, v_z = 2, θ = 3, q = 4, α_filt = 5, ω_eng = 6)}, ComponentArrays.Axis{(v_x = 1, v_z = 2, θ = 3, q = 4, α_filt = 5, ω_eng = 6)}}}, ComponentArrays.ComponentMatrix{Float64, Matrix{Float64}, Tuple{ComponentArrays.Axis{(v_x = 1, v_z = 2, θ = 3, q = 4, α_filt = 5, ω_eng = 6)}, ComponentArrays.Axis{(elevator = 1, throttle = 2)}}}, ComponentArrays.ComponentMatrix{Float64, Matrix{Float64}, Tuple{ComponentArrays.Axis{(TAS = 1, α = 2, θ = 3, q = 4, f_x = 5, f_z = 6, ω_eng = 7)}, ComponentArrays.Axis{(v_x = 1, v_z = 2, θ = 3, q = 4, α_filt = 5, ω_eng = 6)}}}, ComponentArrays.ComponentMatrix{Float64, Matrix{Float64}, Tuple{ComponentArrays.Axis{(TAS = 1, α = 2, θ = 3, q = 4, f_x = 5, f_z = 6, ω_eng = 7)}, ComponentArrays.Axis{(elevator = 1, throttle = 2)}}}}((v_x = -2.227035510313438e-7, v_z = 1.1397991034537993e-6, θ = 0.0, q = -2.3684146707734907e-8, α_filt = 2.7755575615628914e-16, ω_eng = 7.556669580870741e-6), (v_x = 39.85350173895568, v_z = 3.420292259889023, θ = 0.08561171298659943, q = -6.312666528346285e-6, α_filt = 0.08561184859652844, ω_eng = 216.48101882576267), (elevator = 0.0, throttle = 0.6107599949709629), (TAS = 40.0, α = 0.08561184859652846, θ = 0.08561171298659943, q = -6.312666528346285e-6, f_x = 0.8359978384373595, f_z = -9.741111088900187, ω_eng = 216.48101882576267), [-0.1638286824110931 1.4120195890784535 … -28.447730116274187 0.01641193876882716; -0.30066271787163146 -2.1948155991079688 … 9.907953880198079 1.9111958751111515e-5; … ; -0.04275365279973061 0.4981687719524027 … -20.0 0.0; 16.91494776821028 1.4516789756903596 … 0.0 -8.62871435815466], [-5.841395241842269 0.0; 2.8384013692599552 0.0; … ; 0.0 0.0; 0.0 1146.115575517927], [0.9963375438207679 0.08550730245540088 … 0.0 0.0; -0.002137682639986531 0.024908438597620135 … 0.0 0.0; … ; -0.3041471105752111 -2.1496495936956372 … 8.87537705898285 -5.6291542238385113e-5; 0.0 0.0 … 0.0 0.9999999964922724], [0.0 0.0; 0.0 0.0; … ; 2.643024444580078 0.0; 0.0 0.0], (v_x = 39.85350173895568, v_z = 3.420292259889023, θ = 0.08561171298659943, q = -6.312666528346285e-6, α_filt = 0.08561184859652844, ω_eng = 216.48101882576267), (TAS = 40.0, α = 0.08561184859652846, θ = 0.08561171298659943, q = -6.312666528346285e-6, f_x = 0.8359978384373595, f_z = -9.741111088900187, ω_eng = 216.48101882576267), (TAS = 40.0, α = 0.08561184859652846, θ = 0.08561171298659943, q = -6.312666528346285e-6, f_x = 0.8359978384373595, f_z = -9.741111088900187, ω_eng = 216.48101882576267), (v_x = 39.85350173895568, v_z = 3.420292259889023, θ = 0.08561171298659943, q = -6.312666528346285e-6, α_filt = 0.08561184859652844, ω_eng = 216.48101882576267), (elevator = 0.0, throttle = 0.6107599949709629))"
      ]
     },
     "metadata": {},
     "output_type": "display_data"
    }
   ],
   "source": [
    "long_dyn = filter(lm;\n",
    "    u = (:elevator, :throttle),\n",
    "    x = (:v_x, :v_z, :θ, :q, :α_filt, :ω_eng),\n",
    "    y = (:TAS, :α, :θ, :q, :f_x, :f_z, :ω_eng))\n",
    "\n",
    "#could reduce the model further for CAS by omitting omega_eng and throttle"
   ]
  },
  {
   "cell_type": "code",
   "execution_count": 85,
   "metadata": {},
   "outputs": [],
   "source": [
    "# world = SimpleWorld(Cessna172Rv0(LTF())) |> System; #for simulation, we use LTF kinematics"
   ]
  },
  {
   "cell_type": "code",
   "execution_count": 91,
   "metadata": {},
   "outputs": [
    {
     "name": "stdout",
     "output_type": "stream",
     "text": [
      "Simulation: Finished in 0.0092211 seconds\n"
     ]
    },
    {
     "name": "stdout",
     "output_type": "stream",
     "text": [
      "Saved figure tmp\\trim_sim_test\\common\\01_e_nb.png\n"
     ]
    },
    {
     "name": "stdout",
     "output_type": "stream",
     "text": [
      "Saved figure tmp\\trim_sim_test\\common\\02_Ob_geo.png\n"
     ]
    },
    {
     "name": "stdout",
     "output_type": "stream",
     "text": [
      "Saved figure tmp\\trim_sim_test\\common\\03_Ob_xyh.png"
     ]
    },
    {
     "name": "stdout",
     "output_type": "stream",
     "text": [
      "\n",
      "Saved figure tmp\\trim_sim_test\\common\\04_Ob_t3d.png\n"
     ]
    },
    {
     "name": "stdout",
     "output_type": "stream",
     "text": [
      "Saved figure tmp\\trim_sim_test\\common\\05_ω_lb_b.png\n"
     ]
    },
    {
     "name": "stdout",
     "output_type": "stream",
     "text": [
      "Saved figure tmp\\trim_sim_test\\common\\06_v_eOb_n.png\n"
     ]
    },
    {
     "name": "stdout",
     "output_type": "stream",
     "text": [
      "Saved figure tmp\\trim_sim_test\\common\\07_v_eOb_b.png\n"
     ]
    }
   ],
   "source": [
    "# #trim for the trim conditions above and simulate\n",
    "# (success, result) = trim!(world; trim_params)\n",
    "# @assert success\n",
    "# sim = Simulation(world; t_end = 30, adaptive = true)\n",
    "# Sim.run!(sim, verbose = true)\n",
    "# # plots = make_plots(sim; Plotting.defaults...)\n",
    "# plots = make_plots(TimeHistory(sim).ac.kinematics; Plotting.defaults...)\n",
    "# save_plots(plots, save_folder = joinpath(\"tmp\", \"trim_sim_test\"))"
   ]
  }
 ],
 "metadata": {
  "kernelspec": {
   "display_name": "Julia 1.8.2",
   "language": "julia",
   "name": "julia-1.8"
  },
  "language_info": {
   "file_extension": ".jl",
   "mimetype": "application/julia",
   "name": "julia",
   "version": "1.8.2"
  },
  "orig_nbformat": 4
 },
 "nbformat": 4,
 "nbformat_minor": 2
}
